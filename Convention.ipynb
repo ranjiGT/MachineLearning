{
  "nbformat": 4,
  "nbformat_minor": 0,
  "metadata": {
    "colab": {
      "name": "Convention.ipynb",
      "provenance": [],
      "collapsed_sections": [],
      "authorship_tag": "ABX9TyNVmBgMOVNFNs/oHrtLfWeO",
      "include_colab_link": true
    },
    "kernelspec": {
      "name": "python3",
      "display_name": "Python 3"
    }
  },
  "cells": [
    {
      "cell_type": "markdown",
      "metadata": {
        "id": "view-in-github",
        "colab_type": "text"
      },
      "source": [
        "<a href=\"https://colab.research.google.com/github/ranjiGT/MachineLearning/blob/master/Convention.ipynb\" target=\"_parent\"><img src=\"https://colab.research.google.com/assets/colab-badge.svg\" alt=\"Open In Colab\"/></a>"
      ]
    },
    {
      "cell_type": "code",
      "metadata": {
        "id": "Loz8Rs9jMJvZ",
        "colab_type": "code",
        "colab": {
          "base_uri": "https://localhost:8080/",
          "height": 52
        },
        "outputId": "1bbb6c0b-8f8d-4db1-b4c6-4557be68ae13"
      },
      "source": [
        "#This will not run\n",
        "print(\"Like this!\")\n",
        "'''print(\"Like this!\")\n",
        "print(\"Like this!\")\n",
        "print(\"Like this!\")'''"
      ],
      "execution_count": 4,
      "outputs": [
        {
          "output_type": "stream",
          "text": [
            "Like this!\n"
          ],
          "name": "stdout"
        },
        {
          "output_type": "execute_result",
          "data": {
            "application/vnd.google.colaboratory.intrinsic+json": {
              "type": "string"
            },
            "text/plain": [
              "'print(\"Like this!\")\\nprint(\"Like this!\")\\nprint(\"Like this!\")'"
            ]
          },
          "metadata": {
            "tags": []
          },
          "execution_count": 4
        }
      ]
    },
    {
      "cell_type": "markdown",
      "metadata": {
        "id": "OLmAFtUROAMD",
        "colab_type": "text"
      },
      "source": [
        "# **Identifier**\n",
        "identify a unit in a program \n",
        "# **variables**\n",
        "reserved memory locations"
      ]
    },
    {
      "cell_type": "markdown",
      "metadata": {
        "id": "9ipGkAVedrpj",
        "colab_type": "text"
      },
      "source": [
        "# **List of built-in Data types in Python 3**\n",
        "int\n",
        "\n",
        "float\n",
        "\n",
        "complex\n",
        "\n",
        "bool\n",
        "\n",
        "- **these are sequence types:** \n",
        "str\n",
        "bytes\n",
        "bytearray\n",
        "range\n",
        "list\n",
        "tuple\n",
        "\n",
        "\n",
        "set\n",
        "\n",
        "frozenset\n",
        "\n",
        "dict\n",
        "\n",
        "NoneType"
      ]
    },
    {
      "cell_type": "code",
      "metadata": {
        "id": "GczsaGHOOZbE",
        "colab_type": "code",
        "colab": {
          "base_uri": "https://localhost:8080/",
          "height": 34
        },
        "outputId": "3284525e-7fa3-4e1b-a0eb-bb1c5b7e8a51"
      },
      "source": [
        "a = 10\n",
        "a \n",
        "type(a)\n",
        "id(a)"
      ],
      "execution_count": 10,
      "outputs": [
        {
          "output_type": "execute_result",
          "data": {
            "text/plain": [
              "10914784"
            ]
          },
          "metadata": {
            "tags": []
          },
          "execution_count": 10
        }
      ]
    },
    {
      "cell_type": "code",
      "metadata": {
        "id": "-v6Qq8kXPvrA",
        "colab_type": "code",
        "colab": {
          "base_uri": "https://localhost:8080/",
          "height": 34
        },
        "outputId": "27c0b3f7-ec0f-4331-a7eb-fdd282779c9c"
      },
      "source": [
        "b = a \n",
        "b\n",
        "id(b)"
      ],
      "execution_count": 12,
      "outputs": [
        {
          "output_type": "execute_result",
          "data": {
            "text/plain": [
              "10914784"
            ]
          },
          "metadata": {
            "tags": []
          },
          "execution_count": 12
        }
      ]
    },
    {
      "cell_type": "code",
      "metadata": {
        "id": "IkzTOSMTQNiG",
        "colab_type": "code",
        "colab": {
          "base_uri": "https://localhost:8080/",
          "height": 54
        },
        "outputId": "2097e3b1-dcec-4ea8-886b-59fa51a0bc6e"
      },
      "source": [
        "import keyword\n",
        "print(keyword.kwlist)"
      ],
      "execution_count": 13,
      "outputs": [
        {
          "output_type": "stream",
          "text": [
            "['False', 'None', 'True', 'and', 'as', 'assert', 'break', 'class', 'continue', 'def', 'del', 'elif', 'else', 'except', 'finally', 'for', 'from', 'global', 'if', 'import', 'in', 'is', 'lambda', 'nonlocal', 'not', 'or', 'pass', 'raise', 'return', 'try', 'while', 'with', 'yield']\n"
          ],
          "name": "stdout"
        }
      ]
    },
    {
      "cell_type": "code",
      "metadata": {
        "id": "o3WGV7kKQ7Dw",
        "colab_type": "code",
        "colab": {
          "base_uri": "https://localhost:8080/",
          "height": 34
        },
        "outputId": "dbdeabb2-7869-4116-99e4-20f5dd6a55c1"
      },
      "source": [
        "s = 2+3j\n",
        "s\n",
        "type(s)"
      ],
      "execution_count": 15,
      "outputs": [
        {
          "output_type": "execute_result",
          "data": {
            "text/plain": [
              "complex"
            ]
          },
          "metadata": {
            "tags": []
          },
          "execution_count": 15
        }
      ]
    },
    {
      "cell_type": "code",
      "metadata": {
        "id": "Yt1iOyrgRj2I",
        "colab_type": "code",
        "colab": {
          "base_uri": "https://localhost:8080/",
          "height": 34
        },
        "outputId": "d54a4552-7704-4d68-c87e-254854f630b6"
      },
      "source": [
        "a = \"h\"\n",
        "ord(a)"
      ],
      "execution_count": 20,
      "outputs": [
        {
          "output_type": "execute_result",
          "data": {
            "text/plain": [
              "104"
            ]
          },
          "metadata": {
            "tags": []
          },
          "execution_count": 20
        }
      ]
    },
    {
      "cell_type": "code",
      "metadata": {
        "id": "rMC70dHfSBuz",
        "colab_type": "code",
        "colab": {}
      },
      "source": [
        "x = input(\"Enter a number: \")\n",
        "y = int(x)\n",
        "\n",
        "b = input(\"Enter second number: \")\n",
        "c = int(b)\n",
        "\n",
        "res = y + c\n",
        "res\n",
        "type(res)"
      ],
      "execution_count": null,
      "outputs": []
    },
    {
      "cell_type": "code",
      "metadata": {
        "id": "HPjiiMD1TqpX",
        "colab_type": "code",
        "colab": {
          "base_uri": "https://localhost:8080/",
          "height": 67
        },
        "outputId": "30f37d86-d37a-4b09-88eb-0d699aada3fc"
      },
      "source": [
        "#Calculate the factorial\n",
        "from math import *\n",
        "x = input(\"Enter a number: \")\n",
        "y = int(x)\n",
        "print(\"The entered number is: \", y)\n",
        "fact = factorial(y)\n",
        "print(\"Factorial is\",fact)"
      ],
      "execution_count": 37,
      "outputs": [
        {
          "output_type": "stream",
          "text": [
            "Enter a number: 4\n",
            "The entered number is:  4\n",
            "Factorial is 24\n"
          ],
          "name": "stdout"
        }
      ]
    }
  ]
}