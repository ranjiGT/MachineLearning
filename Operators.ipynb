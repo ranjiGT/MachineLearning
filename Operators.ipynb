{
  "nbformat": 4,
  "nbformat_minor": 0,
  "metadata": {
    "colab": {
      "name": "Operators.ipynb",
      "provenance": [],
      "authorship_tag": "ABX9TyMo2K8+MNwwiLycRyi3sgl/",
      "include_colab_link": true
    },
    "kernelspec": {
      "name": "python3",
      "display_name": "Python 3"
    }
  },
  "cells": [
    {
      "cell_type": "markdown",
      "metadata": {
        "id": "view-in-github",
        "colab_type": "text"
      },
      "source": [
        "<a href=\"https://colab.research.google.com/github/ranjiGT/MachineLearning/blob/master/Operators.ipynb\" target=\"_parent\"><img src=\"https://colab.research.google.com/assets/colab-badge.svg\" alt=\"Open In Colab\"/></a>"
      ]
    },
    {
      "cell_type": "markdown",
      "metadata": {
        "id": "R6i6dQGWEPH7",
        "colab_type": "text"
      },
      "source": [
        "# **Operators**\n",
        "\n",
        "Arithmetic,\n",
        "Relational,\n",
        "Logical,\n",
        "Bitwise,\n",
        "Assignment,\n",
        "Identity,\n",
        "Membership.\n",
        "\n",
        "***Python has no increment (pre/post), decrement (pre/post), ternary operators(? :), No Infix, Prefix, Postfix notations**"
      ]
    },
    {
      "cell_type": "markdown",
      "metadata": {
        "id": "m_dBEMblnRoO",
        "colab_type": "text"
      },
      "source": [
        "# ***Number Systems (Hexadecimal/ Octal/ Binary)***"
      ]
    },
    {
      "cell_type": "code",
      "metadata": {
        "id": "t8OquPUwzgMy",
        "colab_type": "code",
        "colab": {
          "base_uri": "https://localhost:8080/",
          "height": 34
        },
        "outputId": "1d7c5432-7aa3-4c45-a937-b56c1690cec5"
      },
      "source": [
        "var = 116\n",
        "y = hex(var)\n",
        "print(y[2::])"
      ],
      "execution_count": 65,
      "outputs": [
        {
          "output_type": "stream",
          "text": [
            "74\n"
          ],
          "name": "stdout"
        }
      ]
    },
    {
      "cell_type": "markdown",
      "metadata": {
        "id": "phZbN8a5n-2B",
        "colab_type": "text"
      },
      "source": [
        "# ***Arithmetic Operators***\n",
        "\n",
        "\n"
      ]
    },
    {
      "cell_type": "code",
      "metadata": {
        "id": "fgyBmE8h0rnm",
        "colab_type": "code",
        "colab": {
          "base_uri": "https://localhost:8080/",
          "height": 34
        },
        "outputId": "ee90b085-92bb-4162-de68-c8251de26136"
      },
      "source": [
        "x = \"Ranji \"\n",
        "y = \"Raj\"\n",
        "z = x * 3\n",
        "print(z)"
      ],
      "execution_count": 76,
      "outputs": [
        {
          "output_type": "stream",
          "text": [
            "Ranji Ranji Ranji \n"
          ],
          "name": "stdout"
        }
      ]
    },
    {
      "cell_type": "markdown",
      "metadata": {
        "id": "kFrUXChxosrw",
        "colab_type": "text"
      },
      "source": [
        "# ***Relational Operators***"
      ]
    },
    {
      "cell_type": "code",
      "metadata": {
        "id": "ZYg7f8zQ2BN1",
        "colab_type": "code",
        "colab": {
          "base_uri": "https://localhost:8080/",
          "height": 34
        },
        "outputId": "a6f06a1a-22ce-4d82-d81d-4cf36969e387"
      },
      "source": [
        "a = 8 + 6j\n",
        "b = 8 + 6j\n",
        "c = a == b\n",
        "print(c)"
      ],
      "execution_count": 83,
      "outputs": [
        {
          "output_type": "stream",
          "text": [
            "True\n"
          ],
          "name": "stdout"
        }
      ]
    },
    {
      "cell_type": "markdown",
      "metadata": {
        "id": "xtfZ9e15ozZi",
        "colab_type": "text"
      },
      "source": [
        "# ***Logical Operators***"
      ]
    },
    {
      "cell_type": "code",
      "metadata": {
        "id": "v-wlk_cZ24Ou",
        "colab_type": "code",
        "colab": {
          "base_uri": "https://localhost:8080/",
          "height": 35
        },
        "outputId": "80afa0bb-0c19-4b62-a552-2744c7163f38"
      },
      "source": [
        " x = \"A\"\n",
        " y = \"B\"\n",
        "x and y"
      ],
      "execution_count": 87,
      "outputs": [
        {
          "output_type": "execute_result",
          "data": {
            "application/vnd.google.colaboratory.intrinsic+json": {
              "type": "string"
            },
            "text/plain": [
              "'B'"
            ]
          },
          "metadata": {
            "tags": []
          },
          "execution_count": 87
        }
      ]
    },
    {
      "cell_type": "markdown",
      "metadata": {
        "id": "EuDpiVSJo3hK",
        "colab_type": "text"
      },
      "source": [
        "# ***Bitwise Operators***"
      ]
    },
    {
      "cell_type": "code",
      "metadata": {
        "id": "gRg_qZb94AtH",
        "colab_type": "code",
        "colab": {
          "base_uri": "https://localhost:8080/",
          "height": 34
        },
        "outputId": "e360787b-350c-4f33-af91-e617a66abc92"
      },
      "source": [
        "~4"
      ],
      "execution_count": 93,
      "outputs": [
        {
          "output_type": "execute_result",
          "data": {
            "text/plain": [
              "-5"
            ]
          },
          "metadata": {
            "tags": []
          },
          "execution_count": 93
        }
      ]
    },
    {
      "cell_type": "markdown",
      "metadata": {
        "id": "1GYQAifLo9LF",
        "colab_type": "text"
      },
      "source": [
        "# ***Assignment Operators***"
      ]
    },
    {
      "cell_type": "code",
      "metadata": {
        "id": "JqxW1gJU4hjI",
        "colab_type": "code",
        "colab": {
          "base_uri": "https://localhost:8080/",
          "height": 34
        },
        "outputId": "ed575ed5-7013-4489-90ed-78a413ca6b83"
      },
      "source": [
        "x = 10\n",
        "x = x * 4 + 15\n",
        "x "
      ],
      "execution_count": 98,
      "outputs": [
        {
          "output_type": "execute_result",
          "data": {
            "text/plain": [
              "55"
            ]
          },
          "metadata": {
            "tags": []
          },
          "execution_count": 98
        }
      ]
    },
    {
      "cell_type": "markdown",
      "metadata": {
        "id": "qKV5x-H1pFAd",
        "colab_type": "text"
      },
      "source": [
        "# ***Identity Operator***"
      ]
    },
    {
      "cell_type": "code",
      "metadata": {
        "id": "CLfnwhIW6MJn",
        "colab_type": "code",
        "colab": {
          "base_uri": "https://localhost:8080/",
          "height": 34
        },
        "outputId": "61616180-5767-4157-da59-e658f36db61f"
      },
      "source": [
        "x = 5\n",
        "y = 5\n",
        "x is y \n"
      ],
      "execution_count": 102,
      "outputs": [
        {
          "output_type": "execute_result",
          "data": {
            "text/plain": [
              "True"
            ]
          },
          "metadata": {
            "tags": []
          },
          "execution_count": 102
        }
      ]
    },
    {
      "cell_type": "markdown",
      "metadata": {
        "id": "O_IL9LCppILZ",
        "colab_type": "text"
      },
      "source": [
        "# ***Membership Operator***"
      ]
    },
    {
      "cell_type": "code",
      "metadata": {
        "id": "cSbgzz3K6zlw",
        "colab_type": "code",
        "colab": {
          "base_uri": "https://localhost:8080/",
          "height": 34
        },
        "outputId": "28a99a44-dec3-4c76-bb9a-7a789a1cb44c"
      },
      "source": [
        "x = \"Henry\"\n",
        "\"h\" not in x"
      ],
      "execution_count": 108,
      "outputs": [
        {
          "output_type": "execute_result",
          "data": {
            "text/plain": [
              "True"
            ]
          },
          "metadata": {
            "tags": []
          },
          "execution_count": 108
        }
      ]
    }
  ]
}