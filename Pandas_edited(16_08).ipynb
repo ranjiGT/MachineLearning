{
  "nbformat": 4,
  "nbformat_minor": 0,
  "metadata": {
    "kernelspec": {
      "display_name": "Python 3",
      "language": "python",
      "name": "python3"
    },
    "language_info": {
      "codemirror_mode": {
        "name": "ipython",
        "version": 3
      },
      "file_extension": ".py",
      "mimetype": "text/x-python",
      "name": "python",
      "nbconvert_exporter": "python",
      "pygments_lexer": "ipython3",
      "version": "3.6.3"
    },
    "colab": {
      "name": "Pandas-edited(16/08).ipynb",
      "provenance": [],
      "collapsed_sections": [
        "GrOP2mESEo4V",
        "H3FUTStJEo5m",
        "0aeHZuj1Eo6M",
        "Lev0ALNkEo6w",
        "1-tna1HVEo7D",
        "Tj6zI-csEo7E",
        "3BCmRbFYEo7i"
      ],
      "include_colab_link": true
    }
  },
  "cells": [
    {
      "cell_type": "markdown",
      "metadata": {
        "id": "view-in-github",
        "colab_type": "text"
      },
      "source": [
        "<a href=\"https://colab.research.google.com/github/ranjiGT/MachineLearning/blob/master/Pandas_edited(16_08).ipynb\" target=\"_parent\"><img src=\"https://colab.research.google.com/assets/colab-badge.svg\" alt=\"Open In Colab\"/></a>"
      ]
    },
    {
      "cell_type": "markdown",
      "metadata": {
        "id": "DwmSGn7dEo1S",
        "colab_type": "text"
      },
      "source": [
        "[Basic Data Exploration](#basic-explor)\n",
        "\n",
        "[Bivariate analysis](#bivar)"
      ]
    },
    {
      "cell_type": "markdown",
      "metadata": {
        "id": "BhnmT92qEo1T",
        "colab_type": "text"
      },
      "source": [
        "## Course Structure\n",
        "\n",
        "1. Module 0 - Native Data Types in Python\n",
        "2. Module 1 - Intro to Pandas library & Basis Dataframe attributes\n",
        "3. Module 2 - Common Data manipulation tasks using Pandas\n",
        "4. Module 3 - Loops and Functions \n",
        "5. Module 4 - Visualization\n",
        "6. Module 5 - Other miscellaneous topics"
      ]
    },
    {
      "cell_type": "markdown",
      "metadata": {
        "id": "x0_EB2WmEo1Y",
        "colab_type": "text"
      },
      "source": [
        "# Basic data types"
      ]
    },
    {
      "cell_type": "code",
      "metadata": {
        "id": "BqzyKgxbEo1Z",
        "colab_type": "code",
        "colab": {}
      },
      "source": [
        "from IPython.core.interactiveshell import InteractiveShell\n",
        "InteractiveShell.ast_node_interactivity = \"all\""
      ],
      "execution_count": null,
      "outputs": []
    },
    {
      "cell_type": "code",
      "metadata": {
        "id": "irtPaeayEo1e",
        "colab_type": "code",
        "colab": {}
      },
      "source": [
        "x = [1,\"b\",3]"
      ],
      "execution_count": null,
      "outputs": []
    },
    {
      "cell_type": "code",
      "metadata": {
        "id": "fS5f4v07Eo1i",
        "colab_type": "code",
        "colab": {}
      },
      "source": [
        "x[1]"
      ],
      "execution_count": null,
      "outputs": []
    },
    {
      "cell_type": "code",
      "metadata": {
        "id": "ZOCUPqDIEo1r",
        "colab_type": "code",
        "colab": {}
      },
      "source": [
        "student_dict = {\"s_1\":[\"IBM\",\"TCS\"],\"s_2\" :[\"HP\"], \"s_3\":[\"INFOSYS\",\"WIPRO\"]}"
      ],
      "execution_count": null,
      "outputs": []
    },
    {
      "cell_type": "code",
      "metadata": {
        "id": "2e88fDqiEo1z",
        "colab_type": "code",
        "colab": {}
      },
      "source": [
        "[val for k,val in student_dict.items()]"
      ],
      "execution_count": null,
      "outputs": []
    },
    {
      "cell_type": "code",
      "metadata": {
        "id": "Mi2aUm90mAtH",
        "colab_type": "code",
        "colab": {}
      },
      "source": [
        "student_dict.keys()"
      ],
      "execution_count": null,
      "outputs": []
    },
    {
      "cell_type": "code",
      "metadata": {
        "id": "qArFaLglEo1-",
        "colab_type": "code",
        "colab": {}
      },
      "source": [
        "x = [\"abe\",1,\"c\"]"
      ],
      "execution_count": null,
      "outputs": []
    },
    {
      "cell_type": "code",
      "metadata": {
        "id": "onNaiDwjEo2C",
        "colab_type": "code",
        "colab": {}
      },
      "source": [
        "dist_ex = {\"S1\":[\"HCL\",\"TCS\"],\"S2\":[\"Benz\"]}"
      ],
      "execution_count": null,
      "outputs": []
    },
    {
      "cell_type": "code",
      "metadata": {
        "id": "SvgK0t8CEo2G",
        "colab_type": "code",
        "colab": {}
      },
      "source": [
        "for k,v in dist_ex.items():\n",
        "    if k == \"S1\":\n",
        "        print(k)"
      ],
      "execution_count": null,
      "outputs": []
    },
    {
      "cell_type": "code",
      "metadata": {
        "id": "vAI51NC2Eo2M",
        "colab_type": "code",
        "colab": {}
      },
      "source": [
        "x.append(\"h\")"
      ],
      "execution_count": null,
      "outputs": []
    },
    {
      "cell_type": "code",
      "metadata": {
        "id": "8CS0qJa6Eo2P",
        "colab_type": "code",
        "colab": {}
      },
      "source": [
        "x"
      ],
      "execution_count": null,
      "outputs": []
    },
    {
      "cell_type": "code",
      "metadata": {
        "id": "O2yYYAzlEo2T",
        "colab_type": "code",
        "colab": {}
      },
      "source": [
        "tup_ex = (1,2,3,1)"
      ],
      "execution_count": null,
      "outputs": []
    },
    {
      "cell_type": "code",
      "metadata": {
        "id": "kJ8e_O0eEo2a",
        "colab_type": "code",
        "colab": {}
      },
      "source": [
        "!pip install pandas"
      ],
      "execution_count": null,
      "outputs": []
    },
    {
      "cell_type": "code",
      "metadata": {
        "id": "IhrCc-p-Eo2f",
        "colab_type": "code",
        "colab": {}
      },
      "source": [
        "list_ex = [1,2,3]\n",
        "dist_ex = {\"Age\":25,\"Weight\":70}\n",
        "\n",
        "tup_ex = (1,2,3,1)"
      ],
      "execution_count": null,
      "outputs": []
    },
    {
      "cell_type": "code",
      "metadata": {
        "id": "PgwqPeCOEo2j",
        "colab_type": "code",
        "colab": {}
      },
      "source": [
        "from pandas import read_csv\n"
      ],
      "execution_count": null,
      "outputs": []
    },
    {
      "cell_type": "code",
      "metadata": {
        "id": "NiQt5tjAEo2p",
        "colab_type": "code",
        "colab": {}
      },
      "source": [
        "# read the data\n",
        "import pandas as pd\n",
        "import numpy as np\n",
        "df = pd.read_csv(\"Uber Drives 2016.csv\")"
      ],
      "execution_count": 3,
      "outputs": []
    },
    {
      "cell_type": "code",
      "metadata": {
        "id": "WP6JfrooEo2u",
        "colab_type": "code",
        "colab": {
          "base_uri": "https://localhost:8080/",
          "height": 402
        },
        "outputId": "6962a5c0-9ce5-4eb5-d1a3-f7281a57b2a6"
      },
      "source": [
        "df = pd.read_csv(\"Uber Drives 2016.csv\")\n",
        "df\n",
        "\n",
        "#dfO = pd.read_csv(\"Ola_Rides_2018.csv\")\n",
        "#dfO"
      ],
      "execution_count": 4,
      "outputs": [
        {
          "output_type": "execute_result",
          "data": {
            "text/html": [
              "<div>\n",
              "<style scoped>\n",
              "    .dataframe tbody tr th:only-of-type {\n",
              "        vertical-align: middle;\n",
              "    }\n",
              "\n",
              "    .dataframe tbody tr th {\n",
              "        vertical-align: top;\n",
              "    }\n",
              "\n",
              "    .dataframe thead th {\n",
              "        text-align: right;\n",
              "    }\n",
              "</style>\n",
              "<table border=\"1\" class=\"dataframe\">\n",
              "  <thead>\n",
              "    <tr style=\"text-align: right;\">\n",
              "      <th></th>\n",
              "      <th>START_DATE*</th>\n",
              "      <th>END_DATE*</th>\n",
              "      <th>CATEGORY*</th>\n",
              "      <th>START*</th>\n",
              "      <th>STOP*</th>\n",
              "      <th>MILES*</th>\n",
              "      <th>PURPOSE*</th>\n",
              "    </tr>\n",
              "  </thead>\n",
              "  <tbody>\n",
              "    <tr>\n",
              "      <th>0</th>\n",
              "      <td>01-01-2016 21:11</td>\n",
              "      <td>01-01-2016 21:17</td>\n",
              "      <td>Business</td>\n",
              "      <td>Fort Pierce</td>\n",
              "      <td>Fort Pierce</td>\n",
              "      <td>5.1</td>\n",
              "      <td>Meal-Entertain</td>\n",
              "    </tr>\n",
              "    <tr>\n",
              "      <th>1</th>\n",
              "      <td>01-02-2016 01:25</td>\n",
              "      <td>01-02-2016 01:37</td>\n",
              "      <td>Business</td>\n",
              "      <td>Fort Pierce</td>\n",
              "      <td>Fort Pierce</td>\n",
              "      <td>5.0</td>\n",
              "      <td>NaN</td>\n",
              "    </tr>\n",
              "    <tr>\n",
              "      <th>2</th>\n",
              "      <td>01-02-2016 20:25</td>\n",
              "      <td>01-02-2016 20:38</td>\n",
              "      <td>Business</td>\n",
              "      <td>Fort Pierce</td>\n",
              "      <td>Fort Pierce</td>\n",
              "      <td>4.8</td>\n",
              "      <td>Errand-Supplies</td>\n",
              "    </tr>\n",
              "    <tr>\n",
              "      <th>3</th>\n",
              "      <td>01-05-2016 17:31</td>\n",
              "      <td>01-05-2016 17:45</td>\n",
              "      <td>Business</td>\n",
              "      <td>Fort Pierce</td>\n",
              "      <td>Fort Pierce</td>\n",
              "      <td>4.7</td>\n",
              "      <td>Meeting</td>\n",
              "    </tr>\n",
              "    <tr>\n",
              "      <th>4</th>\n",
              "      <td>01-06-2016 14:42</td>\n",
              "      <td>01-06-2016 15:49</td>\n",
              "      <td>Business</td>\n",
              "      <td>Fort Pierce</td>\n",
              "      <td>West Palm Beach</td>\n",
              "      <td>63.7</td>\n",
              "      <td>Customer Visit</td>\n",
              "    </tr>\n",
              "    <tr>\n",
              "      <th>...</th>\n",
              "      <td>...</td>\n",
              "      <td>...</td>\n",
              "      <td>...</td>\n",
              "      <td>...</td>\n",
              "      <td>...</td>\n",
              "      <td>...</td>\n",
              "      <td>...</td>\n",
              "    </tr>\n",
              "    <tr>\n",
              "      <th>1151</th>\n",
              "      <td>12-31-2016 13:24</td>\n",
              "      <td>12-31-2016 13:42</td>\n",
              "      <td>Business</td>\n",
              "      <td>Kar?chi</td>\n",
              "      <td>Unknown Location</td>\n",
              "      <td>3.9</td>\n",
              "      <td>Temporary Site</td>\n",
              "    </tr>\n",
              "    <tr>\n",
              "      <th>1152</th>\n",
              "      <td>12-31-2016 15:03</td>\n",
              "      <td>12-31-2016 15:38</td>\n",
              "      <td>Business</td>\n",
              "      <td>Unknown Location</td>\n",
              "      <td>Unknown Location</td>\n",
              "      <td>16.2</td>\n",
              "      <td>Meeting</td>\n",
              "    </tr>\n",
              "    <tr>\n",
              "      <th>1153</th>\n",
              "      <td>12-31-2016 21:32</td>\n",
              "      <td>12-31-2016 21:50</td>\n",
              "      <td>Business</td>\n",
              "      <td>Katunayake</td>\n",
              "      <td>Gampaha</td>\n",
              "      <td>6.4</td>\n",
              "      <td>Temporary Site</td>\n",
              "    </tr>\n",
              "    <tr>\n",
              "      <th>1154</th>\n",
              "      <td>12-31-2016 22:08</td>\n",
              "      <td>12-31-2016 23:51</td>\n",
              "      <td>Business</td>\n",
              "      <td>Gampaha</td>\n",
              "      <td>Ilukwatta</td>\n",
              "      <td>48.2</td>\n",
              "      <td>Temporary Site</td>\n",
              "    </tr>\n",
              "    <tr>\n",
              "      <th>1155</th>\n",
              "      <td>NaN</td>\n",
              "      <td>NaN</td>\n",
              "      <td>NaN</td>\n",
              "      <td>NaN</td>\n",
              "      <td>NaN</td>\n",
              "      <td>12204.7</td>\n",
              "      <td>NaN</td>\n",
              "    </tr>\n",
              "  </tbody>\n",
              "</table>\n",
              "<p>1156 rows × 7 columns</p>\n",
              "</div>"
            ],
            "text/plain": [
              "           START_DATE*         END_DATE*  ...   MILES*         PURPOSE*\n",
              "0     01-01-2016 21:11  01-01-2016 21:17  ...      5.1   Meal-Entertain\n",
              "1     01-02-2016 01:25  01-02-2016 01:37  ...      5.0              NaN\n",
              "2     01-02-2016 20:25  01-02-2016 20:38  ...      4.8  Errand-Supplies\n",
              "3     01-05-2016 17:31  01-05-2016 17:45  ...      4.7          Meeting\n",
              "4     01-06-2016 14:42  01-06-2016 15:49  ...     63.7   Customer Visit\n",
              "...                ...               ...  ...      ...              ...\n",
              "1151  12-31-2016 13:24  12-31-2016 13:42  ...      3.9   Temporary Site\n",
              "1152  12-31-2016 15:03  12-31-2016 15:38  ...     16.2          Meeting\n",
              "1153  12-31-2016 21:32  12-31-2016 21:50  ...      6.4   Temporary Site\n",
              "1154  12-31-2016 22:08  12-31-2016 23:51  ...     48.2   Temporary Site\n",
              "1155               NaN               NaN  ...  12204.7              NaN\n",
              "\n",
              "[1156 rows x 7 columns]"
            ]
          },
          "metadata": {
            "tags": []
          },
          "execution_count": 4
        }
      ]
    },
    {
      "cell_type": "code",
      "metadata": {
        "id": "ADjMk45lsMYE",
        "colab_type": "code",
        "colab": {}
      },
      "source": [
        "df9 = pd.read_csv(\"winequality-red.csv\")\n",
        "df9\n",
        "#df9.dtypes"
      ],
      "execution_count": null,
      "outputs": []
    },
    {
      "cell_type": "code",
      "metadata": {
        "id": "jImbG94RNFW9",
        "colab_type": "code",
        "colab": {}
      },
      "source": [
        "df.dtypes"
      ],
      "execution_count": null,
      "outputs": []
    },
    {
      "cell_type": "markdown",
      "metadata": {
        "id": "Yg5pr3pmEo2y",
        "colab_type": "text"
      },
      "source": [
        "# Key Modules\n",
        "\n",
        "1. Basic Dataframe operations\n",
        "2. Common data manipulation tasks\n",
        "3. Loops and Functions"
      ]
    },
    {
      "cell_type": "markdown",
      "metadata": {
        "id": "oHVKgi5pEo2z",
        "colab_type": "text"
      },
      "source": [
        "## Basic dataframe operations"
      ]
    },
    {
      "cell_type": "code",
      "metadata": {
        "id": "hVpIMQzIEo20",
        "colab_type": "code",
        "colab": {}
      },
      "source": [
        "df.head()"
      ],
      "execution_count": null,
      "outputs": []
    },
    {
      "cell_type": "code",
      "metadata": {
        "id": "L4RZM_0GEo23",
        "colab_type": "code",
        "colab": {}
      },
      "source": [
        "df.shape"
      ],
      "execution_count": null,
      "outputs": []
    },
    {
      "cell_type": "code",
      "metadata": {
        "id": "Kl24MjXOEo29",
        "colab_type": "code",
        "colab": {}
      },
      "source": [
        "hasattr(df,\"head\")\n",
        "callable(getattr(df,\"head\"))"
      ],
      "execution_count": null,
      "outputs": []
    },
    {
      "cell_type": "code",
      "metadata": {
        "id": "TQLjQI9yEo3A",
        "colab_type": "code",
        "colab": {}
      },
      "source": [
        "df.tail()"
      ],
      "execution_count": null,
      "outputs": []
    },
    {
      "cell_type": "code",
      "metadata": {
        "id": "0qOvMR05Eo3E",
        "colab_type": "code",
        "colab": {}
      },
      "source": [
        "df.dtypes"
      ],
      "execution_count": null,
      "outputs": []
    },
    {
      "cell_type": "markdown",
      "metadata": {
        "id": "SpZNgFbnEo3H",
        "colab_type": "text"
      },
      "source": [
        "### Changing data types"
      ]
    },
    {
      "cell_type": "code",
      "metadata": {
        "id": "CZv9GIyYEo3J",
        "colab_type": "code",
        "colab": {}
      },
      "source": [
        "temp = pd.DataFrame({\"A\":[\"1\",\"2\",\"3\"],\"B\":[11,12,13],\"C\": [\"12-06-2012\",\"13-06-2015\",\"15-06-2017\"]})"
      ],
      "execution_count": null,
      "outputs": []
    },
    {
      "cell_type": "code",
      "metadata": {
        "id": "QLjPNlcTEo3O",
        "colab_type": "code",
        "colab": {}
      },
      "source": [
        "temp.dtypes"
      ],
      "execution_count": null,
      "outputs": []
    },
    {
      "cell_type": "code",
      "metadata": {
        "id": "i-9wC7jEEo3R",
        "colab_type": "code",
        "colab": {}
      },
      "source": [
        "temp[\"C\"] = pd.to_datetime(temp[\"C\"])\n",
        "temp[\"C\"]\n"
      ],
      "execution_count": null,
      "outputs": []
    },
    {
      "cell_type": "code",
      "metadata": {
        "id": "nJK68vWPEo3U",
        "colab_type": "code",
        "colab": {}
      },
      "source": [
        "temp[\"A\"] = pd.to_numeric(temp[\"A\"])"
      ],
      "execution_count": null,
      "outputs": []
    },
    {
      "cell_type": "code",
      "metadata": {
        "id": "J7IgV4tlEo3X",
        "colab_type": "code",
        "colab": {}
      },
      "source": [
        "temp.dtypes"
      ],
      "execution_count": null,
      "outputs": []
    },
    {
      "cell_type": "code",
      "metadata": {
        "id": "LqvOSABgEo3f",
        "colab_type": "code",
        "colab": {}
      },
      "source": [
        "\n",
        "temp[\"A\"] = temp[\"A\"].astype(str)"
      ],
      "execution_count": null,
      "outputs": []
    },
    {
      "cell_type": "code",
      "metadata": {
        "id": "HoIgtPVkEo3j",
        "colab_type": "code",
        "colab": {}
      },
      "source": [
        "temp.dtypes"
      ],
      "execution_count": null,
      "outputs": []
    },
    {
      "cell_type": "code",
      "metadata": {
        "id": "AtxWtNUxEo3n",
        "colab_type": "code",
        "colab": {
          "base_uri": "https://localhost:8080/",
          "height": 185
        },
        "outputId": "33256d19-f52d-4a75-a2dc-663a739ef44c"
      },
      "source": [
        "# convert data to datetime format\n",
        "pd.to_datetime(df[\"START_DATE*\"])\n",
        "df.dtypes\n",
        "# Available time formats: https://docs.python.org/3/library/datetime.html#strftime-and-strptime-behavior"
      ],
      "execution_count": null,
      "outputs": [
        {
          "output_type": "execute_result",
          "data": {
            "text/plain": [
              "START_DATE*    datetime64[ns]\n",
              "END_DATE*              object\n",
              "CATEGORY*              object\n",
              "START*                 object\n",
              "STOP*                  object\n",
              "MILES*                float64\n",
              "PURPOSE*               object\n",
              "miles_cat              object\n",
              "LMS                    object\n",
              "dtype: object"
            ]
          },
          "metadata": {
            "tags": []
          },
          "execution_count": 61
        }
      ]
    },
    {
      "cell_type": "markdown",
      "metadata": {
        "id": "gJVa_GIhEo3t",
        "colab_type": "text"
      },
      "source": [
        "### Dataset summarization methods"
      ]
    },
    {
      "cell_type": "code",
      "metadata": {
        "id": "1FpidLyKEo3v",
        "colab_type": "code",
        "colab": {}
      },
      "source": [
        "df.describe(include=\"all\")"
      ],
      "execution_count": null,
      "outputs": []
    },
    {
      "cell_type": "code",
      "metadata": {
        "id": "f6-JeFjcEo3y",
        "colab_type": "code",
        "colab": {}
      },
      "source": [
        "df.info()"
      ],
      "execution_count": null,
      "outputs": []
    },
    {
      "cell_type": "code",
      "metadata": {
        "id": "9nbz7Zx0Eo31",
        "colab_type": "code",
        "colab": {
          "base_uri": "https://localhost:8080/",
          "height": 118
        },
        "outputId": "74ab1e36-9c69-4c2b-d68b-b972d3ca2277"
      },
      "source": [
        "# count of unique start locations\n",
        "df[\"START*\"].value_counts().head()"
      ],
      "execution_count": null,
      "outputs": [
        {
          "output_type": "execute_result",
          "data": {
            "text/plain": [
              "Cary                201\n",
              "Unknown Location    148\n",
              "Morrisville          85\n",
              "Whitebridge          68\n",
              "Islamabad            57\n",
              "Name: START*, dtype: int64"
            ]
          },
          "metadata": {
            "tags": []
          },
          "execution_count": 6
        }
      ]
    },
    {
      "cell_type": "markdown",
      "metadata": {
        "id": "CU04dLnWEo34",
        "colab_type": "text"
      },
      "source": [
        "## Common data manipulation tasks"
      ]
    },
    {
      "cell_type": "markdown",
      "metadata": {
        "id": "lDQzHi9SEo34",
        "colab_type": "text"
      },
      "source": [
        "5 verbs of data manipulation\n",
        "\n",
        "1. Selecting/Indexing\n",
        "2. Filtering\n",
        "3. Sorting\n",
        "4. Mutating/ Conditionally adding columns\n",
        "5. Groupby/Summarize"
      ]
    },
    {
      "cell_type": "markdown",
      "metadata": {
        "id": "THijrYxFEo35",
        "colab_type": "text"
      },
      "source": [
        "### Select/Indexing\n"
      ]
    },
    {
      "cell_type": "code",
      "metadata": {
        "id": "z8r2GMIVEo35",
        "colab_type": "code",
        "colab": {}
      },
      "source": [
        "df.iloc[0:4,0:]"
      ],
      "execution_count": null,
      "outputs": []
    },
    {
      "cell_type": "code",
      "metadata": {
        "id": "_DqKS0vXh5dw",
        "colab_type": "code",
        "colab": {}
      },
      "source": [
        "df.iloc[0:5,[0,3]]"
      ],
      "execution_count": null,
      "outputs": []
    },
    {
      "cell_type": "code",
      "metadata": {
        "id": "5AFHmCBKEo3-",
        "colab_type": "code",
        "colab": {}
      },
      "source": [
        "## Positional Indexing\n",
        "df.iloc[0:4,[1,6]]"
      ],
      "execution_count": null,
      "outputs": []
    },
    {
      "cell_type": "code",
      "metadata": {
        "id": "uYFPAVOJEo4E",
        "colab_type": "code",
        "colab": {}
      },
      "source": [
        "df.iloc[0:4,0:3]"
      ],
      "execution_count": null,
      "outputs": []
    },
    {
      "cell_type": "code",
      "metadata": {
        "id": "Ec8XSIg9Eo4Q",
        "colab_type": "code",
        "colab": {}
      },
      "source": [
        "# label based indexing\n",
        "df.loc[:,[\"START_DATE*\",\"CATEGORY*\"]].head()"
      ],
      "execution_count": null,
      "outputs": []
    },
    {
      "cell_type": "code",
      "metadata": {
        "id": "IYwt-BddlZ__",
        "colab_type": "code",
        "colab": {}
      },
      "source": [
        "df[[\"START_DATE*\",\"CATEGORY*\"]].tail()"
      ],
      "execution_count": null,
      "outputs": []
    },
    {
      "cell_type": "code",
      "metadata": {
        "id": "TgVWCRIJmaGx",
        "colab_type": "code",
        "colab": {}
      },
      "source": [
        "x = df[[\"START*\"]]\n",
        "x"
      ],
      "execution_count": null,
      "outputs": []
    },
    {
      "cell_type": "code",
      "metadata": {
        "id": "4aHoWT6rkS4a",
        "colab_type": "code",
        "colab": {}
      },
      "source": [
        "s1 = df.loc[:,\"START*\"]\n",
        "s1"
      ],
      "execution_count": null,
      "outputs": []
    },
    {
      "cell_type": "markdown",
      "metadata": {
        "id": "GrOP2mESEo4V",
        "colab_type": "text"
      },
      "source": [
        "### In Class assignment\n",
        "\n",
        "Extract first 5 rows and columns START_DATE* and MILES*"
      ]
    },
    {
      "cell_type": "code",
      "metadata": {
        "id": "vyR-58I2VsF3",
        "colab_type": "code",
        "colab": {
          "base_uri": "https://localhost:8080/",
          "height": 195
        },
        "outputId": "33035d0a-506b-42e9-a5e3-5de455c28601"
      },
      "source": [
        "#df.loc[0:4,[\"START_DATE*\",\"MILES*\"]] #Way 1\n",
        "\n",
        "df[[\"START_DATE*\",\"MILES*\"]].head(5) #Way 2 "
      ],
      "execution_count": 9,
      "outputs": [
        {
          "output_type": "execute_result",
          "data": {
            "text/html": [
              "<div>\n",
              "<style scoped>\n",
              "    .dataframe tbody tr th:only-of-type {\n",
              "        vertical-align: middle;\n",
              "    }\n",
              "\n",
              "    .dataframe tbody tr th {\n",
              "        vertical-align: top;\n",
              "    }\n",
              "\n",
              "    .dataframe thead th {\n",
              "        text-align: right;\n",
              "    }\n",
              "</style>\n",
              "<table border=\"1\" class=\"dataframe\">\n",
              "  <thead>\n",
              "    <tr style=\"text-align: right;\">\n",
              "      <th></th>\n",
              "      <th>START_DATE*</th>\n",
              "      <th>MILES*</th>\n",
              "    </tr>\n",
              "  </thead>\n",
              "  <tbody>\n",
              "    <tr>\n",
              "      <th>0</th>\n",
              "      <td>01-01-2016 21:11</td>\n",
              "      <td>5.1</td>\n",
              "    </tr>\n",
              "    <tr>\n",
              "      <th>1</th>\n",
              "      <td>01-02-2016 01:25</td>\n",
              "      <td>5.0</td>\n",
              "    </tr>\n",
              "    <tr>\n",
              "      <th>2</th>\n",
              "      <td>01-02-2016 20:25</td>\n",
              "      <td>4.8</td>\n",
              "    </tr>\n",
              "    <tr>\n",
              "      <th>3</th>\n",
              "      <td>01-05-2016 17:31</td>\n",
              "      <td>4.7</td>\n",
              "    </tr>\n",
              "    <tr>\n",
              "      <th>4</th>\n",
              "      <td>01-06-2016 14:42</td>\n",
              "      <td>63.7</td>\n",
              "    </tr>\n",
              "  </tbody>\n",
              "</table>\n",
              "</div>"
            ],
            "text/plain": [
              "        START_DATE*  MILES*\n",
              "0  01-01-2016 21:11     5.1\n",
              "1  01-02-2016 01:25     5.0\n",
              "2  01-02-2016 20:25     4.8\n",
              "3  01-05-2016 17:31     4.7\n",
              "4  01-06-2016 14:42    63.7"
            ]
          },
          "metadata": {
            "tags": []
          },
          "execution_count": 9
        }
      ]
    },
    {
      "cell_type": "markdown",
      "metadata": {
        "id": "W7DVLPv9Eo4X",
        "colab_type": "text"
      },
      "source": [
        "### Filtering"
      ]
    },
    {
      "cell_type": "code",
      "metadata": {
        "id": "j0YvNp9uEo4Y",
        "colab_type": "code",
        "colab": {}
      },
      "source": [
        "df2 = df.loc[df[\"MILES*\"] > 10,[\"MILES*\"]]\n",
        "print(df2)"
      ],
      "execution_count": null,
      "outputs": []
    },
    {
      "cell_type": "code",
      "metadata": {
        "id": "F26z8_vqEo4n",
        "colab_type": "code",
        "colab": {}
      },
      "source": [
        "df3 = df2.loc[0:5]\n",
        "df3"
      ],
      "execution_count": null,
      "outputs": []
    },
    {
      "cell_type": "code",
      "metadata": {
        "id": "YQoUxxLJEo41",
        "colab_type": "code",
        "colab": {
          "base_uri": "https://localhost:8080/",
          "height": 195
        },
        "outputId": "acfb7416-462d-4f56-db59-ed51b2ea43e9"
      },
      "source": [
        "# find out all rides greater than 10 miles\n",
        "df.loc[df[\"MILES*\"] > 10].head()"
      ],
      "execution_count": 25,
      "outputs": [
        {
          "output_type": "execute_result",
          "data": {
            "text/html": [
              "<div>\n",
              "<style scoped>\n",
              "    .dataframe tbody tr th:only-of-type {\n",
              "        vertical-align: middle;\n",
              "    }\n",
              "\n",
              "    .dataframe tbody tr th {\n",
              "        vertical-align: top;\n",
              "    }\n",
              "\n",
              "    .dataframe thead th {\n",
              "        text-align: right;\n",
              "    }\n",
              "</style>\n",
              "<table border=\"1\" class=\"dataframe\">\n",
              "  <thead>\n",
              "    <tr style=\"text-align: right;\">\n",
              "      <th></th>\n",
              "      <th>START_DATE*</th>\n",
              "      <th>END_DATE*</th>\n",
              "      <th>CATEGORY*</th>\n",
              "      <th>START*</th>\n",
              "      <th>STOP*</th>\n",
              "      <th>MILES*</th>\n",
              "      <th>PURPOSE*</th>\n",
              "    </tr>\n",
              "  </thead>\n",
              "  <tbody>\n",
              "    <tr>\n",
              "      <th>4</th>\n",
              "      <td>01-06-2016 14:42</td>\n",
              "      <td>01-06-2016 15:49</td>\n",
              "      <td>Business</td>\n",
              "      <td>Fort Pierce</td>\n",
              "      <td>West Palm Beach</td>\n",
              "      <td>63.7</td>\n",
              "      <td>Customer Visit</td>\n",
              "    </tr>\n",
              "    <tr>\n",
              "      <th>9</th>\n",
              "      <td>01-10-2016 12:17</td>\n",
              "      <td>01-10-2016 12:44</td>\n",
              "      <td>Business</td>\n",
              "      <td>Jamaica</td>\n",
              "      <td>New York</td>\n",
              "      <td>16.5</td>\n",
              "      <td>Customer Visit</td>\n",
              "    </tr>\n",
              "    <tr>\n",
              "      <th>10</th>\n",
              "      <td>01-10-2016 15:08</td>\n",
              "      <td>01-10-2016 15:51</td>\n",
              "      <td>Business</td>\n",
              "      <td>New York</td>\n",
              "      <td>Queens</td>\n",
              "      <td>10.8</td>\n",
              "      <td>Meeting</td>\n",
              "    </tr>\n",
              "    <tr>\n",
              "      <th>22</th>\n",
              "      <td>01-12-2016 16:02</td>\n",
              "      <td>01-12-2016 17:00</td>\n",
              "      <td>Business</td>\n",
              "      <td>New York</td>\n",
              "      <td>Queens County</td>\n",
              "      <td>15.1</td>\n",
              "      <td>Meeting</td>\n",
              "    </tr>\n",
              "    <tr>\n",
              "      <th>23</th>\n",
              "      <td>1-13-2016 13:54</td>\n",
              "      <td>1-13-2016 14:07</td>\n",
              "      <td>Business</td>\n",
              "      <td>Downtown</td>\n",
              "      <td>Gulfton</td>\n",
              "      <td>11.2</td>\n",
              "      <td>Meeting</td>\n",
              "    </tr>\n",
              "  </tbody>\n",
              "</table>\n",
              "</div>"
            ],
            "text/plain": [
              "         START_DATE*         END_DATE*  ... MILES*        PURPOSE*\n",
              "4   01-06-2016 14:42  01-06-2016 15:49  ...   63.7  Customer Visit\n",
              "9   01-10-2016 12:17  01-10-2016 12:44  ...   16.5  Customer Visit\n",
              "10  01-10-2016 15:08  01-10-2016 15:51  ...   10.8         Meeting\n",
              "22  01-12-2016 16:02  01-12-2016 17:00  ...   15.1         Meeting\n",
              "23   1-13-2016 13:54   1-13-2016 14:07  ...   11.2         Meeting\n",
              "\n",
              "[5 rows x 7 columns]"
            ]
          },
          "metadata": {
            "tags": []
          },
          "execution_count": 25
        }
      ]
    },
    {
      "cell_type": "code",
      "metadata": {
        "id": "GY1YHNMXEo5I",
        "colab_type": "code",
        "colab": {
          "base_uri": "https://localhost:8080/",
          "height": 195
        },
        "outputId": "a032d937-e372-42b0-e2af-ff6cee90d21c"
      },
      "source": [
        "# Find out all rides to Cary\n",
        "df.loc[df[\"START*\"]==\"Cary\",[\"MILES*\"]].head()"
      ],
      "execution_count": 29,
      "outputs": [
        {
          "output_type": "execute_result",
          "data": {
            "text/html": [
              "<div>\n",
              "<style scoped>\n",
              "    .dataframe tbody tr th:only-of-type {\n",
              "        vertical-align: middle;\n",
              "    }\n",
              "\n",
              "    .dataframe tbody tr th {\n",
              "        vertical-align: top;\n",
              "    }\n",
              "\n",
              "    .dataframe thead th {\n",
              "        text-align: right;\n",
              "    }\n",
              "</style>\n",
              "<table border=\"1\" class=\"dataframe\">\n",
              "  <thead>\n",
              "    <tr style=\"text-align: right;\">\n",
              "      <th></th>\n",
              "      <th>MILES*</th>\n",
              "    </tr>\n",
              "  </thead>\n",
              "  <tbody>\n",
              "    <tr>\n",
              "      <th>7</th>\n",
              "      <td>0.8</td>\n",
              "    </tr>\n",
              "    <tr>\n",
              "      <th>8</th>\n",
              "      <td>8.3</td>\n",
              "    </tr>\n",
              "    <tr>\n",
              "      <th>28</th>\n",
              "      <td>10.4</td>\n",
              "    </tr>\n",
              "    <tr>\n",
              "      <th>30</th>\n",
              "      <td>4.8</td>\n",
              "    </tr>\n",
              "    <tr>\n",
              "      <th>34</th>\n",
              "      <td>17.1</td>\n",
              "    </tr>\n",
              "  </tbody>\n",
              "</table>\n",
              "</div>"
            ],
            "text/plain": [
              "    MILES*\n",
              "7      0.8\n",
              "8      8.3\n",
              "28    10.4\n",
              "30     4.8\n",
              "34    17.1"
            ]
          },
          "metadata": {
            "tags": []
          },
          "execution_count": 29
        }
      ]
    },
    {
      "cell_type": "code",
      "metadata": {
        "id": "asBcuq69Eo5M",
        "colab_type": "code",
        "colab": {
          "base_uri": "https://localhost:8080/",
          "height": 402
        },
        "outputId": "47f48f6c-94de-4dc6-bb5c-08d11c94cf8d"
      },
      "source": [
        "# Find out all rides to Cary & Morrisville          \n",
        "my_rides = df[df[\"START*\"].isin([\"Cary\",\"Morrisville\"])]\n",
        "my_rides.iloc[:,[0,5]]"
      ],
      "execution_count": 32,
      "outputs": [
        {
          "output_type": "execute_result",
          "data": {
            "text/html": [
              "<div>\n",
              "<style scoped>\n",
              "    .dataframe tbody tr th:only-of-type {\n",
              "        vertical-align: middle;\n",
              "    }\n",
              "\n",
              "    .dataframe tbody tr th {\n",
              "        vertical-align: top;\n",
              "    }\n",
              "\n",
              "    .dataframe thead th {\n",
              "        text-align: right;\n",
              "    }\n",
              "</style>\n",
              "<table border=\"1\" class=\"dataframe\">\n",
              "  <thead>\n",
              "    <tr style=\"text-align: right;\">\n",
              "      <th></th>\n",
              "      <th>START_DATE*</th>\n",
              "      <th>MILES*</th>\n",
              "    </tr>\n",
              "  </thead>\n",
              "  <tbody>\n",
              "    <tr>\n",
              "      <th>7</th>\n",
              "      <td>01-07-2016 13:27</td>\n",
              "      <td>0.8</td>\n",
              "    </tr>\n",
              "    <tr>\n",
              "      <th>8</th>\n",
              "      <td>01-10-2016 08:05</td>\n",
              "      <td>8.3</td>\n",
              "    </tr>\n",
              "    <tr>\n",
              "      <th>27</th>\n",
              "      <td>1-15-2016 0:41</td>\n",
              "      <td>8.0</td>\n",
              "    </tr>\n",
              "    <tr>\n",
              "      <th>28</th>\n",
              "      <td>1-15-2016 11:43</td>\n",
              "      <td>10.4</td>\n",
              "    </tr>\n",
              "    <tr>\n",
              "      <th>30</th>\n",
              "      <td>1-18-2016 14:55</td>\n",
              "      <td>4.8</td>\n",
              "    </tr>\n",
              "    <tr>\n",
              "      <th>...</th>\n",
              "      <td>...</td>\n",
              "      <td>...</td>\n",
              "    </tr>\n",
              "    <tr>\n",
              "      <th>1050</th>\n",
              "      <td>12-14-2016 16:52</td>\n",
              "      <td>3.4</td>\n",
              "    </tr>\n",
              "    <tr>\n",
              "      <th>1051</th>\n",
              "      <td>12-14-2016 17:22</td>\n",
              "      <td>3.3</td>\n",
              "    </tr>\n",
              "    <tr>\n",
              "      <th>1052</th>\n",
              "      <td>12-14-2016 17:50</td>\n",
              "      <td>3.0</td>\n",
              "    </tr>\n",
              "    <tr>\n",
              "      <th>1053</th>\n",
              "      <td>12-14-2016 20:24</td>\n",
              "      <td>3.1</td>\n",
              "    </tr>\n",
              "    <tr>\n",
              "      <th>1054</th>\n",
              "      <td>12-15-2016 14:20</td>\n",
              "      <td>10.6</td>\n",
              "    </tr>\n",
              "  </tbody>\n",
              "</table>\n",
              "<p>286 rows × 2 columns</p>\n",
              "</div>"
            ],
            "text/plain": [
              "           START_DATE*  MILES*\n",
              "7     01-07-2016 13:27     0.8\n",
              "8     01-10-2016 08:05     8.3\n",
              "27      1-15-2016 0:41     8.0\n",
              "28     1-15-2016 11:43    10.4\n",
              "30     1-18-2016 14:55     4.8\n",
              "...                ...     ...\n",
              "1050  12-14-2016 16:52     3.4\n",
              "1051  12-14-2016 17:22     3.3\n",
              "1052  12-14-2016 17:50     3.0\n",
              "1053  12-14-2016 20:24     3.1\n",
              "1054  12-15-2016 14:20    10.6\n",
              "\n",
              "[286 rows x 2 columns]"
            ]
          },
          "metadata": {
            "tags": []
          },
          "execution_count": 32
        }
      ]
    },
    {
      "cell_type": "code",
      "metadata": {
        "id": "Jpj-FfE8Eo5b",
        "colab_type": "code",
        "colab": {
          "base_uri": "https://localhost:8080/",
          "height": 402
        },
        "outputId": "cca42282-adee-4dea-ddf4-7242e4de147f"
      },
      "source": [
        "# Find out all rides to Cary & Morrisville          \n",
        "df.loc[df[\"START*\"].isin([\"Cary\",\"Morrisville\"])]"
      ],
      "execution_count": 33,
      "outputs": [
        {
          "output_type": "execute_result",
          "data": {
            "text/html": [
              "<div>\n",
              "<style scoped>\n",
              "    .dataframe tbody tr th:only-of-type {\n",
              "        vertical-align: middle;\n",
              "    }\n",
              "\n",
              "    .dataframe tbody tr th {\n",
              "        vertical-align: top;\n",
              "    }\n",
              "\n",
              "    .dataframe thead th {\n",
              "        text-align: right;\n",
              "    }\n",
              "</style>\n",
              "<table border=\"1\" class=\"dataframe\">\n",
              "  <thead>\n",
              "    <tr style=\"text-align: right;\">\n",
              "      <th></th>\n",
              "      <th>START_DATE*</th>\n",
              "      <th>END_DATE*</th>\n",
              "      <th>CATEGORY*</th>\n",
              "      <th>START*</th>\n",
              "      <th>STOP*</th>\n",
              "      <th>MILES*</th>\n",
              "      <th>PURPOSE*</th>\n",
              "    </tr>\n",
              "  </thead>\n",
              "  <tbody>\n",
              "    <tr>\n",
              "      <th>7</th>\n",
              "      <td>01-07-2016 13:27</td>\n",
              "      <td>01-07-2016 13:33</td>\n",
              "      <td>Business</td>\n",
              "      <td>Cary</td>\n",
              "      <td>Cary</td>\n",
              "      <td>0.8</td>\n",
              "      <td>Meeting</td>\n",
              "    </tr>\n",
              "    <tr>\n",
              "      <th>8</th>\n",
              "      <td>01-10-2016 08:05</td>\n",
              "      <td>01-10-2016 08:25</td>\n",
              "      <td>Business</td>\n",
              "      <td>Cary</td>\n",
              "      <td>Morrisville</td>\n",
              "      <td>8.3</td>\n",
              "      <td>Meeting</td>\n",
              "    </tr>\n",
              "    <tr>\n",
              "      <th>27</th>\n",
              "      <td>1-15-2016 0:41</td>\n",
              "      <td>1-15-2016 1:01</td>\n",
              "      <td>Business</td>\n",
              "      <td>Morrisville</td>\n",
              "      <td>Cary</td>\n",
              "      <td>8.0</td>\n",
              "      <td>Errand-Supplies</td>\n",
              "    </tr>\n",
              "    <tr>\n",
              "      <th>28</th>\n",
              "      <td>1-15-2016 11:43</td>\n",
              "      <td>1-15-2016 12:03</td>\n",
              "      <td>Business</td>\n",
              "      <td>Cary</td>\n",
              "      <td>Durham</td>\n",
              "      <td>10.4</td>\n",
              "      <td>Meal-Entertain</td>\n",
              "    </tr>\n",
              "    <tr>\n",
              "      <th>30</th>\n",
              "      <td>1-18-2016 14:55</td>\n",
              "      <td>1-18-2016 15:06</td>\n",
              "      <td>Business</td>\n",
              "      <td>Cary</td>\n",
              "      <td>Cary</td>\n",
              "      <td>4.8</td>\n",
              "      <td>Meal-Entertain</td>\n",
              "    </tr>\n",
              "    <tr>\n",
              "      <th>...</th>\n",
              "      <td>...</td>\n",
              "      <td>...</td>\n",
              "      <td>...</td>\n",
              "      <td>...</td>\n",
              "      <td>...</td>\n",
              "      <td>...</td>\n",
              "      <td>...</td>\n",
              "    </tr>\n",
              "    <tr>\n",
              "      <th>1050</th>\n",
              "      <td>12-14-2016 16:52</td>\n",
              "      <td>12-14-2016 17:10</td>\n",
              "      <td>Business</td>\n",
              "      <td>Cary</td>\n",
              "      <td>Cary</td>\n",
              "      <td>3.4</td>\n",
              "      <td>NaN</td>\n",
              "    </tr>\n",
              "    <tr>\n",
              "      <th>1051</th>\n",
              "      <td>12-14-2016 17:22</td>\n",
              "      <td>12-14-2016 17:34</td>\n",
              "      <td>Business</td>\n",
              "      <td>Cary</td>\n",
              "      <td>Cary</td>\n",
              "      <td>3.3</td>\n",
              "      <td>NaN</td>\n",
              "    </tr>\n",
              "    <tr>\n",
              "      <th>1052</th>\n",
              "      <td>12-14-2016 17:50</td>\n",
              "      <td>12-14-2016 18:00</td>\n",
              "      <td>Business</td>\n",
              "      <td>Cary</td>\n",
              "      <td>Morrisville</td>\n",
              "      <td>3.0</td>\n",
              "      <td>Meal-Entertain</td>\n",
              "    </tr>\n",
              "    <tr>\n",
              "      <th>1053</th>\n",
              "      <td>12-14-2016 20:24</td>\n",
              "      <td>12-14-2016 20:40</td>\n",
              "      <td>Business</td>\n",
              "      <td>Morrisville</td>\n",
              "      <td>Cary</td>\n",
              "      <td>3.1</td>\n",
              "      <td>Customer Visit</td>\n",
              "    </tr>\n",
              "    <tr>\n",
              "      <th>1054</th>\n",
              "      <td>12-15-2016 14:20</td>\n",
              "      <td>12-15-2016 14:54</td>\n",
              "      <td>Business</td>\n",
              "      <td>Cary</td>\n",
              "      <td>Morrisville</td>\n",
              "      <td>10.6</td>\n",
              "      <td>Meeting</td>\n",
              "    </tr>\n",
              "  </tbody>\n",
              "</table>\n",
              "<p>286 rows × 7 columns</p>\n",
              "</div>"
            ],
            "text/plain": [
              "           START_DATE*         END_DATE*  ... MILES*         PURPOSE*\n",
              "7     01-07-2016 13:27  01-07-2016 13:33  ...    0.8          Meeting\n",
              "8     01-10-2016 08:05  01-10-2016 08:25  ...    8.3          Meeting\n",
              "27      1-15-2016 0:41    1-15-2016 1:01  ...    8.0  Errand-Supplies\n",
              "28     1-15-2016 11:43   1-15-2016 12:03  ...   10.4   Meal-Entertain\n",
              "30     1-18-2016 14:55   1-18-2016 15:06  ...    4.8   Meal-Entertain\n",
              "...                ...               ...  ...    ...              ...\n",
              "1050  12-14-2016 16:52  12-14-2016 17:10  ...    3.4              NaN\n",
              "1051  12-14-2016 17:22  12-14-2016 17:34  ...    3.3              NaN\n",
              "1052  12-14-2016 17:50  12-14-2016 18:00  ...    3.0   Meal-Entertain\n",
              "1053  12-14-2016 20:24  12-14-2016 20:40  ...    3.1   Customer Visit\n",
              "1054  12-15-2016 14:20  12-15-2016 14:54  ...   10.6          Meeting\n",
              "\n",
              "[286 rows x 7 columns]"
            ]
          },
          "metadata": {
            "tags": []
          },
          "execution_count": 33
        }
      ]
    },
    {
      "cell_type": "code",
      "metadata": {
        "id": "x6XHFCwSEo5h",
        "colab_type": "code",
        "colab": {}
      },
      "source": [
        "df.loc[~df[\"START*\"].isin([\"Cary\",\"Morrisville\"])].shape"
      ],
      "execution_count": null,
      "outputs": []
    },
    {
      "cell_type": "markdown",
      "metadata": {
        "id": "H3FUTStJEo5m",
        "colab_type": "text"
      },
      "source": [
        "#### In class assignment\n",
        "\n",
        "1. Find all trips with distance > 10 miles and originating from Cary and Morris.\n",
        "\n",
        "2. Extract top 3 rows from the filtered dataset\n"
      ]
    },
    {
      "cell_type": "code",
      "metadata": {
        "id": "6XnnH_Z_XVAH",
        "colab_type": "code",
        "colab": {
          "base_uri": "https://localhost:8080/",
          "height": 935
        },
        "outputId": "e5569f38-c5d3-42b9-f6ea-250e121a381e"
      },
      "source": [
        "x = df.loc[(df[\"MILES*\"] > 10)&df[\"START*\"].isin([\"Cary\",\"Morrisville\",\"Fort Pierce\"])]\n",
        "x.reset_index(inplace=True, drop=True)\n",
        "x.head(30)"
      ],
      "execution_count": 53,
      "outputs": [
        {
          "output_type": "execute_result",
          "data": {
            "text/html": [
              "<div>\n",
              "<style scoped>\n",
              "    .dataframe tbody tr th:only-of-type {\n",
              "        vertical-align: middle;\n",
              "    }\n",
              "\n",
              "    .dataframe tbody tr th {\n",
              "        vertical-align: top;\n",
              "    }\n",
              "\n",
              "    .dataframe thead th {\n",
              "        text-align: right;\n",
              "    }\n",
              "</style>\n",
              "<table border=\"1\" class=\"dataframe\">\n",
              "  <thead>\n",
              "    <tr style=\"text-align: right;\">\n",
              "      <th></th>\n",
              "      <th>START_DATE*</th>\n",
              "      <th>END_DATE*</th>\n",
              "      <th>CATEGORY*</th>\n",
              "      <th>START*</th>\n",
              "      <th>STOP*</th>\n",
              "      <th>MILES*</th>\n",
              "      <th>PURPOSE*</th>\n",
              "    </tr>\n",
              "  </thead>\n",
              "  <tbody>\n",
              "    <tr>\n",
              "      <th>0</th>\n",
              "      <td>01-06-2016 14:42</td>\n",
              "      <td>01-06-2016 15:49</td>\n",
              "      <td>Business</td>\n",
              "      <td>Fort Pierce</td>\n",
              "      <td>West Palm Beach</td>\n",
              "      <td>63.7</td>\n",
              "      <td>Customer Visit</td>\n",
              "    </tr>\n",
              "    <tr>\n",
              "      <th>1</th>\n",
              "      <td>1-15-2016 11:43</td>\n",
              "      <td>1-15-2016 12:03</td>\n",
              "      <td>Business</td>\n",
              "      <td>Cary</td>\n",
              "      <td>Durham</td>\n",
              "      <td>10.4</td>\n",
              "      <td>Meal-Entertain</td>\n",
              "    </tr>\n",
              "    <tr>\n",
              "      <th>2</th>\n",
              "      <td>1-20-2016 10:36</td>\n",
              "      <td>1-20-2016 11:11</td>\n",
              "      <td>Business</td>\n",
              "      <td>Cary</td>\n",
              "      <td>Raleigh</td>\n",
              "      <td>17.1</td>\n",
              "      <td>Meeting</td>\n",
              "    </tr>\n",
              "    <tr>\n",
              "      <th>3</th>\n",
              "      <td>1-27-2016 10:19</td>\n",
              "      <td>1-27-2016 10:48</td>\n",
              "      <td>Business</td>\n",
              "      <td>Cary</td>\n",
              "      <td>Raleigh</td>\n",
              "      <td>18.7</td>\n",
              "      <td>Customer Visit</td>\n",
              "    </tr>\n",
              "    <tr>\n",
              "      <th>4</th>\n",
              "      <td>1-28-2016 12:28</td>\n",
              "      <td>1-28-2016 13:00</td>\n",
              "      <td>Business</td>\n",
              "      <td>Cary</td>\n",
              "      <td>Raleigh</td>\n",
              "      <td>19.0</td>\n",
              "      <td>Temporary Site</td>\n",
              "    </tr>\n",
              "    <tr>\n",
              "      <th>5</th>\n",
              "      <td>1-29-2016 11:43</td>\n",
              "      <td>1-29-2016 12:03</td>\n",
              "      <td>Business</td>\n",
              "      <td>Cary</td>\n",
              "      <td>Durham</td>\n",
              "      <td>10.4</td>\n",
              "      <td>Meeting</td>\n",
              "    </tr>\n",
              "    <tr>\n",
              "      <th>6</th>\n",
              "      <td>02-01-2016 10:35</td>\n",
              "      <td>02-01-2016 11:15</td>\n",
              "      <td>Business</td>\n",
              "      <td>Cary</td>\n",
              "      <td>Chapel Hill</td>\n",
              "      <td>19.4</td>\n",
              "      <td>Customer Visit</td>\n",
              "    </tr>\n",
              "    <tr>\n",
              "      <th>7</th>\n",
              "      <td>02-05-2016 11:47</td>\n",
              "      <td>02-05-2016 12:07</td>\n",
              "      <td>Business</td>\n",
              "      <td>Cary</td>\n",
              "      <td>Durham</td>\n",
              "      <td>10.4</td>\n",
              "      <td>Meeting</td>\n",
              "    </tr>\n",
              "    <tr>\n",
              "      <th>8</th>\n",
              "      <td>02-06-2016 16:20</td>\n",
              "      <td>02-06-2016 16:53</td>\n",
              "      <td>Business</td>\n",
              "      <td>Cary</td>\n",
              "      <td>Raleigh</td>\n",
              "      <td>11.4</td>\n",
              "      <td>Between Offices</td>\n",
              "    </tr>\n",
              "    <tr>\n",
              "      <th>9</th>\n",
              "      <td>02-11-2016 16:28</td>\n",
              "      <td>02-11-2016 17:10</td>\n",
              "      <td>Business</td>\n",
              "      <td>Cary</td>\n",
              "      <td>Raleigh</td>\n",
              "      <td>17.3</td>\n",
              "      <td>Meal-Entertain</td>\n",
              "    </tr>\n",
              "    <tr>\n",
              "      <th>10</th>\n",
              "      <td>02-12-2016 11:14</td>\n",
              "      <td>02-12-2016 11:35</td>\n",
              "      <td>Business</td>\n",
              "      <td>Morrisville</td>\n",
              "      <td>Raleigh</td>\n",
              "      <td>17.0</td>\n",
              "      <td>Customer Visit</td>\n",
              "    </tr>\n",
              "    <tr>\n",
              "      <th>11</th>\n",
              "      <td>02-12-2016 15:33</td>\n",
              "      <td>02-12-2016 16:06</td>\n",
              "      <td>Business</td>\n",
              "      <td>Morrisville</td>\n",
              "      <td>Cary</td>\n",
              "      <td>11.5</td>\n",
              "      <td>Customer Visit</td>\n",
              "    </tr>\n",
              "    <tr>\n",
              "      <th>12</th>\n",
              "      <td>2-26-2016 11:35</td>\n",
              "      <td>2-26-2016 11:59</td>\n",
              "      <td>Business</td>\n",
              "      <td>Cary</td>\n",
              "      <td>Durham</td>\n",
              "      <td>10.6</td>\n",
              "      <td>Meeting</td>\n",
              "    </tr>\n",
              "    <tr>\n",
              "      <th>13</th>\n",
              "      <td>03-04-2016 11:46</td>\n",
              "      <td>03-04-2016 12:06</td>\n",
              "      <td>Business</td>\n",
              "      <td>Cary</td>\n",
              "      <td>Durham</td>\n",
              "      <td>10.4</td>\n",
              "      <td>Meeting</td>\n",
              "    </tr>\n",
              "    <tr>\n",
              "      <th>14</th>\n",
              "      <td>03-04-2016 13:40</td>\n",
              "      <td>03-04-2016 14:09</td>\n",
              "      <td>Business</td>\n",
              "      <td>Cary</td>\n",
              "      <td>Raleigh</td>\n",
              "      <td>15.7</td>\n",
              "      <td>Customer Visit</td>\n",
              "    </tr>\n",
              "    <tr>\n",
              "      <th>15</th>\n",
              "      <td>03-07-2016 09:23</td>\n",
              "      <td>03-07-2016 09:47</td>\n",
              "      <td>Business</td>\n",
              "      <td>Cary</td>\n",
              "      <td>Raleigh</td>\n",
              "      <td>12.4</td>\n",
              "      <td>Customer Visit</td>\n",
              "    </tr>\n",
              "    <tr>\n",
              "      <th>16</th>\n",
              "      <td>3-25-2016 13:24</td>\n",
              "      <td>3-25-2016 16:22</td>\n",
              "      <td>Business</td>\n",
              "      <td>Cary</td>\n",
              "      <td>Latta</td>\n",
              "      <td>144.0</td>\n",
              "      <td>Customer Visit</td>\n",
              "    </tr>\n",
              "    <tr>\n",
              "      <th>17</th>\n",
              "      <td>04-08-2016 12:30</td>\n",
              "      <td>04-08-2016 12:48</td>\n",
              "      <td>Business</td>\n",
              "      <td>Cary</td>\n",
              "      <td>Durham</td>\n",
              "      <td>10.5</td>\n",
              "      <td>Meeting</td>\n",
              "    </tr>\n",
              "    <tr>\n",
              "      <th>18</th>\n",
              "      <td>04-08-2016 14:43</td>\n",
              "      <td>04-08-2016 15:20</td>\n",
              "      <td>Business</td>\n",
              "      <td>Cary</td>\n",
              "      <td>Raleigh</td>\n",
              "      <td>19.1</td>\n",
              "      <td>Meeting</td>\n",
              "    </tr>\n",
              "    <tr>\n",
              "      <th>19</th>\n",
              "      <td>4-14-2016 7:29</td>\n",
              "      <td>4-14-2016 8:09</td>\n",
              "      <td>Business</td>\n",
              "      <td>Cary</td>\n",
              "      <td>Holly Springs</td>\n",
              "      <td>15.3</td>\n",
              "      <td>Temporary Site</td>\n",
              "    </tr>\n",
              "    <tr>\n",
              "      <th>20</th>\n",
              "      <td>4-15-2016 11:36</td>\n",
              "      <td>4-15-2016 12:07</td>\n",
              "      <td>Business</td>\n",
              "      <td>Cary</td>\n",
              "      <td>Raleigh</td>\n",
              "      <td>11.9</td>\n",
              "      <td>Temporary Site</td>\n",
              "    </tr>\n",
              "    <tr>\n",
              "      <th>21</th>\n",
              "      <td>4-22-2016 8:25</td>\n",
              "      <td>4-22-2016 9:04</td>\n",
              "      <td>Business</td>\n",
              "      <td>Cary</td>\n",
              "      <td>Raleigh</td>\n",
              "      <td>13.6</td>\n",
              "      <td>Meeting</td>\n",
              "    </tr>\n",
              "    <tr>\n",
              "      <th>22</th>\n",
              "      <td>4-22-2016 12:08</td>\n",
              "      <td>4-22-2016 12:28</td>\n",
              "      <td>Business</td>\n",
              "      <td>Cary</td>\n",
              "      <td>Durham</td>\n",
              "      <td>10.4</td>\n",
              "      <td>Meeting</td>\n",
              "    </tr>\n",
              "    <tr>\n",
              "      <th>23</th>\n",
              "      <td>4-28-2016 12:09</td>\n",
              "      <td>4-28-2016 12:34</td>\n",
              "      <td>Business</td>\n",
              "      <td>Cary</td>\n",
              "      <td>Raleigh</td>\n",
              "      <td>12.4</td>\n",
              "      <td>Customer Visit</td>\n",
              "    </tr>\n",
              "    <tr>\n",
              "      <th>24</th>\n",
              "      <td>4-29-2016 18:46</td>\n",
              "      <td>4-29-2016 19:18</td>\n",
              "      <td>Business</td>\n",
              "      <td>Cary</td>\n",
              "      <td>Durham</td>\n",
              "      <td>14.2</td>\n",
              "      <td>Customer Visit</td>\n",
              "    </tr>\n",
              "    <tr>\n",
              "      <th>25</th>\n",
              "      <td>5-28-2016 14:35</td>\n",
              "      <td>5-28-2016 15:04</td>\n",
              "      <td>Business</td>\n",
              "      <td>Morrisville</td>\n",
              "      <td>Cary</td>\n",
              "      <td>11.3</td>\n",
              "      <td>Customer Visit</td>\n",
              "    </tr>\n",
              "    <tr>\n",
              "      <th>26</th>\n",
              "      <td>5-31-2016 13:54</td>\n",
              "      <td>5-31-2016 14:41</td>\n",
              "      <td>Business</td>\n",
              "      <td>Cary</td>\n",
              "      <td>Raleigh</td>\n",
              "      <td>14.9</td>\n",
              "      <td>Meeting</td>\n",
              "    </tr>\n",
              "    <tr>\n",
              "      <th>27</th>\n",
              "      <td>06-03-2016 11:29</td>\n",
              "      <td>06-03-2016 11:49</td>\n",
              "      <td>Business</td>\n",
              "      <td>Cary</td>\n",
              "      <td>Durham</td>\n",
              "      <td>10.4</td>\n",
              "      <td>Meeting</td>\n",
              "    </tr>\n",
              "    <tr>\n",
              "      <th>28</th>\n",
              "      <td>06-06-2016 21:41</td>\n",
              "      <td>06-06-2016 22:00</td>\n",
              "      <td>Business</td>\n",
              "      <td>Cary</td>\n",
              "      <td>Durham</td>\n",
              "      <td>10.4</td>\n",
              "      <td>Meeting</td>\n",
              "    </tr>\n",
              "    <tr>\n",
              "      <th>29</th>\n",
              "      <td>06-07-2016 21:42</td>\n",
              "      <td>06-07-2016 22:00</td>\n",
              "      <td>Business</td>\n",
              "      <td>Cary</td>\n",
              "      <td>Durham</td>\n",
              "      <td>10.4</td>\n",
              "      <td>Meeting</td>\n",
              "    </tr>\n",
              "  </tbody>\n",
              "</table>\n",
              "</div>"
            ],
            "text/plain": [
              "         START_DATE*         END_DATE*  ... MILES*         PURPOSE*\n",
              "0   01-06-2016 14:42  01-06-2016 15:49  ...   63.7   Customer Visit\n",
              "1    1-15-2016 11:43   1-15-2016 12:03  ...   10.4   Meal-Entertain\n",
              "2    1-20-2016 10:36   1-20-2016 11:11  ...   17.1          Meeting\n",
              "3    1-27-2016 10:19   1-27-2016 10:48  ...   18.7   Customer Visit\n",
              "4    1-28-2016 12:28   1-28-2016 13:00  ...   19.0   Temporary Site\n",
              "5    1-29-2016 11:43   1-29-2016 12:03  ...   10.4          Meeting\n",
              "6   02-01-2016 10:35  02-01-2016 11:15  ...   19.4   Customer Visit\n",
              "7   02-05-2016 11:47  02-05-2016 12:07  ...   10.4          Meeting\n",
              "8   02-06-2016 16:20  02-06-2016 16:53  ...   11.4  Between Offices\n",
              "9   02-11-2016 16:28  02-11-2016 17:10  ...   17.3   Meal-Entertain\n",
              "10  02-12-2016 11:14  02-12-2016 11:35  ...   17.0   Customer Visit\n",
              "11  02-12-2016 15:33  02-12-2016 16:06  ...   11.5   Customer Visit\n",
              "12   2-26-2016 11:35   2-26-2016 11:59  ...   10.6          Meeting\n",
              "13  03-04-2016 11:46  03-04-2016 12:06  ...   10.4          Meeting\n",
              "14  03-04-2016 13:40  03-04-2016 14:09  ...   15.7   Customer Visit\n",
              "15  03-07-2016 09:23  03-07-2016 09:47  ...   12.4   Customer Visit\n",
              "16   3-25-2016 13:24   3-25-2016 16:22  ...  144.0   Customer Visit\n",
              "17  04-08-2016 12:30  04-08-2016 12:48  ...   10.5          Meeting\n",
              "18  04-08-2016 14:43  04-08-2016 15:20  ...   19.1          Meeting\n",
              "19    4-14-2016 7:29    4-14-2016 8:09  ...   15.3   Temporary Site\n",
              "20   4-15-2016 11:36   4-15-2016 12:07  ...   11.9   Temporary Site\n",
              "21    4-22-2016 8:25    4-22-2016 9:04  ...   13.6          Meeting\n",
              "22   4-22-2016 12:08   4-22-2016 12:28  ...   10.4          Meeting\n",
              "23   4-28-2016 12:09   4-28-2016 12:34  ...   12.4   Customer Visit\n",
              "24   4-29-2016 18:46   4-29-2016 19:18  ...   14.2   Customer Visit\n",
              "25   5-28-2016 14:35   5-28-2016 15:04  ...   11.3   Customer Visit\n",
              "26   5-31-2016 13:54   5-31-2016 14:41  ...   14.9          Meeting\n",
              "27  06-03-2016 11:29  06-03-2016 11:49  ...   10.4          Meeting\n",
              "28  06-06-2016 21:41  06-06-2016 22:00  ...   10.4          Meeting\n",
              "29  06-07-2016 21:42  06-07-2016 22:00  ...   10.4          Meeting\n",
              "\n",
              "[30 rows x 7 columns]"
            ]
          },
          "metadata": {
            "tags": []
          },
          "execution_count": 53
        }
      ]
    },
    {
      "cell_type": "markdown",
      "metadata": {
        "id": "itzD9qBXEo5n",
        "colab_type": "text"
      },
      "source": [
        "### Sorting"
      ]
    },
    {
      "cell_type": "code",
      "metadata": {
        "id": "RtRmSJfzEo5n",
        "colab_type": "code",
        "colab": {}
      },
      "source": [
        "df.sort_values(by=[\"MILES*\"],ascending=False).head(5)"
      ],
      "execution_count": null,
      "outputs": []
    },
    {
      "cell_type": "code",
      "metadata": {
        "id": "gqFLsDv2Eo5r",
        "colab_type": "code",
        "colab": {}
      },
      "source": [
        "df.sort_values(by=[\"START*\", \"MILES*\"],ascending=[True,False]).head(5)"
      ],
      "execution_count": null,
      "outputs": []
    },
    {
      "cell_type": "markdown",
      "metadata": {
        "id": "wVqlyf9xEo5x",
        "colab_type": "text"
      },
      "source": [
        "### Conditionally adding columns"
      ]
    },
    {
      "cell_type": "code",
      "metadata": {
        "id": "7dxDyQV_Eo5z",
        "colab_type": "code",
        "colab": {}
      },
      "source": [
        "import numpy as np\n",
        "df[\"miles_cat\"] = np.where(df[\"MILES*\"] > 5,\"Long Trip\",\"Short Trip\")"
      ],
      "execution_count": null,
      "outputs": []
    },
    {
      "cell_type": "code",
      "metadata": {
        "id": "_NwBgVimEo51",
        "colab_type": "code",
        "colab": {
          "base_uri": "https://localhost:8080/",
          "height": 195
        },
        "outputId": "65bad91e-ed6c-4b9a-c9d0-005b0bd9133b"
      },
      "source": [
        "df.head()"
      ],
      "execution_count": null,
      "outputs": [
        {
          "output_type": "execute_result",
          "data": {
            "text/html": [
              "<div>\n",
              "<style scoped>\n",
              "    .dataframe tbody tr th:only-of-type {\n",
              "        vertical-align: middle;\n",
              "    }\n",
              "\n",
              "    .dataframe tbody tr th {\n",
              "        vertical-align: top;\n",
              "    }\n",
              "\n",
              "    .dataframe thead th {\n",
              "        text-align: right;\n",
              "    }\n",
              "</style>\n",
              "<table border=\"1\" class=\"dataframe\">\n",
              "  <thead>\n",
              "    <tr style=\"text-align: right;\">\n",
              "      <th></th>\n",
              "      <th>START_DATE*</th>\n",
              "      <th>END_DATE*</th>\n",
              "      <th>CATEGORY*</th>\n",
              "      <th>START*</th>\n",
              "      <th>STOP*</th>\n",
              "      <th>MILES*</th>\n",
              "      <th>PURPOSE*</th>\n",
              "      <th>miles_cat</th>\n",
              "    </tr>\n",
              "  </thead>\n",
              "  <tbody>\n",
              "    <tr>\n",
              "      <th>0</th>\n",
              "      <td>01-01-2016 21:11</td>\n",
              "      <td>01-01-2016 21:17</td>\n",
              "      <td>Business</td>\n",
              "      <td>Fort Pierce</td>\n",
              "      <td>Fort Pierce</td>\n",
              "      <td>5.1</td>\n",
              "      <td>Meal-Entertain</td>\n",
              "      <td>Long Trip</td>\n",
              "    </tr>\n",
              "    <tr>\n",
              "      <th>1</th>\n",
              "      <td>01-02-2016 01:25</td>\n",
              "      <td>01-02-2016 01:37</td>\n",
              "      <td>Business</td>\n",
              "      <td>Fort Pierce</td>\n",
              "      <td>Fort Pierce</td>\n",
              "      <td>5.0</td>\n",
              "      <td>NaN</td>\n",
              "      <td>Short Trip</td>\n",
              "    </tr>\n",
              "    <tr>\n",
              "      <th>2</th>\n",
              "      <td>01-02-2016 20:25</td>\n",
              "      <td>01-02-2016 20:38</td>\n",
              "      <td>Business</td>\n",
              "      <td>Fort Pierce</td>\n",
              "      <td>Fort Pierce</td>\n",
              "      <td>4.8</td>\n",
              "      <td>Errand-Supplies</td>\n",
              "      <td>Short Trip</td>\n",
              "    </tr>\n",
              "    <tr>\n",
              "      <th>3</th>\n",
              "      <td>01-05-2016 17:31</td>\n",
              "      <td>01-05-2016 17:45</td>\n",
              "      <td>Business</td>\n",
              "      <td>Fort Pierce</td>\n",
              "      <td>Fort Pierce</td>\n",
              "      <td>4.7</td>\n",
              "      <td>Meeting</td>\n",
              "      <td>Short Trip</td>\n",
              "    </tr>\n",
              "    <tr>\n",
              "      <th>4</th>\n",
              "      <td>01-06-2016 14:42</td>\n",
              "      <td>01-06-2016 15:49</td>\n",
              "      <td>Business</td>\n",
              "      <td>Fort Pierce</td>\n",
              "      <td>West Palm Beach</td>\n",
              "      <td>63.7</td>\n",
              "      <td>Customer Visit</td>\n",
              "      <td>Long Trip</td>\n",
              "    </tr>\n",
              "  </tbody>\n",
              "</table>\n",
              "</div>"
            ],
            "text/plain": [
              "        START_DATE*         END_DATE*  ...         PURPOSE*   miles_cat\n",
              "0  01-01-2016 21:11  01-01-2016 21:17  ...   Meal-Entertain   Long Trip\n",
              "1  01-02-2016 01:25  01-02-2016 01:37  ...              NaN  Short Trip\n",
              "2  01-02-2016 20:25  01-02-2016 20:38  ...  Errand-Supplies  Short Trip\n",
              "3  01-05-2016 17:31  01-05-2016 17:45  ...          Meeting  Short Trip\n",
              "4  01-06-2016 14:42  01-06-2016 15:49  ...   Customer Visit   Long Trip\n",
              "\n",
              "[5 rows x 8 columns]"
            ]
          },
          "metadata": {
            "tags": []
          },
          "execution_count": 4
        }
      ]
    },
    {
      "cell_type": "code",
      "metadata": {
        "id": "Bz1klomDEo55",
        "colab_type": "code",
        "colab": {
          "base_uri": "https://localhost:8080/",
          "height": 67
        },
        "outputId": "23f1081e-d83f-4522-d26d-e2568ee9c7b9"
      },
      "source": [
        "df[\"miles_cat\"].value_counts()"
      ],
      "execution_count": null,
      "outputs": [
        {
          "output_type": "execute_result",
          "data": {
            "text/plain": [
              "Long Trip     654\n",
              "Short Trip    502\n",
              "Name: miles_cat, dtype: int64"
            ]
          },
          "metadata": {
            "tags": []
          },
          "execution_count": 5
        }
      ]
    },
    {
      "cell_type": "code",
      "metadata": {
        "id": "kLBblzFgEo57",
        "colab_type": "code",
        "colab": {
          "base_uri": "https://localhost:8080/",
          "height": 34
        },
        "outputId": "31edf481-463c-4497-f306-0e959ee8e84c"
      },
      "source": [
        "df.loc[df[\"MILES*\"] > 5].shape"
      ],
      "execution_count": null,
      "outputs": [
        {
          "output_type": "execute_result",
          "data": {
            "text/plain": [
              "(654, 8)"
            ]
          },
          "metadata": {
            "tags": []
          },
          "execution_count": 7
        }
      ]
    },
    {
      "cell_type": "markdown",
      "metadata": {
        "id": "eoVnkhigEo6C",
        "colab_type": "text"
      },
      "source": [
        "## In class Assignment\n",
        "\n",
        "Create a new column with the following condition:\n",
        "\n",
        "a) > 10 - Long Trip\n",
        "\n",
        "b) 5 - 10  - Medium\n",
        "\n",
        "c) < 5 - Short Trip"
      ]
    },
    {
      "cell_type": "code",
      "metadata": {
        "id": "gXa8Ayl5h72j",
        "colab_type": "code",
        "colab": {
          "base_uri": "https://localhost:8080/",
          "height": 402
        },
        "outputId": "b46b171b-f5c0-4e70-df64-0164f2268eef"
      },
      "source": [
        "#Technique 1\n",
        "df[\"LMS\"] = np.where(df[\"MILES*\"] > 10,\"Long Trip\",np.where(df[\"MILES*\"]<5,\"Short Trip\",\"Medium trip\")) \n",
        "\n",
        "\n",
        "#Technique 2\n",
        "#df.head(n=100)\n",
        "#rules = [(df[\"MILES*\"]>10), ((df[\"MILES*\"]>=5)&(df[\"MILES*\"]<10)), (df[\"MILES*\"]<5)]\n",
        "\n",
        "#choice = [\"Long\",\"Medium\",\"Short\"]\n",
        "\n",
        "#df[\"LMS\"] = np.select(rules,choice)\n",
        "\n",
        "\n",
        "df.head(n=100)"
      ],
      "execution_count": null,
      "outputs": [
        {
          "output_type": "execute_result",
          "data": {
            "text/html": [
              "<div>\n",
              "<style scoped>\n",
              "    .dataframe tbody tr th:only-of-type {\n",
              "        vertical-align: middle;\n",
              "    }\n",
              "\n",
              "    .dataframe tbody tr th {\n",
              "        vertical-align: top;\n",
              "    }\n",
              "\n",
              "    .dataframe thead th {\n",
              "        text-align: right;\n",
              "    }\n",
              "</style>\n",
              "<table border=\"1\" class=\"dataframe\">\n",
              "  <thead>\n",
              "    <tr style=\"text-align: right;\">\n",
              "      <th></th>\n",
              "      <th>START_DATE*</th>\n",
              "      <th>END_DATE*</th>\n",
              "      <th>CATEGORY*</th>\n",
              "      <th>START*</th>\n",
              "      <th>STOP*</th>\n",
              "      <th>MILES*</th>\n",
              "      <th>PURPOSE*</th>\n",
              "      <th>miles_cat</th>\n",
              "      <th>LMS</th>\n",
              "    </tr>\n",
              "  </thead>\n",
              "  <tbody>\n",
              "    <tr>\n",
              "      <th>0</th>\n",
              "      <td>01-01-2016 21:11</td>\n",
              "      <td>01-01-2016 21:17</td>\n",
              "      <td>Business</td>\n",
              "      <td>Fort Pierce</td>\n",
              "      <td>Fort Pierce</td>\n",
              "      <td>5.1</td>\n",
              "      <td>Meal-Entertain</td>\n",
              "      <td>Long Trip</td>\n",
              "      <td>Medium trip</td>\n",
              "    </tr>\n",
              "    <tr>\n",
              "      <th>1</th>\n",
              "      <td>01-02-2016 01:25</td>\n",
              "      <td>01-02-2016 01:37</td>\n",
              "      <td>Business</td>\n",
              "      <td>Fort Pierce</td>\n",
              "      <td>Fort Pierce</td>\n",
              "      <td>5.0</td>\n",
              "      <td>NaN</td>\n",
              "      <td>Short Trip</td>\n",
              "      <td>Medium trip</td>\n",
              "    </tr>\n",
              "    <tr>\n",
              "      <th>2</th>\n",
              "      <td>01-02-2016 20:25</td>\n",
              "      <td>01-02-2016 20:38</td>\n",
              "      <td>Business</td>\n",
              "      <td>Fort Pierce</td>\n",
              "      <td>Fort Pierce</td>\n",
              "      <td>4.8</td>\n",
              "      <td>Errand-Supplies</td>\n",
              "      <td>Short Trip</td>\n",
              "      <td>Short Trip</td>\n",
              "    </tr>\n",
              "    <tr>\n",
              "      <th>3</th>\n",
              "      <td>01-05-2016 17:31</td>\n",
              "      <td>01-05-2016 17:45</td>\n",
              "      <td>Business</td>\n",
              "      <td>Fort Pierce</td>\n",
              "      <td>Fort Pierce</td>\n",
              "      <td>4.7</td>\n",
              "      <td>Meeting</td>\n",
              "      <td>Short Trip</td>\n",
              "      <td>Short Trip</td>\n",
              "    </tr>\n",
              "    <tr>\n",
              "      <th>4</th>\n",
              "      <td>01-06-2016 14:42</td>\n",
              "      <td>01-06-2016 15:49</td>\n",
              "      <td>Business</td>\n",
              "      <td>Fort Pierce</td>\n",
              "      <td>West Palm Beach</td>\n",
              "      <td>63.7</td>\n",
              "      <td>Customer Visit</td>\n",
              "      <td>Long Trip</td>\n",
              "      <td>Long Trip</td>\n",
              "    </tr>\n",
              "    <tr>\n",
              "      <th>...</th>\n",
              "      <td>...</td>\n",
              "      <td>...</td>\n",
              "      <td>...</td>\n",
              "      <td>...</td>\n",
              "      <td>...</td>\n",
              "      <td>...</td>\n",
              "      <td>...</td>\n",
              "      <td>...</td>\n",
              "      <td>...</td>\n",
              "    </tr>\n",
              "    <tr>\n",
              "      <th>95</th>\n",
              "      <td>02-12-2016 08:21</td>\n",
              "      <td>02-12-2016 08:42</td>\n",
              "      <td>Business</td>\n",
              "      <td>Cary</td>\n",
              "      <td>Durham</td>\n",
              "      <td>8.5</td>\n",
              "      <td>Temporary Site</td>\n",
              "      <td>Long Trip</td>\n",
              "      <td>Medium trip</td>\n",
              "    </tr>\n",
              "    <tr>\n",
              "      <th>96</th>\n",
              "      <td>02-12-2016 10:45</td>\n",
              "      <td>02-12-2016 10:52</td>\n",
              "      <td>Business</td>\n",
              "      <td>Durham</td>\n",
              "      <td>Morrisville</td>\n",
              "      <td>2.6</td>\n",
              "      <td>Temporary Site</td>\n",
              "      <td>Short Trip</td>\n",
              "      <td>Short Trip</td>\n",
              "    </tr>\n",
              "    <tr>\n",
              "      <th>97</th>\n",
              "      <td>02-12-2016 11:14</td>\n",
              "      <td>02-12-2016 11:35</td>\n",
              "      <td>Business</td>\n",
              "      <td>Morrisville</td>\n",
              "      <td>Raleigh</td>\n",
              "      <td>17.0</td>\n",
              "      <td>Customer Visit</td>\n",
              "      <td>Long Trip</td>\n",
              "      <td>Long Trip</td>\n",
              "    </tr>\n",
              "    <tr>\n",
              "      <th>98</th>\n",
              "      <td>02-12-2016 13:02</td>\n",
              "      <td>02-12-2016 13:36</td>\n",
              "      <td>Business</td>\n",
              "      <td>Raleigh</td>\n",
              "      <td>Cary</td>\n",
              "      <td>18.0</td>\n",
              "      <td>Meeting</td>\n",
              "      <td>Long Trip</td>\n",
              "      <td>Long Trip</td>\n",
              "    </tr>\n",
              "    <tr>\n",
              "      <th>99</th>\n",
              "      <td>02-12-2016 14:49</td>\n",
              "      <td>02-12-2016 15:06</td>\n",
              "      <td>Business</td>\n",
              "      <td>Cary</td>\n",
              "      <td>Morrisville</td>\n",
              "      <td>8.4</td>\n",
              "      <td>Meeting</td>\n",
              "      <td>Long Trip</td>\n",
              "      <td>Medium trip</td>\n",
              "    </tr>\n",
              "  </tbody>\n",
              "</table>\n",
              "<p>100 rows × 9 columns</p>\n",
              "</div>"
            ],
            "text/plain": [
              "         START_DATE*         END_DATE*  ...   miles_cat          LMS\n",
              "0   01-01-2016 21:11  01-01-2016 21:17  ...   Long Trip  Medium trip\n",
              "1   01-02-2016 01:25  01-02-2016 01:37  ...  Short Trip  Medium trip\n",
              "2   01-02-2016 20:25  01-02-2016 20:38  ...  Short Trip   Short Trip\n",
              "3   01-05-2016 17:31  01-05-2016 17:45  ...  Short Trip   Short Trip\n",
              "4   01-06-2016 14:42  01-06-2016 15:49  ...   Long Trip    Long Trip\n",
              "..               ...               ...  ...         ...          ...\n",
              "95  02-12-2016 08:21  02-12-2016 08:42  ...   Long Trip  Medium trip\n",
              "96  02-12-2016 10:45  02-12-2016 10:52  ...  Short Trip   Short Trip\n",
              "97  02-12-2016 11:14  02-12-2016 11:35  ...   Long Trip    Long Trip\n",
              "98  02-12-2016 13:02  02-12-2016 13:36  ...   Long Trip    Long Trip\n",
              "99  02-12-2016 14:49  02-12-2016 15:06  ...   Long Trip  Medium trip\n",
              "\n",
              "[100 rows x 9 columns]"
            ]
          },
          "metadata": {
            "tags": []
          },
          "execution_count": 30
        }
      ]
    },
    {
      "cell_type": "markdown",
      "metadata": {
        "id": "cUvTAebEEo6C",
        "colab_type": "text"
      },
      "source": [
        "### Groupby Summarize"
      ]
    },
    {
      "cell_type": "code",
      "metadata": {
        "id": "6EZunl_1Eo6G",
        "colab_type": "code",
        "colab": {
          "base_uri": "https://localhost:8080/",
          "height": 431
        },
        "outputId": "57c55c2f-3068-46d0-cd58-0cc5852c21c3"
      },
      "source": [
        "# for each start loc find the mean distance travelled\n",
        "#df.groupby(\"START*\")[\"MILES*\"].agg(\"mean\")\n",
        "df.groupby(\"STOP*\").mean()"
      ],
      "execution_count": null,
      "outputs": [
        {
          "output_type": "execute_result",
          "data": {
            "text/html": [
              "<div>\n",
              "<style scoped>\n",
              "    .dataframe tbody tr th:only-of-type {\n",
              "        vertical-align: middle;\n",
              "    }\n",
              "\n",
              "    .dataframe tbody tr th {\n",
              "        vertical-align: top;\n",
              "    }\n",
              "\n",
              "    .dataframe thead th {\n",
              "        text-align: right;\n",
              "    }\n",
              "</style>\n",
              "<table border=\"1\" class=\"dataframe\">\n",
              "  <thead>\n",
              "    <tr style=\"text-align: right;\">\n",
              "      <th></th>\n",
              "      <th>MILES*</th>\n",
              "    </tr>\n",
              "    <tr>\n",
              "      <th>STOP*</th>\n",
              "      <th></th>\n",
              "    </tr>\n",
              "  </thead>\n",
              "  <tbody>\n",
              "    <tr>\n",
              "      <th>Agnew</th>\n",
              "      <td>2.925000</td>\n",
              "    </tr>\n",
              "    <tr>\n",
              "      <th>Alief</th>\n",
              "      <td>15.500000</td>\n",
              "    </tr>\n",
              "    <tr>\n",
              "      <th>Almond</th>\n",
              "      <td>6.600000</td>\n",
              "    </tr>\n",
              "    <tr>\n",
              "      <th>Apex</th>\n",
              "      <td>6.011765</td>\n",
              "    </tr>\n",
              "    <tr>\n",
              "      <th>Arabi</th>\n",
              "      <td>1.100000</td>\n",
              "    </tr>\n",
              "    <tr>\n",
              "      <th>...</th>\n",
              "      <td>...</td>\n",
              "    </tr>\n",
              "    <tr>\n",
              "      <th>Weston</th>\n",
              "      <td>2.900000</td>\n",
              "    </tr>\n",
              "    <tr>\n",
              "      <th>Westpark Place</th>\n",
              "      <td>2.250000</td>\n",
              "    </tr>\n",
              "    <tr>\n",
              "      <th>Whitebridge</th>\n",
              "      <td>3.773846</td>\n",
              "    </tr>\n",
              "    <tr>\n",
              "      <th>Williamsburg Manor</th>\n",
              "      <td>8.300000</td>\n",
              "    </tr>\n",
              "    <tr>\n",
              "      <th>Winston Salem</th>\n",
              "      <td>107.000000</td>\n",
              "    </tr>\n",
              "  </tbody>\n",
              "</table>\n",
              "<p>188 rows × 1 columns</p>\n",
              "</div>"
            ],
            "text/plain": [
              "                        MILES*\n",
              "STOP*                         \n",
              "Agnew                 2.925000\n",
              "Alief                15.500000\n",
              "Almond                6.600000\n",
              "Apex                  6.011765\n",
              "Arabi                 1.100000\n",
              "...                        ...\n",
              "Weston                2.900000\n",
              "Westpark Place        2.250000\n",
              "Whitebridge           3.773846\n",
              "Williamsburg Manor    8.300000\n",
              "Winston Salem       107.000000\n",
              "\n",
              "[188 rows x 1 columns]"
            ]
          },
          "metadata": {
            "tags": []
          },
          "execution_count": 45
        }
      ]
    },
    {
      "cell_type": "code",
      "metadata": {
        "id": "iSU1SHzbEo6J",
        "colab_type": "code",
        "colab": {
          "base_uri": "https://localhost:8080/",
          "height": 254
        },
        "outputId": "0d92cab7-4a0b-4f09-ffd2-efe8cda36062"
      },
      "source": [
        "# for each start loc find the mean & the total dist travelled\n",
        "df.groupby(\"START*\").agg([\"mean\",\"sum\"]).head()"
      ],
      "execution_count": null,
      "outputs": [
        {
          "output_type": "execute_result",
          "data": {
            "text/html": [
              "<div>\n",
              "<style scoped>\n",
              "    .dataframe tbody tr th:only-of-type {\n",
              "        vertical-align: middle;\n",
              "    }\n",
              "\n",
              "    .dataframe tbody tr th {\n",
              "        vertical-align: top;\n",
              "    }\n",
              "\n",
              "    .dataframe thead tr th {\n",
              "        text-align: left;\n",
              "    }\n",
              "\n",
              "    .dataframe thead tr:last-of-type th {\n",
              "        text-align: right;\n",
              "    }\n",
              "</style>\n",
              "<table border=\"1\" class=\"dataframe\">\n",
              "  <thead>\n",
              "    <tr>\n",
              "      <th></th>\n",
              "      <th colspan=\"2\" halign=\"left\">MILES*</th>\n",
              "    </tr>\n",
              "    <tr>\n",
              "      <th></th>\n",
              "      <th>mean</th>\n",
              "      <th>sum</th>\n",
              "    </tr>\n",
              "    <tr>\n",
              "      <th>START*</th>\n",
              "      <th></th>\n",
              "      <th></th>\n",
              "    </tr>\n",
              "  </thead>\n",
              "  <tbody>\n",
              "    <tr>\n",
              "      <th>Agnew</th>\n",
              "      <td>2.775000</td>\n",
              "      <td>11.1</td>\n",
              "    </tr>\n",
              "    <tr>\n",
              "      <th>Almond</th>\n",
              "      <td>15.200000</td>\n",
              "      <td>15.2</td>\n",
              "    </tr>\n",
              "    <tr>\n",
              "      <th>Apex</th>\n",
              "      <td>5.341176</td>\n",
              "      <td>90.8</td>\n",
              "    </tr>\n",
              "    <tr>\n",
              "      <th>Arabi</th>\n",
              "      <td>17.000000</td>\n",
              "      <td>17.0</td>\n",
              "    </tr>\n",
              "    <tr>\n",
              "      <th>Arlington</th>\n",
              "      <td>4.900000</td>\n",
              "      <td>4.9</td>\n",
              "    </tr>\n",
              "  </tbody>\n",
              "</table>\n",
              "</div>"
            ],
            "text/plain": [
              "              MILES*      \n",
              "                mean   sum\n",
              "START*                    \n",
              "Agnew       2.775000  11.1\n",
              "Almond     15.200000  15.2\n",
              "Apex        5.341176  90.8\n",
              "Arabi      17.000000  17.0\n",
              "Arlington   4.900000   4.9"
            ]
          },
          "metadata": {
            "tags": []
          },
          "execution_count": 74
        }
      ]
    },
    {
      "cell_type": "code",
      "metadata": {
        "id": "QGbLvEbOvcsM",
        "colab_type": "code",
        "colab": {}
      },
      "source": [
        "df.mean"
      ],
      "execution_count": null,
      "outputs": []
    },
    {
      "cell_type": "code",
      "metadata": {
        "id": "2gx9IvxGMgtx",
        "colab_type": "code",
        "colab": {}
      },
      "source": [
        "df.groupby([\"START*\",\"STOP*\"]).agg([\"mean\",\"sum\"]).head(20)\n"
      ],
      "execution_count": null,
      "outputs": []
    },
    {
      "cell_type": "markdown",
      "metadata": {
        "id": "0aeHZuj1Eo6M",
        "colab_type": "text"
      },
      "source": [
        "### In class assignment\n",
        "\n",
        "Find most recent & the earliest travelled date and mean distance traveled for each start city"
      ]
    },
    {
      "cell_type": "code",
      "metadata": {
        "id": "0O95I4iTO6L9",
        "colab_type": "code",
        "colab": {}
      },
      "source": [
        "df = df.iloc[:-1,:] # to remove the last record or tuple from the dataframe\n",
        "#df.tail()\n",
        "df[\"START_DATE*\"] = pd.to_datetime(df[\"START_DATE*\"])\n",
        "#df.dtypes\n",
        "res = df.groupby(\"START*\").agg({\"MILES*\":[\"mean\"], \"START_DATE*\":[\"min\",\"max\"]}).head(20)\n",
        "res.reset_index(inplace=True,) #inplace = for index start from 0...n; drop = replace the group by clause\n",
        "\n",
        "#res\n",
        "res.columns = [\"START_CITY*\",\"AVG_DIST*\",\"EARLIEST TRIP*\",\"RECENT TRIP*\"] #to update the columns\n",
        "res\n",
        "res.to_csv(\"res1.csv\",index=False) # to unconsider index "
      ],
      "execution_count": null,
      "outputs": []
    },
    {
      "cell_type": "markdown",
      "metadata": {
        "id": "NOJc4sl7Eo6N",
        "colab_type": "text"
      },
      "source": [
        "## Loops and Function"
      ]
    },
    {
      "cell_type": "code",
      "metadata": {
        "id": "seuCFUHmEo6O",
        "colab_type": "code",
        "colab": {}
      },
      "source": [
        "# Basic for loop\n",
        "res = []\n",
        "temp = [1,2,3,4]\n",
        "for i in temp:\n",
        "    res.append(i*i)\n",
        "res"
      ],
      "execution_count": null,
      "outputs": []
    },
    {
      "cell_type": "code",
      "metadata": {
        "id": "dNCNakmwEo6T",
        "colab_type": "code",
        "colab": {}
      },
      "source": [
        "# List comprehension way\n",
        "\n",
        "[x*x for x in temp]"
      ],
      "execution_count": null,
      "outputs": []
    },
    {
      "cell_type": "markdown",
      "metadata": {
        "id": "7FWl4wQQj4TP",
        "colab_type": "text"
      },
      "source": [
        "## ***Advanced operations on numerical columns***"
      ]
    },
    {
      "cell_type": "code",
      "metadata": {
        "id": "rxMy1vYnEo6X",
        "colab_type": "code",
        "colab": {}
      },
      "source": [
        "store_sales = pd.read_csv(\"store_sales.csv\")"
      ],
      "execution_count": null,
      "outputs": []
    },
    {
      "cell_type": "code",
      "metadata": {
        "id": "7tk3ZG8GEo6a",
        "colab_type": "code",
        "colab": {
          "base_uri": "https://localhost:8080/",
          "height": 639
        },
        "outputId": "c21cbf18-63bb-4097-f53e-58dc714570bc"
      },
      "source": [
        "store_sales.head(20)"
      ],
      "execution_count": null,
      "outputs": [
        {
          "output_type": "execute_result",
          "data": {
            "text/html": [
              "<div>\n",
              "<style scoped>\n",
              "    .dataframe tbody tr th:only-of-type {\n",
              "        vertical-align: middle;\n",
              "    }\n",
              "\n",
              "    .dataframe tbody tr th {\n",
              "        vertical-align: top;\n",
              "    }\n",
              "\n",
              "    .dataframe thead th {\n",
              "        text-align: right;\n",
              "    }\n",
              "</style>\n",
              "<table border=\"1\" class=\"dataframe\">\n",
              "  <thead>\n",
              "    <tr style=\"text-align: right;\">\n",
              "      <th></th>\n",
              "      <th>store_id</th>\n",
              "      <th>city</th>\n",
              "      <th>Jan</th>\n",
              "      <th>Feb</th>\n",
              "      <th>Mar</th>\n",
              "      <th>Apr</th>\n",
              "      <th>May</th>\n",
              "      <th>Jun</th>\n",
              "      <th>July</th>\n",
              "      <th>Aug</th>\n",
              "      <th>Sep</th>\n",
              "      <th>Oct</th>\n",
              "      <th>Nov</th>\n",
              "      <th>Dec</th>\n",
              "    </tr>\n",
              "  </thead>\n",
              "  <tbody>\n",
              "    <tr>\n",
              "      <th>0</th>\n",
              "      <td>S_1</td>\n",
              "      <td>Texas</td>\n",
              "      <td>8</td>\n",
              "      <td>20</td>\n",
              "      <td>13</td>\n",
              "      <td>21</td>\n",
              "      <td>17</td>\n",
              "      <td>20</td>\n",
              "      <td>24</td>\n",
              "      <td>17</td>\n",
              "      <td>16</td>\n",
              "      <td>9</td>\n",
              "      <td>7</td>\n",
              "      <td>6</td>\n",
              "    </tr>\n",
              "    <tr>\n",
              "      <th>1</th>\n",
              "      <td>S_2</td>\n",
              "      <td>California</td>\n",
              "      <td>12</td>\n",
              "      <td>19</td>\n",
              "      <td>15</td>\n",
              "      <td>15</td>\n",
              "      <td>11</td>\n",
              "      <td>19</td>\n",
              "      <td>7</td>\n",
              "      <td>15</td>\n",
              "      <td>10</td>\n",
              "      <td>11</td>\n",
              "      <td>21</td>\n",
              "      <td>19</td>\n",
              "    </tr>\n",
              "    <tr>\n",
              "      <th>2</th>\n",
              "      <td>S_3</td>\n",
              "      <td>California</td>\n",
              "      <td>16</td>\n",
              "      <td>16</td>\n",
              "      <td>14</td>\n",
              "      <td>19</td>\n",
              "      <td>23</td>\n",
              "      <td>6</td>\n",
              "      <td>13</td>\n",
              "      <td>13</td>\n",
              "      <td>15</td>\n",
              "      <td>14</td>\n",
              "      <td>24</td>\n",
              "      <td>8</td>\n",
              "    </tr>\n",
              "    <tr>\n",
              "      <th>3</th>\n",
              "      <td>S_4</td>\n",
              "      <td>Texas</td>\n",
              "      <td>8</td>\n",
              "      <td>18</td>\n",
              "      <td>13</td>\n",
              "      <td>10</td>\n",
              "      <td>14</td>\n",
              "      <td>14</td>\n",
              "      <td>6</td>\n",
              "      <td>8</td>\n",
              "      <td>8</td>\n",
              "      <td>18</td>\n",
              "      <td>7</td>\n",
              "      <td>11</td>\n",
              "    </tr>\n",
              "    <tr>\n",
              "      <th>4</th>\n",
              "      <td>S_5</td>\n",
              "      <td>Texas</td>\n",
              "      <td>19</td>\n",
              "      <td>5</td>\n",
              "      <td>24</td>\n",
              "      <td>9</td>\n",
              "      <td>5</td>\n",
              "      <td>24</td>\n",
              "      <td>10</td>\n",
              "      <td>5</td>\n",
              "      <td>24</td>\n",
              "      <td>15</td>\n",
              "      <td>6</td>\n",
              "      <td>13</td>\n",
              "    </tr>\n",
              "    <tr>\n",
              "      <th>5</th>\n",
              "      <td>S_6</td>\n",
              "      <td>California</td>\n",
              "      <td>14</td>\n",
              "      <td>21</td>\n",
              "      <td>18</td>\n",
              "      <td>20</td>\n",
              "      <td>21</td>\n",
              "      <td>5</td>\n",
              "      <td>18</td>\n",
              "      <td>24</td>\n",
              "      <td>7</td>\n",
              "      <td>12</td>\n",
              "      <td>11</td>\n",
              "      <td>5</td>\n",
              "    </tr>\n",
              "    <tr>\n",
              "      <th>6</th>\n",
              "      <td>S_7</td>\n",
              "      <td>Arizona</td>\n",
              "      <td>11</td>\n",
              "      <td>22</td>\n",
              "      <td>5</td>\n",
              "      <td>14</td>\n",
              "      <td>16</td>\n",
              "      <td>24</td>\n",
              "      <td>8</td>\n",
              "      <td>15</td>\n",
              "      <td>18</td>\n",
              "      <td>14</td>\n",
              "      <td>17</td>\n",
              "      <td>20</td>\n",
              "    </tr>\n",
              "    <tr>\n",
              "      <th>7</th>\n",
              "      <td>S_8</td>\n",
              "      <td>California</td>\n",
              "      <td>15</td>\n",
              "      <td>8</td>\n",
              "      <td>5</td>\n",
              "      <td>15</td>\n",
              "      <td>12</td>\n",
              "      <td>21</td>\n",
              "      <td>17</td>\n",
              "      <td>19</td>\n",
              "      <td>13</td>\n",
              "      <td>6</td>\n",
              "      <td>24</td>\n",
              "      <td>15</td>\n",
              "    </tr>\n",
              "    <tr>\n",
              "      <th>8</th>\n",
              "      <td>S_9</td>\n",
              "      <td>Texas</td>\n",
              "      <td>15</td>\n",
              "      <td>7</td>\n",
              "      <td>6</td>\n",
              "      <td>20</td>\n",
              "      <td>5</td>\n",
              "      <td>18</td>\n",
              "      <td>19</td>\n",
              "      <td>15</td>\n",
              "      <td>19</td>\n",
              "      <td>17</td>\n",
              "      <td>22</td>\n",
              "      <td>5</td>\n",
              "    </tr>\n",
              "    <tr>\n",
              "      <th>9</th>\n",
              "      <td>S_10</td>\n",
              "      <td>California</td>\n",
              "      <td>14</td>\n",
              "      <td>23</td>\n",
              "      <td>20</td>\n",
              "      <td>11</td>\n",
              "      <td>12</td>\n",
              "      <td>13</td>\n",
              "      <td>19</td>\n",
              "      <td>6</td>\n",
              "      <td>5</td>\n",
              "      <td>22</td>\n",
              "      <td>17</td>\n",
              "      <td>16</td>\n",
              "    </tr>\n",
              "    <tr>\n",
              "      <th>10</th>\n",
              "      <td>S_11</td>\n",
              "      <td>Arizona</td>\n",
              "      <td>15</td>\n",
              "      <td>24</td>\n",
              "      <td>8</td>\n",
              "      <td>15</td>\n",
              "      <td>24</td>\n",
              "      <td>21</td>\n",
              "      <td>6</td>\n",
              "      <td>21</td>\n",
              "      <td>20</td>\n",
              "      <td>13</td>\n",
              "      <td>14</td>\n",
              "      <td>15</td>\n",
              "    </tr>\n",
              "    <tr>\n",
              "      <th>11</th>\n",
              "      <td>S_12</td>\n",
              "      <td>California</td>\n",
              "      <td>6</td>\n",
              "      <td>18</td>\n",
              "      <td>21</td>\n",
              "      <td>8</td>\n",
              "      <td>5</td>\n",
              "      <td>8</td>\n",
              "      <td>11</td>\n",
              "      <td>9</td>\n",
              "      <td>21</td>\n",
              "      <td>17</td>\n",
              "      <td>18</td>\n",
              "      <td>22</td>\n",
              "    </tr>\n",
              "    <tr>\n",
              "      <th>12</th>\n",
              "      <td>S_13</td>\n",
              "      <td>Arizona</td>\n",
              "      <td>7</td>\n",
              "      <td>12</td>\n",
              "      <td>18</td>\n",
              "      <td>15</td>\n",
              "      <td>19</td>\n",
              "      <td>9</td>\n",
              "      <td>17</td>\n",
              "      <td>24</td>\n",
              "      <td>23</td>\n",
              "      <td>23</td>\n",
              "      <td>14</td>\n",
              "      <td>7</td>\n",
              "    </tr>\n",
              "    <tr>\n",
              "      <th>13</th>\n",
              "      <td>S_14</td>\n",
              "      <td>Texas</td>\n",
              "      <td>21</td>\n",
              "      <td>7</td>\n",
              "      <td>22</td>\n",
              "      <td>11</td>\n",
              "      <td>10</td>\n",
              "      <td>6</td>\n",
              "      <td>7</td>\n",
              "      <td>23</td>\n",
              "      <td>15</td>\n",
              "      <td>7</td>\n",
              "      <td>9</td>\n",
              "      <td>12</td>\n",
              "    </tr>\n",
              "    <tr>\n",
              "      <th>14</th>\n",
              "      <td>S_15</td>\n",
              "      <td>Arizona</td>\n",
              "      <td>12</td>\n",
              "      <td>6</td>\n",
              "      <td>14</td>\n",
              "      <td>21</td>\n",
              "      <td>6</td>\n",
              "      <td>13</td>\n",
              "      <td>23</td>\n",
              "      <td>17</td>\n",
              "      <td>13</td>\n",
              "      <td>21</td>\n",
              "      <td>9</td>\n",
              "      <td>18</td>\n",
              "    </tr>\n",
              "    <tr>\n",
              "      <th>15</th>\n",
              "      <td>S_16</td>\n",
              "      <td>California</td>\n",
              "      <td>18</td>\n",
              "      <td>9</td>\n",
              "      <td>8</td>\n",
              "      <td>9</td>\n",
              "      <td>21</td>\n",
              "      <td>7</td>\n",
              "      <td>19</td>\n",
              "      <td>18</td>\n",
              "      <td>21</td>\n",
              "      <td>7</td>\n",
              "      <td>7</td>\n",
              "      <td>23</td>\n",
              "    </tr>\n",
              "    <tr>\n",
              "      <th>16</th>\n",
              "      <td>S_17</td>\n",
              "      <td>California</td>\n",
              "      <td>13</td>\n",
              "      <td>8</td>\n",
              "      <td>7</td>\n",
              "      <td>22</td>\n",
              "      <td>21</td>\n",
              "      <td>24</td>\n",
              "      <td>18</td>\n",
              "      <td>5</td>\n",
              "      <td>24</td>\n",
              "      <td>18</td>\n",
              "      <td>12</td>\n",
              "      <td>17</td>\n",
              "    </tr>\n",
              "    <tr>\n",
              "      <th>17</th>\n",
              "      <td>S_18</td>\n",
              "      <td>Arizona</td>\n",
              "      <td>19</td>\n",
              "      <td>21</td>\n",
              "      <td>22</td>\n",
              "      <td>12</td>\n",
              "      <td>15</td>\n",
              "      <td>22</td>\n",
              "      <td>8</td>\n",
              "      <td>17</td>\n",
              "      <td>15</td>\n",
              "      <td>10</td>\n",
              "      <td>24</td>\n",
              "      <td>10</td>\n",
              "    </tr>\n",
              "    <tr>\n",
              "      <th>18</th>\n",
              "      <td>S_19</td>\n",
              "      <td>California</td>\n",
              "      <td>7</td>\n",
              "      <td>6</td>\n",
              "      <td>17</td>\n",
              "      <td>8</td>\n",
              "      <td>21</td>\n",
              "      <td>11</td>\n",
              "      <td>20</td>\n",
              "      <td>9</td>\n",
              "      <td>11</td>\n",
              "      <td>22</td>\n",
              "      <td>21</td>\n",
              "      <td>8</td>\n",
              "    </tr>\n",
              "    <tr>\n",
              "      <th>19</th>\n",
              "      <td>S_20</td>\n",
              "      <td>California</td>\n",
              "      <td>11</td>\n",
              "      <td>21</td>\n",
              "      <td>20</td>\n",
              "      <td>6</td>\n",
              "      <td>5</td>\n",
              "      <td>24</td>\n",
              "      <td>14</td>\n",
              "      <td>23</td>\n",
              "      <td>19</td>\n",
              "      <td>10</td>\n",
              "      <td>21</td>\n",
              "      <td>22</td>\n",
              "    </tr>\n",
              "  </tbody>\n",
              "</table>\n",
              "</div>"
            ],
            "text/plain": [
              "   store_id        city  Jan  Feb  Mar  Apr  ...  July  Aug  Sep  Oct  Nov  Dec\n",
              "0       S_1       Texas    8   20   13   21  ...    24   17   16    9    7    6\n",
              "1       S_2  California   12   19   15   15  ...     7   15   10   11   21   19\n",
              "2       S_3  California   16   16   14   19  ...    13   13   15   14   24    8\n",
              "3       S_4       Texas    8   18   13   10  ...     6    8    8   18    7   11\n",
              "4       S_5       Texas   19    5   24    9  ...    10    5   24   15    6   13\n",
              "5       S_6  California   14   21   18   20  ...    18   24    7   12   11    5\n",
              "6       S_7     Arizona   11   22    5   14  ...     8   15   18   14   17   20\n",
              "7       S_8  California   15    8    5   15  ...    17   19   13    6   24   15\n",
              "8       S_9       Texas   15    7    6   20  ...    19   15   19   17   22    5\n",
              "9      S_10  California   14   23   20   11  ...    19    6    5   22   17   16\n",
              "10     S_11     Arizona   15   24    8   15  ...     6   21   20   13   14   15\n",
              "11     S_12  California    6   18   21    8  ...    11    9   21   17   18   22\n",
              "12     S_13     Arizona    7   12   18   15  ...    17   24   23   23   14    7\n",
              "13     S_14       Texas   21    7   22   11  ...     7   23   15    7    9   12\n",
              "14     S_15     Arizona   12    6   14   21  ...    23   17   13   21    9   18\n",
              "15     S_16  California   18    9    8    9  ...    19   18   21    7    7   23\n",
              "16     S_17  California   13    8    7   22  ...    18    5   24   18   12   17\n",
              "17     S_18     Arizona   19   21   22   12  ...     8   17   15   10   24   10\n",
              "18     S_19  California    7    6   17    8  ...    20    9   11   22   21    8\n",
              "19     S_20  California   11   21   20    6  ...    14   23   19   10   21   22\n",
              "\n",
              "[20 rows x 14 columns]"
            ]
          },
          "metadata": {
            "tags": []
          },
          "execution_count": 139
        }
      ]
    },
    {
      "cell_type": "code",
      "metadata": {
        "id": "X1OJBQ3LEo6c",
        "colab_type": "code",
        "colab": {
          "base_uri": "https://localhost:8080/",
          "height": 235
        },
        "outputId": "7924eb0a-8d60-4416-91b6-991f63e092eb"
      },
      "source": [
        "# find out avg sales for each month\n",
        "#store_sales[\"Jan\"].mean() #For one month\n",
        "#store_sales.apply(\"mean\") #across month one-liner\n",
        "\n",
        "# axis = 0 for columns, axis = 1 for rows\n",
        "store_sales.apply(\"mean\", axis=0) # axis=0 (default) identifies the real-valued columns 0"
      ],
      "execution_count": null,
      "outputs": [
        {
          "output_type": "execute_result",
          "data": {
            "text/plain": [
              "Jan     14.46\n",
              "Feb     15.09\n",
              "Mar     14.56\n",
              "Apr     14.57\n",
              "May     13.56\n",
              "Jun     13.80\n",
              "July    14.38\n",
              "Aug     15.81\n",
              "Sep     14.91\n",
              "Oct     14.10\n",
              "Nov     15.31\n",
              "Dec     13.57\n",
              "dtype: float64"
            ]
          },
          "metadata": {
            "tags": []
          },
          "execution_count": 140
        }
      ]
    },
    {
      "cell_type": "code",
      "metadata": {
        "id": "ApxQNnNoEo6g",
        "colab_type": "code",
        "colab": {
          "base_uri": "https://localhost:8080/",
          "height": 235
        },
        "outputId": "f8d7fde0-e8d3-47e0-fb9b-759555de78d3"
      },
      "source": [
        "# find out avg sales for each store\n",
        "store_sales.apply(\"mean\", axis=1) #Cannot perform the renaming of columns over the Series\n",
        "#Above result is a Series \n",
        "\n",
        "\n",
        "#apply() works row-wise and col-wise (as whole)\n",
        "#agg() works in grouping over which apply() is operated\n",
        "\n",
        "store_sales.select_dtypes(include=[\"int64\",\"float64\"]).apply(\"mean\") # To forecully omit the string columns while processing "
      ],
      "execution_count": null,
      "outputs": [
        {
          "output_type": "execute_result",
          "data": {
            "text/plain": [
              "Jan     14.46\n",
              "Feb     15.09\n",
              "Mar     14.56\n",
              "Apr     14.57\n",
              "May     13.56\n",
              "Jun     13.80\n",
              "July    14.38\n",
              "Aug     15.81\n",
              "Sep     14.91\n",
              "Oct     14.10\n",
              "Nov     15.31\n",
              "Dec     13.57\n",
              "dtype: float64"
            ]
          },
          "metadata": {
            "tags": []
          },
          "execution_count": 152
        }
      ]
    },
    {
      "cell_type": "code",
      "metadata": {
        "id": "xYPznDE6o8Ds",
        "colab_type": "code",
        "colab": {
          "base_uri": "https://localhost:8080/",
          "height": 166
        },
        "outputId": "1f22360a-ae43-4a3e-d63e-b25822fec326"
      },
      "source": [
        "#store_sales.groupby(\"city\").apply(\"mean\") #ERROR!\n",
        "\n",
        "#REQ: Group by cities and then find the average of the sales\n",
        "store_sales.groupby(\"city\").agg(\"mean\")"
      ],
      "execution_count": null,
      "outputs": [
        {
          "output_type": "execute_result",
          "data": {
            "text/html": [
              "<div>\n",
              "<style scoped>\n",
              "    .dataframe tbody tr th:only-of-type {\n",
              "        vertical-align: middle;\n",
              "    }\n",
              "\n",
              "    .dataframe tbody tr th {\n",
              "        vertical-align: top;\n",
              "    }\n",
              "\n",
              "    .dataframe thead th {\n",
              "        text-align: right;\n",
              "    }\n",
              "</style>\n",
              "<table border=\"1\" class=\"dataframe\">\n",
              "  <thead>\n",
              "    <tr style=\"text-align: right;\">\n",
              "      <th></th>\n",
              "      <th>Jan</th>\n",
              "      <th>Feb</th>\n",
              "      <th>Mar</th>\n",
              "      <th>Apr</th>\n",
              "      <th>May</th>\n",
              "      <th>Jun</th>\n",
              "      <th>July</th>\n",
              "      <th>Aug</th>\n",
              "      <th>Sep</th>\n",
              "      <th>Oct</th>\n",
              "      <th>Nov</th>\n",
              "      <th>Dec</th>\n",
              "    </tr>\n",
              "    <tr>\n",
              "      <th>city</th>\n",
              "      <th></th>\n",
              "      <th></th>\n",
              "      <th></th>\n",
              "      <th></th>\n",
              "      <th></th>\n",
              "      <th></th>\n",
              "      <th></th>\n",
              "      <th></th>\n",
              "      <th></th>\n",
              "      <th></th>\n",
              "      <th></th>\n",
              "      <th></th>\n",
              "    </tr>\n",
              "  </thead>\n",
              "  <tbody>\n",
              "    <tr>\n",
              "      <th>Arizona</th>\n",
              "      <td>15.500000</td>\n",
              "      <td>15.272727</td>\n",
              "      <td>14.545455</td>\n",
              "      <td>14.954545</td>\n",
              "      <td>14.090909</td>\n",
              "      <td>15.090909</td>\n",
              "      <td>14.636364</td>\n",
              "      <td>15.500000</td>\n",
              "      <td>15.318182</td>\n",
              "      <td>14.954545</td>\n",
              "      <td>16.409091</td>\n",
              "      <td>13.318182</td>\n",
              "    </tr>\n",
              "    <tr>\n",
              "      <th>California</th>\n",
              "      <td>14.744186</td>\n",
              "      <td>15.534884</td>\n",
              "      <td>14.627907</td>\n",
              "      <td>13.976744</td>\n",
              "      <td>13.255814</td>\n",
              "      <td>13.697674</td>\n",
              "      <td>14.813953</td>\n",
              "      <td>16.232558</td>\n",
              "      <td>14.883721</td>\n",
              "      <td>14.279070</td>\n",
              "      <td>15.279070</td>\n",
              "      <td>13.604651</td>\n",
              "    </tr>\n",
              "    <tr>\n",
              "      <th>Texas</th>\n",
              "      <td>13.457143</td>\n",
              "      <td>14.428571</td>\n",
              "      <td>14.485714</td>\n",
              "      <td>15.057143</td>\n",
              "      <td>13.600000</td>\n",
              "      <td>13.114286</td>\n",
              "      <td>13.685714</td>\n",
              "      <td>15.485714</td>\n",
              "      <td>14.685714</td>\n",
              "      <td>13.342857</td>\n",
              "      <td>14.657143</td>\n",
              "      <td>13.685714</td>\n",
              "    </tr>\n",
              "  </tbody>\n",
              "</table>\n",
              "</div>"
            ],
            "text/plain": [
              "                  Jan        Feb        Mar  ...        Oct        Nov        Dec\n",
              "city                                         ...                                 \n",
              "Arizona     15.500000  15.272727  14.545455  ...  14.954545  16.409091  13.318182\n",
              "California  14.744186  15.534884  14.627907  ...  14.279070  15.279070  13.604651\n",
              "Texas       13.457143  14.428571  14.485714  ...  13.342857  14.657143  13.685714\n",
              "\n",
              "[3 rows x 12 columns]"
            ]
          },
          "metadata": {
            "tags": []
          },
          "execution_count": 175
        }
      ]
    },
    {
      "cell_type": "code",
      "metadata": {
        "id": "zSWq30TyEo6j",
        "colab_type": "code",
        "colab": {
          "base_uri": "https://localhost:8080/",
          "height": 590
        },
        "outputId": "d22e9c2a-bf8e-45c2-9d84-f158b255eb0e"
      },
      "source": [
        "def bonus_func(sales_col):\n",
        "  eli_val = np.where(sales_col >10, \"Eligible\",\"Not Eligible\")\n",
        "  return eli_val\n",
        "#store_sales[\"Jan_Bonus\"] = bonus_func(store_sales[\"Jan\"]) # add a new column based on condition\n",
        "#store_sales[\"Mar_Bonus\"] = bonus_func(store_sales[\"Mar\"])\n",
        "#newdf = store_sales.apply(bonus_func) #ERROR ! \n",
        "newdf = store_sales.select_dtypes(include=['int64','float64']).apply(bonus_func) #labeling entire frame by applying condition \n",
        "newdf\n",
        "res = pd.concat([newdf,store_sales], axis=1)\n",
        "res.shape\n",
        "res.tail(100)"
      ],
      "execution_count": null,
      "outputs": [
        {
          "output_type": "execute_result",
          "data": {
            "text/html": [
              "<div>\n",
              "<style scoped>\n",
              "    .dataframe tbody tr th:only-of-type {\n",
              "        vertical-align: middle;\n",
              "    }\n",
              "\n",
              "    .dataframe tbody tr th {\n",
              "        vertical-align: top;\n",
              "    }\n",
              "\n",
              "    .dataframe thead th {\n",
              "        text-align: right;\n",
              "    }\n",
              "</style>\n",
              "<table border=\"1\" class=\"dataframe\">\n",
              "  <thead>\n",
              "    <tr style=\"text-align: right;\">\n",
              "      <th></th>\n",
              "      <th>Jan</th>\n",
              "      <th>Feb</th>\n",
              "      <th>Mar</th>\n",
              "      <th>Apr</th>\n",
              "      <th>May</th>\n",
              "      <th>Jun</th>\n",
              "      <th>July</th>\n",
              "      <th>Aug</th>\n",
              "      <th>Sep</th>\n",
              "      <th>Oct</th>\n",
              "      <th>Nov</th>\n",
              "      <th>Dec</th>\n",
              "      <th>store_id</th>\n",
              "      <th>city</th>\n",
              "      <th>Jan</th>\n",
              "      <th>Feb</th>\n",
              "      <th>Mar</th>\n",
              "      <th>Apr</th>\n",
              "      <th>May</th>\n",
              "      <th>Jun</th>\n",
              "      <th>July</th>\n",
              "      <th>Aug</th>\n",
              "      <th>Sep</th>\n",
              "      <th>Oct</th>\n",
              "      <th>Nov</th>\n",
              "      <th>Dec</th>\n",
              "      <th>Jan_Bonus</th>\n",
              "      <th>Mar_Bonus</th>\n",
              "    </tr>\n",
              "  </thead>\n",
              "  <tbody>\n",
              "    <tr>\n",
              "      <th>0</th>\n",
              "      <td>Not Eligible</td>\n",
              "      <td>Eligible</td>\n",
              "      <td>Eligible</td>\n",
              "      <td>Eligible</td>\n",
              "      <td>Eligible</td>\n",
              "      <td>Eligible</td>\n",
              "      <td>Eligible</td>\n",
              "      <td>Eligible</td>\n",
              "      <td>Eligible</td>\n",
              "      <td>Not Eligible</td>\n",
              "      <td>Not Eligible</td>\n",
              "      <td>Not Eligible</td>\n",
              "      <td>S_1</td>\n",
              "      <td>Texas</td>\n",
              "      <td>8</td>\n",
              "      <td>20</td>\n",
              "      <td>13</td>\n",
              "      <td>21</td>\n",
              "      <td>17</td>\n",
              "      <td>20</td>\n",
              "      <td>24</td>\n",
              "      <td>17</td>\n",
              "      <td>16</td>\n",
              "      <td>9</td>\n",
              "      <td>7</td>\n",
              "      <td>6</td>\n",
              "      <td>Not Eligible</td>\n",
              "      <td>Eligible</td>\n",
              "    </tr>\n",
              "    <tr>\n",
              "      <th>1</th>\n",
              "      <td>Eligible</td>\n",
              "      <td>Eligible</td>\n",
              "      <td>Eligible</td>\n",
              "      <td>Eligible</td>\n",
              "      <td>Eligible</td>\n",
              "      <td>Eligible</td>\n",
              "      <td>Not Eligible</td>\n",
              "      <td>Eligible</td>\n",
              "      <td>Not Eligible</td>\n",
              "      <td>Eligible</td>\n",
              "      <td>Eligible</td>\n",
              "      <td>Eligible</td>\n",
              "      <td>S_2</td>\n",
              "      <td>California</td>\n",
              "      <td>12</td>\n",
              "      <td>19</td>\n",
              "      <td>15</td>\n",
              "      <td>15</td>\n",
              "      <td>11</td>\n",
              "      <td>19</td>\n",
              "      <td>7</td>\n",
              "      <td>15</td>\n",
              "      <td>10</td>\n",
              "      <td>11</td>\n",
              "      <td>21</td>\n",
              "      <td>19</td>\n",
              "      <td>Eligible</td>\n",
              "      <td>Eligible</td>\n",
              "    </tr>\n",
              "    <tr>\n",
              "      <th>2</th>\n",
              "      <td>Eligible</td>\n",
              "      <td>Eligible</td>\n",
              "      <td>Eligible</td>\n",
              "      <td>Eligible</td>\n",
              "      <td>Eligible</td>\n",
              "      <td>Not Eligible</td>\n",
              "      <td>Eligible</td>\n",
              "      <td>Eligible</td>\n",
              "      <td>Eligible</td>\n",
              "      <td>Eligible</td>\n",
              "      <td>Eligible</td>\n",
              "      <td>Not Eligible</td>\n",
              "      <td>S_3</td>\n",
              "      <td>California</td>\n",
              "      <td>16</td>\n",
              "      <td>16</td>\n",
              "      <td>14</td>\n",
              "      <td>19</td>\n",
              "      <td>23</td>\n",
              "      <td>6</td>\n",
              "      <td>13</td>\n",
              "      <td>13</td>\n",
              "      <td>15</td>\n",
              "      <td>14</td>\n",
              "      <td>24</td>\n",
              "      <td>8</td>\n",
              "      <td>Eligible</td>\n",
              "      <td>Eligible</td>\n",
              "    </tr>\n",
              "    <tr>\n",
              "      <th>3</th>\n",
              "      <td>Not Eligible</td>\n",
              "      <td>Eligible</td>\n",
              "      <td>Eligible</td>\n",
              "      <td>Not Eligible</td>\n",
              "      <td>Eligible</td>\n",
              "      <td>Eligible</td>\n",
              "      <td>Not Eligible</td>\n",
              "      <td>Not Eligible</td>\n",
              "      <td>Not Eligible</td>\n",
              "      <td>Eligible</td>\n",
              "      <td>Not Eligible</td>\n",
              "      <td>Eligible</td>\n",
              "      <td>S_4</td>\n",
              "      <td>Texas</td>\n",
              "      <td>8</td>\n",
              "      <td>18</td>\n",
              "      <td>13</td>\n",
              "      <td>10</td>\n",
              "      <td>14</td>\n",
              "      <td>14</td>\n",
              "      <td>6</td>\n",
              "      <td>8</td>\n",
              "      <td>8</td>\n",
              "      <td>18</td>\n",
              "      <td>7</td>\n",
              "      <td>11</td>\n",
              "      <td>Not Eligible</td>\n",
              "      <td>Eligible</td>\n",
              "    </tr>\n",
              "    <tr>\n",
              "      <th>4</th>\n",
              "      <td>Eligible</td>\n",
              "      <td>Not Eligible</td>\n",
              "      <td>Eligible</td>\n",
              "      <td>Not Eligible</td>\n",
              "      <td>Not Eligible</td>\n",
              "      <td>Eligible</td>\n",
              "      <td>Not Eligible</td>\n",
              "      <td>Not Eligible</td>\n",
              "      <td>Eligible</td>\n",
              "      <td>Eligible</td>\n",
              "      <td>Not Eligible</td>\n",
              "      <td>Eligible</td>\n",
              "      <td>S_5</td>\n",
              "      <td>Texas</td>\n",
              "      <td>19</td>\n",
              "      <td>5</td>\n",
              "      <td>24</td>\n",
              "      <td>9</td>\n",
              "      <td>5</td>\n",
              "      <td>24</td>\n",
              "      <td>10</td>\n",
              "      <td>5</td>\n",
              "      <td>24</td>\n",
              "      <td>15</td>\n",
              "      <td>6</td>\n",
              "      <td>13</td>\n",
              "      <td>Eligible</td>\n",
              "      <td>Eligible</td>\n",
              "    </tr>\n",
              "    <tr>\n",
              "      <th>...</th>\n",
              "      <td>...</td>\n",
              "      <td>...</td>\n",
              "      <td>...</td>\n",
              "      <td>...</td>\n",
              "      <td>...</td>\n",
              "      <td>...</td>\n",
              "      <td>...</td>\n",
              "      <td>...</td>\n",
              "      <td>...</td>\n",
              "      <td>...</td>\n",
              "      <td>...</td>\n",
              "      <td>...</td>\n",
              "      <td>...</td>\n",
              "      <td>...</td>\n",
              "      <td>...</td>\n",
              "      <td>...</td>\n",
              "      <td>...</td>\n",
              "      <td>...</td>\n",
              "      <td>...</td>\n",
              "      <td>...</td>\n",
              "      <td>...</td>\n",
              "      <td>...</td>\n",
              "      <td>...</td>\n",
              "      <td>...</td>\n",
              "      <td>...</td>\n",
              "      <td>...</td>\n",
              "      <td>...</td>\n",
              "      <td>...</td>\n",
              "    </tr>\n",
              "    <tr>\n",
              "      <th>95</th>\n",
              "      <td>Not Eligible</td>\n",
              "      <td>Not Eligible</td>\n",
              "      <td>Eligible</td>\n",
              "      <td>Eligible</td>\n",
              "      <td>Not Eligible</td>\n",
              "      <td>Eligible</td>\n",
              "      <td>Eligible</td>\n",
              "      <td>Eligible</td>\n",
              "      <td>Eligible</td>\n",
              "      <td>Not Eligible</td>\n",
              "      <td>Eligible</td>\n",
              "      <td>Eligible</td>\n",
              "      <td>S_96</td>\n",
              "      <td>Texas</td>\n",
              "      <td>7</td>\n",
              "      <td>10</td>\n",
              "      <td>20</td>\n",
              "      <td>20</td>\n",
              "      <td>10</td>\n",
              "      <td>15</td>\n",
              "      <td>15</td>\n",
              "      <td>21</td>\n",
              "      <td>15</td>\n",
              "      <td>7</td>\n",
              "      <td>23</td>\n",
              "      <td>22</td>\n",
              "      <td>Not Eligible</td>\n",
              "      <td>Eligible</td>\n",
              "    </tr>\n",
              "    <tr>\n",
              "      <th>96</th>\n",
              "      <td>Eligible</td>\n",
              "      <td>Not Eligible</td>\n",
              "      <td>Not Eligible</td>\n",
              "      <td>Eligible</td>\n",
              "      <td>Eligible</td>\n",
              "      <td>Not Eligible</td>\n",
              "      <td>Eligible</td>\n",
              "      <td>Eligible</td>\n",
              "      <td>Not Eligible</td>\n",
              "      <td>Not Eligible</td>\n",
              "      <td>Eligible</td>\n",
              "      <td>Not Eligible</td>\n",
              "      <td>S_97</td>\n",
              "      <td>California</td>\n",
              "      <td>13</td>\n",
              "      <td>6</td>\n",
              "      <td>7</td>\n",
              "      <td>15</td>\n",
              "      <td>22</td>\n",
              "      <td>10</td>\n",
              "      <td>21</td>\n",
              "      <td>23</td>\n",
              "      <td>10</td>\n",
              "      <td>6</td>\n",
              "      <td>12</td>\n",
              "      <td>9</td>\n",
              "      <td>Eligible</td>\n",
              "      <td>Not Eligible</td>\n",
              "    </tr>\n",
              "    <tr>\n",
              "      <th>97</th>\n",
              "      <td>Eligible</td>\n",
              "      <td>Not Eligible</td>\n",
              "      <td>Not Eligible</td>\n",
              "      <td>Eligible</td>\n",
              "      <td>Eligible</td>\n",
              "      <td>Eligible</td>\n",
              "      <td>Eligible</td>\n",
              "      <td>Not Eligible</td>\n",
              "      <td>Not Eligible</td>\n",
              "      <td>Eligible</td>\n",
              "      <td>Eligible</td>\n",
              "      <td>Eligible</td>\n",
              "      <td>S_98</td>\n",
              "      <td>Texas</td>\n",
              "      <td>16</td>\n",
              "      <td>9</td>\n",
              "      <td>6</td>\n",
              "      <td>14</td>\n",
              "      <td>20</td>\n",
              "      <td>13</td>\n",
              "      <td>11</td>\n",
              "      <td>10</td>\n",
              "      <td>8</td>\n",
              "      <td>22</td>\n",
              "      <td>17</td>\n",
              "      <td>22</td>\n",
              "      <td>Eligible</td>\n",
              "      <td>Not Eligible</td>\n",
              "    </tr>\n",
              "    <tr>\n",
              "      <th>98</th>\n",
              "      <td>Eligible</td>\n",
              "      <td>Eligible</td>\n",
              "      <td>Not Eligible</td>\n",
              "      <td>Not Eligible</td>\n",
              "      <td>Eligible</td>\n",
              "      <td>Eligible</td>\n",
              "      <td>Eligible</td>\n",
              "      <td>Eligible</td>\n",
              "      <td>Eligible</td>\n",
              "      <td>Eligible</td>\n",
              "      <td>Eligible</td>\n",
              "      <td>Not Eligible</td>\n",
              "      <td>S_99</td>\n",
              "      <td>Arizona</td>\n",
              "      <td>18</td>\n",
              "      <td>16</td>\n",
              "      <td>9</td>\n",
              "      <td>5</td>\n",
              "      <td>12</td>\n",
              "      <td>22</td>\n",
              "      <td>11</td>\n",
              "      <td>13</td>\n",
              "      <td>21</td>\n",
              "      <td>17</td>\n",
              "      <td>19</td>\n",
              "      <td>10</td>\n",
              "      <td>Eligible</td>\n",
              "      <td>Not Eligible</td>\n",
              "    </tr>\n",
              "    <tr>\n",
              "      <th>99</th>\n",
              "      <td>Not Eligible</td>\n",
              "      <td>Eligible</td>\n",
              "      <td>Eligible</td>\n",
              "      <td>Eligible</td>\n",
              "      <td>Eligible</td>\n",
              "      <td>Eligible</td>\n",
              "      <td>Eligible</td>\n",
              "      <td>Not Eligible</td>\n",
              "      <td>Eligible</td>\n",
              "      <td>Eligible</td>\n",
              "      <td>Not Eligible</td>\n",
              "      <td>Not Eligible</td>\n",
              "      <td>S_100</td>\n",
              "      <td>California</td>\n",
              "      <td>5</td>\n",
              "      <td>23</td>\n",
              "      <td>17</td>\n",
              "      <td>24</td>\n",
              "      <td>15</td>\n",
              "      <td>21</td>\n",
              "      <td>19</td>\n",
              "      <td>10</td>\n",
              "      <td>12</td>\n",
              "      <td>20</td>\n",
              "      <td>5</td>\n",
              "      <td>9</td>\n",
              "      <td>Not Eligible</td>\n",
              "      <td>Eligible</td>\n",
              "    </tr>\n",
              "  </tbody>\n",
              "</table>\n",
              "<p>100 rows × 28 columns</p>\n",
              "</div>"
            ],
            "text/plain": [
              "             Jan           Feb           Mar  ... Dec     Jan_Bonus     Mar_Bonus\n",
              "0   Not Eligible      Eligible      Eligible  ...   6  Not Eligible      Eligible\n",
              "1       Eligible      Eligible      Eligible  ...  19      Eligible      Eligible\n",
              "2       Eligible      Eligible      Eligible  ...   8      Eligible      Eligible\n",
              "3   Not Eligible      Eligible      Eligible  ...  11  Not Eligible      Eligible\n",
              "4       Eligible  Not Eligible      Eligible  ...  13      Eligible      Eligible\n",
              "..           ...           ...           ...  ...  ..           ...           ...\n",
              "95  Not Eligible  Not Eligible      Eligible  ...  22  Not Eligible      Eligible\n",
              "96      Eligible  Not Eligible  Not Eligible  ...   9      Eligible  Not Eligible\n",
              "97      Eligible  Not Eligible  Not Eligible  ...  22      Eligible  Not Eligible\n",
              "98      Eligible      Eligible  Not Eligible  ...  10      Eligible  Not Eligible\n",
              "99  Not Eligible      Eligible      Eligible  ...   9  Not Eligible      Eligible\n",
              "\n",
              "[100 rows x 28 columns]"
            ]
          },
          "metadata": {
            "tags": []
          },
          "execution_count": 72
        }
      ]
    },
    {
      "cell_type": "code",
      "metadata": {
        "id": "0u0jdybUEo6k",
        "colab_type": "code",
        "colab": {
          "base_uri": "https://localhost:8080/",
          "height": 34
        },
        "outputId": "791075d2-5ccf-4fce-d48b-728c90a3199b"
      },
      "source": [
        "def bonus_func(sales_col):\n",
        "    return [\"Eligible\" if x > 15 else \"Not Eligible\" for x in sales_col]\n",
        "bonus_func([12,23,56])"
      ],
      "execution_count": null,
      "outputs": [
        {
          "output_type": "execute_result",
          "data": {
            "text/plain": [
              "['Not Eligible', 'Eligible', 'Eligible']"
            ]
          },
          "metadata": {
            "tags": []
          },
          "execution_count": 20
        }
      ]
    },
    {
      "cell_type": "code",
      "metadata": {
        "id": "zAi_M3KBwxFH",
        "colab_type": "code",
        "colab": {
          "base_uri": "https://localhost:8080/",
          "height": 195
        },
        "outputId": "c5fffdc0-587c-466f-a100-77d8bc6fce92"
      },
      "source": [
        "store_sales.iloc[:,2:].select_dtypes(include=['int64','float64']).apply(bonus_func).head() #POS-based"
      ],
      "execution_count": null,
      "outputs": [
        {
          "output_type": "execute_result",
          "data": {
            "text/html": [
              "<div>\n",
              "<style scoped>\n",
              "    .dataframe tbody tr th:only-of-type {\n",
              "        vertical-align: middle;\n",
              "    }\n",
              "\n",
              "    .dataframe tbody tr th {\n",
              "        vertical-align: top;\n",
              "    }\n",
              "\n",
              "    .dataframe thead th {\n",
              "        text-align: right;\n",
              "    }\n",
              "</style>\n",
              "<table border=\"1\" class=\"dataframe\">\n",
              "  <thead>\n",
              "    <tr style=\"text-align: right;\">\n",
              "      <th></th>\n",
              "      <th>Jan</th>\n",
              "      <th>Feb</th>\n",
              "      <th>Mar</th>\n",
              "      <th>Apr</th>\n",
              "      <th>May</th>\n",
              "      <th>Jun</th>\n",
              "      <th>July</th>\n",
              "      <th>Aug</th>\n",
              "      <th>Sep</th>\n",
              "      <th>Oct</th>\n",
              "      <th>Nov</th>\n",
              "      <th>Dec</th>\n",
              "    </tr>\n",
              "  </thead>\n",
              "  <tbody>\n",
              "    <tr>\n",
              "      <th>0</th>\n",
              "      <td>Not Eligible</td>\n",
              "      <td>Eligible</td>\n",
              "      <td>Eligible</td>\n",
              "      <td>Eligible</td>\n",
              "      <td>Eligible</td>\n",
              "      <td>Eligible</td>\n",
              "      <td>Eligible</td>\n",
              "      <td>Eligible</td>\n",
              "      <td>Eligible</td>\n",
              "      <td>Not Eligible</td>\n",
              "      <td>Not Eligible</td>\n",
              "      <td>Not Eligible</td>\n",
              "    </tr>\n",
              "    <tr>\n",
              "      <th>1</th>\n",
              "      <td>Eligible</td>\n",
              "      <td>Eligible</td>\n",
              "      <td>Eligible</td>\n",
              "      <td>Eligible</td>\n",
              "      <td>Eligible</td>\n",
              "      <td>Eligible</td>\n",
              "      <td>Not Eligible</td>\n",
              "      <td>Eligible</td>\n",
              "      <td>Not Eligible</td>\n",
              "      <td>Eligible</td>\n",
              "      <td>Eligible</td>\n",
              "      <td>Eligible</td>\n",
              "    </tr>\n",
              "    <tr>\n",
              "      <th>2</th>\n",
              "      <td>Eligible</td>\n",
              "      <td>Eligible</td>\n",
              "      <td>Eligible</td>\n",
              "      <td>Eligible</td>\n",
              "      <td>Eligible</td>\n",
              "      <td>Not Eligible</td>\n",
              "      <td>Eligible</td>\n",
              "      <td>Eligible</td>\n",
              "      <td>Eligible</td>\n",
              "      <td>Eligible</td>\n",
              "      <td>Eligible</td>\n",
              "      <td>Not Eligible</td>\n",
              "    </tr>\n",
              "    <tr>\n",
              "      <th>3</th>\n",
              "      <td>Not Eligible</td>\n",
              "      <td>Eligible</td>\n",
              "      <td>Eligible</td>\n",
              "      <td>Not Eligible</td>\n",
              "      <td>Eligible</td>\n",
              "      <td>Eligible</td>\n",
              "      <td>Not Eligible</td>\n",
              "      <td>Not Eligible</td>\n",
              "      <td>Not Eligible</td>\n",
              "      <td>Eligible</td>\n",
              "      <td>Not Eligible</td>\n",
              "      <td>Eligible</td>\n",
              "    </tr>\n",
              "    <tr>\n",
              "      <th>4</th>\n",
              "      <td>Eligible</td>\n",
              "      <td>Not Eligible</td>\n",
              "      <td>Eligible</td>\n",
              "      <td>Not Eligible</td>\n",
              "      <td>Not Eligible</td>\n",
              "      <td>Eligible</td>\n",
              "      <td>Not Eligible</td>\n",
              "      <td>Not Eligible</td>\n",
              "      <td>Eligible</td>\n",
              "      <td>Eligible</td>\n",
              "      <td>Not Eligible</td>\n",
              "      <td>Eligible</td>\n",
              "    </tr>\n",
              "  </tbody>\n",
              "</table>\n",
              "</div>"
            ],
            "text/plain": [
              "            Jan           Feb  ...           Nov           Dec\n",
              "0  Not Eligible      Eligible  ...  Not Eligible  Not Eligible\n",
              "1      Eligible      Eligible  ...      Eligible      Eligible\n",
              "2      Eligible      Eligible  ...      Eligible  Not Eligible\n",
              "3  Not Eligible      Eligible  ...  Not Eligible      Eligible\n",
              "4      Eligible  Not Eligible  ...  Not Eligible      Eligible\n",
              "\n",
              "[5 rows x 12 columns]"
            ]
          },
          "metadata": {
            "tags": []
          },
          "execution_count": 42
        }
      ]
    },
    {
      "cell_type": "code",
      "metadata": {
        "id": "v1e5NGezEo6n",
        "colab_type": "code",
        "colab": {
          "base_uri": "https://localhost:8080/",
          "height": 195
        },
        "outputId": "58d0fd0b-e80f-45bc-d778-e194c4705344"
      },
      "source": [
        "store_sales.loc[:,\"Jan\":].select_dtypes(include=['int64','float64']).apply(bonus_func).head() #label-based"
      ],
      "execution_count": null,
      "outputs": [
        {
          "output_type": "execute_result",
          "data": {
            "text/html": [
              "<div>\n",
              "<style scoped>\n",
              "    .dataframe tbody tr th:only-of-type {\n",
              "        vertical-align: middle;\n",
              "    }\n",
              "\n",
              "    .dataframe tbody tr th {\n",
              "        vertical-align: top;\n",
              "    }\n",
              "\n",
              "    .dataframe thead th {\n",
              "        text-align: right;\n",
              "    }\n",
              "</style>\n",
              "<table border=\"1\" class=\"dataframe\">\n",
              "  <thead>\n",
              "    <tr style=\"text-align: right;\">\n",
              "      <th></th>\n",
              "      <th>Jan</th>\n",
              "      <th>Feb</th>\n",
              "      <th>Mar</th>\n",
              "      <th>Apr</th>\n",
              "      <th>May</th>\n",
              "      <th>Jun</th>\n",
              "      <th>July</th>\n",
              "      <th>Aug</th>\n",
              "      <th>Sep</th>\n",
              "      <th>Oct</th>\n",
              "      <th>Nov</th>\n",
              "      <th>Dec</th>\n",
              "    </tr>\n",
              "  </thead>\n",
              "  <tbody>\n",
              "    <tr>\n",
              "      <th>0</th>\n",
              "      <td>Not Eligible</td>\n",
              "      <td>Eligible</td>\n",
              "      <td>Eligible</td>\n",
              "      <td>Eligible</td>\n",
              "      <td>Eligible</td>\n",
              "      <td>Eligible</td>\n",
              "      <td>Eligible</td>\n",
              "      <td>Eligible</td>\n",
              "      <td>Eligible</td>\n",
              "      <td>Not Eligible</td>\n",
              "      <td>Not Eligible</td>\n",
              "      <td>Not Eligible</td>\n",
              "    </tr>\n",
              "    <tr>\n",
              "      <th>1</th>\n",
              "      <td>Eligible</td>\n",
              "      <td>Eligible</td>\n",
              "      <td>Eligible</td>\n",
              "      <td>Eligible</td>\n",
              "      <td>Eligible</td>\n",
              "      <td>Eligible</td>\n",
              "      <td>Not Eligible</td>\n",
              "      <td>Eligible</td>\n",
              "      <td>Not Eligible</td>\n",
              "      <td>Eligible</td>\n",
              "      <td>Eligible</td>\n",
              "      <td>Eligible</td>\n",
              "    </tr>\n",
              "    <tr>\n",
              "      <th>2</th>\n",
              "      <td>Eligible</td>\n",
              "      <td>Eligible</td>\n",
              "      <td>Eligible</td>\n",
              "      <td>Eligible</td>\n",
              "      <td>Eligible</td>\n",
              "      <td>Not Eligible</td>\n",
              "      <td>Eligible</td>\n",
              "      <td>Eligible</td>\n",
              "      <td>Eligible</td>\n",
              "      <td>Eligible</td>\n",
              "      <td>Eligible</td>\n",
              "      <td>Not Eligible</td>\n",
              "    </tr>\n",
              "    <tr>\n",
              "      <th>3</th>\n",
              "      <td>Not Eligible</td>\n",
              "      <td>Eligible</td>\n",
              "      <td>Eligible</td>\n",
              "      <td>Not Eligible</td>\n",
              "      <td>Eligible</td>\n",
              "      <td>Eligible</td>\n",
              "      <td>Not Eligible</td>\n",
              "      <td>Not Eligible</td>\n",
              "      <td>Not Eligible</td>\n",
              "      <td>Eligible</td>\n",
              "      <td>Not Eligible</td>\n",
              "      <td>Eligible</td>\n",
              "    </tr>\n",
              "    <tr>\n",
              "      <th>4</th>\n",
              "      <td>Eligible</td>\n",
              "      <td>Not Eligible</td>\n",
              "      <td>Eligible</td>\n",
              "      <td>Not Eligible</td>\n",
              "      <td>Not Eligible</td>\n",
              "      <td>Eligible</td>\n",
              "      <td>Not Eligible</td>\n",
              "      <td>Not Eligible</td>\n",
              "      <td>Eligible</td>\n",
              "      <td>Eligible</td>\n",
              "      <td>Not Eligible</td>\n",
              "      <td>Eligible</td>\n",
              "    </tr>\n",
              "  </tbody>\n",
              "</table>\n",
              "</div>"
            ],
            "text/plain": [
              "            Jan           Feb  ...           Nov           Dec\n",
              "0  Not Eligible      Eligible  ...  Not Eligible  Not Eligible\n",
              "1      Eligible      Eligible  ...      Eligible      Eligible\n",
              "2      Eligible      Eligible  ...      Eligible  Not Eligible\n",
              "3  Not Eligible      Eligible  ...  Not Eligible      Eligible\n",
              "4      Eligible  Not Eligible  ...  Not Eligible      Eligible\n",
              "\n",
              "[5 rows x 12 columns]"
            ]
          },
          "metadata": {
            "tags": []
          },
          "execution_count": 52
        }
      ]
    },
    {
      "cell_type": "code",
      "metadata": {
        "id": "WxD0Gv7KEo6p",
        "colab_type": "code",
        "colab": {
          "base_uri": "https://localhost:8080/",
          "height": 195
        },
        "outputId": "4bfc95e1-84c0-474a-829f-d8d942650b19"
      },
      "source": [
        "store_sales.iloc[:,2:].select_dtypes(include=['int64','float64']).apply(lambda sales_numbers: [\"Eligible\" if x > 15 else \"Not Eligible\" for x in sales_numbers]).head() #without func call"
      ],
      "execution_count": null,
      "outputs": [
        {
          "output_type": "execute_result",
          "data": {
            "text/html": [
              "<div>\n",
              "<style scoped>\n",
              "    .dataframe tbody tr th:only-of-type {\n",
              "        vertical-align: middle;\n",
              "    }\n",
              "\n",
              "    .dataframe tbody tr th {\n",
              "        vertical-align: top;\n",
              "    }\n",
              "\n",
              "    .dataframe thead th {\n",
              "        text-align: right;\n",
              "    }\n",
              "</style>\n",
              "<table border=\"1\" class=\"dataframe\">\n",
              "  <thead>\n",
              "    <tr style=\"text-align: right;\">\n",
              "      <th></th>\n",
              "      <th>Jan</th>\n",
              "      <th>Feb</th>\n",
              "      <th>Mar</th>\n",
              "      <th>Apr</th>\n",
              "      <th>May</th>\n",
              "      <th>Jun</th>\n",
              "      <th>July</th>\n",
              "      <th>Aug</th>\n",
              "      <th>Sep</th>\n",
              "      <th>Oct</th>\n",
              "      <th>Nov</th>\n",
              "      <th>Dec</th>\n",
              "    </tr>\n",
              "  </thead>\n",
              "  <tbody>\n",
              "    <tr>\n",
              "      <th>0</th>\n",
              "      <td>Not Eligible</td>\n",
              "      <td>Eligible</td>\n",
              "      <td>Not Eligible</td>\n",
              "      <td>Eligible</td>\n",
              "      <td>Eligible</td>\n",
              "      <td>Eligible</td>\n",
              "      <td>Eligible</td>\n",
              "      <td>Eligible</td>\n",
              "      <td>Eligible</td>\n",
              "      <td>Not Eligible</td>\n",
              "      <td>Not Eligible</td>\n",
              "      <td>Not Eligible</td>\n",
              "    </tr>\n",
              "    <tr>\n",
              "      <th>1</th>\n",
              "      <td>Not Eligible</td>\n",
              "      <td>Eligible</td>\n",
              "      <td>Not Eligible</td>\n",
              "      <td>Not Eligible</td>\n",
              "      <td>Not Eligible</td>\n",
              "      <td>Eligible</td>\n",
              "      <td>Not Eligible</td>\n",
              "      <td>Not Eligible</td>\n",
              "      <td>Not Eligible</td>\n",
              "      <td>Not Eligible</td>\n",
              "      <td>Eligible</td>\n",
              "      <td>Eligible</td>\n",
              "    </tr>\n",
              "    <tr>\n",
              "      <th>2</th>\n",
              "      <td>Eligible</td>\n",
              "      <td>Eligible</td>\n",
              "      <td>Not Eligible</td>\n",
              "      <td>Eligible</td>\n",
              "      <td>Eligible</td>\n",
              "      <td>Not Eligible</td>\n",
              "      <td>Not Eligible</td>\n",
              "      <td>Not Eligible</td>\n",
              "      <td>Not Eligible</td>\n",
              "      <td>Not Eligible</td>\n",
              "      <td>Eligible</td>\n",
              "      <td>Not Eligible</td>\n",
              "    </tr>\n",
              "    <tr>\n",
              "      <th>3</th>\n",
              "      <td>Not Eligible</td>\n",
              "      <td>Eligible</td>\n",
              "      <td>Not Eligible</td>\n",
              "      <td>Not Eligible</td>\n",
              "      <td>Not Eligible</td>\n",
              "      <td>Not Eligible</td>\n",
              "      <td>Not Eligible</td>\n",
              "      <td>Not Eligible</td>\n",
              "      <td>Not Eligible</td>\n",
              "      <td>Eligible</td>\n",
              "      <td>Not Eligible</td>\n",
              "      <td>Not Eligible</td>\n",
              "    </tr>\n",
              "    <tr>\n",
              "      <th>4</th>\n",
              "      <td>Eligible</td>\n",
              "      <td>Not Eligible</td>\n",
              "      <td>Eligible</td>\n",
              "      <td>Not Eligible</td>\n",
              "      <td>Not Eligible</td>\n",
              "      <td>Eligible</td>\n",
              "      <td>Not Eligible</td>\n",
              "      <td>Not Eligible</td>\n",
              "      <td>Eligible</td>\n",
              "      <td>Not Eligible</td>\n",
              "      <td>Not Eligible</td>\n",
              "      <td>Not Eligible</td>\n",
              "    </tr>\n",
              "  </tbody>\n",
              "</table>\n",
              "</div>"
            ],
            "text/plain": [
              "            Jan           Feb  ...           Nov           Dec\n",
              "0  Not Eligible      Eligible  ...  Not Eligible  Not Eligible\n",
              "1  Not Eligible      Eligible  ...      Eligible      Eligible\n",
              "2      Eligible      Eligible  ...      Eligible  Not Eligible\n",
              "3  Not Eligible      Eligible  ...  Not Eligible  Not Eligible\n",
              "4      Eligible  Not Eligible  ...  Not Eligible  Not Eligible\n",
              "\n",
              "[5 rows x 12 columns]"
            ]
          },
          "metadata": {
            "tags": []
          },
          "execution_count": 53
        }
      ]
    },
    {
      "cell_type": "code",
      "metadata": {
        "id": "vJXdqki9Eo6r",
        "colab_type": "code",
        "colab": {
          "base_uri": "https://localhost:8080/",
          "height": 67
        },
        "outputId": "b13358a5-cafb-48ee-eca8-a0ca2a3c16f7"
      },
      "source": [
        "store_sales.columns"
      ],
      "execution_count": null,
      "outputs": [
        {
          "output_type": "execute_result",
          "data": {
            "text/plain": [
              "Index(['store_id', 'city', 'Jan', 'Feb', 'Mar', 'Apr', 'May', 'Jun', 'July',\n",
              "       'Aug', 'Sep', 'Oct', 'Nov', 'Dec', 'Jan_Bonus', 'Mar_Bonus'],\n",
              "      dtype='object')"
            ]
          },
          "metadata": {
            "tags": []
          },
          "execution_count": 54
        }
      ]
    },
    {
      "cell_type": "code",
      "metadata": {
        "id": "V5NpJQ8DEo6u",
        "colab_type": "code",
        "colab": {}
      },
      "source": [
        "store_sales.groupby(\"city\").agg(\"mean\")"
      ],
      "execution_count": null,
      "outputs": []
    },
    {
      "cell_type": "markdown",
      "metadata": {
        "collapsed": true,
        "id": "Lev0ALNkEo6w",
        "colab_type": "text"
      },
      "source": [
        "### Assignments\n",
        "\n",
        "1) Find mean quarterly sales by store\n",
        "\n",
        "2) Find the month with highest sales for each store\n"
      ]
    },
    {
      "cell_type": "markdown",
      "metadata": {
        "id": "KGxmbREhEo6x",
        "colab_type": "text"
      },
      "source": [
        "## Other/Miscellaneous topics"
      ]
    },
    {
      "cell_type": "markdown",
      "metadata": {
        "id": "mho8c9CyEo6y",
        "colab_type": "text"
      },
      "source": [
        "### Missing value treatment\n"
      ]
    },
    {
      "cell_type": "code",
      "metadata": {
        "id": "lj9nub_jEo6y",
        "colab_type": "code",
        "colab": {
          "base_uri": "https://localhost:8080/",
          "height": 168
        },
        "outputId": "55f8ebd9-9d58-4659-9626-4a01f9f76040"
      },
      "source": [
        "df.isnull().sum()"
      ],
      "execution_count": null,
      "outputs": [
        {
          "output_type": "execute_result",
          "data": {
            "text/plain": [
              "START_DATE*      1\n",
              "END_DATE*        1\n",
              "CATEGORY*        1\n",
              "START*           1\n",
              "STOP*            1\n",
              "MILES*           0\n",
              "PURPOSE*       503\n",
              "miles_cat        0\n",
              "dtype: int64"
            ]
          },
          "metadata": {
            "tags": []
          },
          "execution_count": 56
        }
      ]
    },
    {
      "cell_type": "code",
      "metadata": {
        "id": "2ytBRAZWEo64",
        "colab_type": "code",
        "colab": {
          "base_uri": "https://localhost:8080/",
          "height": 151
        },
        "outputId": "7fd5eaf3-cd17-40ef-e563-bd0d8eb444cb"
      },
      "source": [
        "## Count missing values\n",
        "df.isnull().sum()"
      ],
      "execution_count": null,
      "outputs": [
        {
          "output_type": "execute_result",
          "data": {
            "text/plain": [
              "START_DATE*    0\n",
              "END_DATE*      0\n",
              "CATEGORY*      0\n",
              "START*         0\n",
              "STOP*          0\n",
              "MILES*         0\n",
              "PURPOSE*       0\n",
              "dtype: int64"
            ]
          },
          "metadata": {
            "tags": []
          },
          "execution_count": 69
        }
      ]
    },
    {
      "cell_type": "code",
      "metadata": {
        "id": "y-w7puvLEo66",
        "colab_type": "code",
        "colab": {
          "base_uri": "https://localhost:8080/",
          "height": 218
        },
        "outputId": "fb98cf58-5627-43eb-ea7f-f26bbe0e9fee"
      },
      "source": [
        "# Fill NA with most common values\n",
        "df[\"PURPOSE*\"].value_counts()"
      ],
      "execution_count": null,
      "outputs": [
        {
          "output_type": "execute_result",
          "data": {
            "text/plain": [
              "Not Mentioned      488\n",
              "Meeting            157\n",
              "Meal-Entertain     130\n",
              "Errand-Supplies     86\n",
              "Customer Visit      76\n",
              "Temporary Site      40\n",
              "Between Offices     16\n",
              "Moving               4\n",
              "Commute              1\n",
              "Charity ($)          1\n",
              "Airport-Travel       1\n",
              "Name: PURPOSE*, dtype: int64"
            ]
          },
          "metadata": {
            "tags": []
          },
          "execution_count": 68
        }
      ]
    },
    {
      "cell_type": "code",
      "metadata": {
        "id": "2D8af_wCEo68",
        "colab_type": "code",
        "colab": {
          "base_uri": "https://localhost:8080/",
          "height": 402
        },
        "outputId": "6b6793d1-0f76-4263-c718-c223ae1b46e5"
      },
      "source": [
        "df = df.fillna({\"PURPOSE*\":\"Not Mentioned\"}).head(1000) #one time operation\n",
        "df"
      ],
      "execution_count": null,
      "outputs": [
        {
          "output_type": "execute_result",
          "data": {
            "text/html": [
              "<div>\n",
              "<style scoped>\n",
              "    .dataframe tbody tr th:only-of-type {\n",
              "        vertical-align: middle;\n",
              "    }\n",
              "\n",
              "    .dataframe tbody tr th {\n",
              "        vertical-align: top;\n",
              "    }\n",
              "\n",
              "    .dataframe thead th {\n",
              "        text-align: right;\n",
              "    }\n",
              "</style>\n",
              "<table border=\"1\" class=\"dataframe\">\n",
              "  <thead>\n",
              "    <tr style=\"text-align: right;\">\n",
              "      <th></th>\n",
              "      <th>START_DATE*</th>\n",
              "      <th>END_DATE*</th>\n",
              "      <th>CATEGORY*</th>\n",
              "      <th>START*</th>\n",
              "      <th>STOP*</th>\n",
              "      <th>MILES*</th>\n",
              "      <th>PURPOSE*</th>\n",
              "    </tr>\n",
              "  </thead>\n",
              "  <tbody>\n",
              "    <tr>\n",
              "      <th>0</th>\n",
              "      <td>01-01-2016 21:11</td>\n",
              "      <td>01-01-2016 21:17</td>\n",
              "      <td>Business</td>\n",
              "      <td>Fort Pierce</td>\n",
              "      <td>Fort Pierce</td>\n",
              "      <td>5.1</td>\n",
              "      <td>Meal-Entertain</td>\n",
              "    </tr>\n",
              "    <tr>\n",
              "      <th>1</th>\n",
              "      <td>01-02-2016 01:25</td>\n",
              "      <td>01-02-2016 01:37</td>\n",
              "      <td>Business</td>\n",
              "      <td>Fort Pierce</td>\n",
              "      <td>Fort Pierce</td>\n",
              "      <td>5.0</td>\n",
              "      <td>Not Mentioned</td>\n",
              "    </tr>\n",
              "    <tr>\n",
              "      <th>2</th>\n",
              "      <td>01-02-2016 20:25</td>\n",
              "      <td>01-02-2016 20:38</td>\n",
              "      <td>Business</td>\n",
              "      <td>Fort Pierce</td>\n",
              "      <td>Fort Pierce</td>\n",
              "      <td>4.8</td>\n",
              "      <td>Errand-Supplies</td>\n",
              "    </tr>\n",
              "    <tr>\n",
              "      <th>3</th>\n",
              "      <td>01-05-2016 17:31</td>\n",
              "      <td>01-05-2016 17:45</td>\n",
              "      <td>Business</td>\n",
              "      <td>Fort Pierce</td>\n",
              "      <td>Fort Pierce</td>\n",
              "      <td>4.7</td>\n",
              "      <td>Meeting</td>\n",
              "    </tr>\n",
              "    <tr>\n",
              "      <th>4</th>\n",
              "      <td>01-06-2016 14:42</td>\n",
              "      <td>01-06-2016 15:49</td>\n",
              "      <td>Business</td>\n",
              "      <td>Fort Pierce</td>\n",
              "      <td>West Palm Beach</td>\n",
              "      <td>63.7</td>\n",
              "      <td>Customer Visit</td>\n",
              "    </tr>\n",
              "    <tr>\n",
              "      <th>...</th>\n",
              "      <td>...</td>\n",
              "      <td>...</td>\n",
              "      <td>...</td>\n",
              "      <td>...</td>\n",
              "      <td>...</td>\n",
              "      <td>...</td>\n",
              "      <td>...</td>\n",
              "    </tr>\n",
              "    <tr>\n",
              "      <th>995</th>\n",
              "      <td>11-23-2016 16:49</td>\n",
              "      <td>11-23-2016 17:00</td>\n",
              "      <td>Business</td>\n",
              "      <td>Cary</td>\n",
              "      <td>Cary</td>\n",
              "      <td>3.3</td>\n",
              "      <td>Not Mentioned</td>\n",
              "    </tr>\n",
              "    <tr>\n",
              "      <th>996</th>\n",
              "      <td>11-23-2016 18:37</td>\n",
              "      <td>11-23-2016 18:47</td>\n",
              "      <td>Business</td>\n",
              "      <td>Cary</td>\n",
              "      <td>Cary</td>\n",
              "      <td>1.3</td>\n",
              "      <td>Not Mentioned</td>\n",
              "    </tr>\n",
              "    <tr>\n",
              "      <th>997</th>\n",
              "      <td>11-25-2016 11:47</td>\n",
              "      <td>11-25-2016 12:04</td>\n",
              "      <td>Business</td>\n",
              "      <td>Cary</td>\n",
              "      <td>Durham</td>\n",
              "      <td>10.3</td>\n",
              "      <td>Meeting</td>\n",
              "    </tr>\n",
              "    <tr>\n",
              "      <th>998</th>\n",
              "      <td>11-25-2016 13:13</td>\n",
              "      <td>11-25-2016 13:31</td>\n",
              "      <td>Business</td>\n",
              "      <td>Durham</td>\n",
              "      <td>Cary</td>\n",
              "      <td>11.1</td>\n",
              "      <td>Meeting</td>\n",
              "    </tr>\n",
              "    <tr>\n",
              "      <th>999</th>\n",
              "      <td>11-26-2016 15:54</td>\n",
              "      <td>11-26-2016 15:59</td>\n",
              "      <td>Business</td>\n",
              "      <td>Cary</td>\n",
              "      <td>Cary</td>\n",
              "      <td>1.4</td>\n",
              "      <td>Not Mentioned</td>\n",
              "    </tr>\n",
              "  </tbody>\n",
              "</table>\n",
              "<p>1000 rows × 7 columns</p>\n",
              "</div>"
            ],
            "text/plain": [
              "          START_DATE*         END_DATE*  ... MILES*         PURPOSE*\n",
              "0    01-01-2016 21:11  01-01-2016 21:17  ...    5.1   Meal-Entertain\n",
              "1    01-02-2016 01:25  01-02-2016 01:37  ...    5.0    Not Mentioned\n",
              "2    01-02-2016 20:25  01-02-2016 20:38  ...    4.8  Errand-Supplies\n",
              "3    01-05-2016 17:31  01-05-2016 17:45  ...    4.7          Meeting\n",
              "4    01-06-2016 14:42  01-06-2016 15:49  ...   63.7   Customer Visit\n",
              "..                ...               ...  ...    ...              ...\n",
              "995  11-23-2016 16:49  11-23-2016 17:00  ...    3.3    Not Mentioned\n",
              "996  11-23-2016 18:37  11-23-2016 18:47  ...    1.3    Not Mentioned\n",
              "997  11-25-2016 11:47  11-25-2016 12:04  ...   10.3          Meeting\n",
              "998  11-25-2016 13:13  11-25-2016 13:31  ...   11.1          Meeting\n",
              "999  11-26-2016 15:54  11-26-2016 15:59  ...    1.4    Not Mentioned\n",
              "\n",
              "[1000 rows x 7 columns]"
            ]
          },
          "metadata": {
            "tags": []
          },
          "execution_count": 67
        }
      ]
    },
    {
      "cell_type": "code",
      "metadata": {
        "id": "4GFrt1oTEo6-",
        "colab_type": "code",
        "colab": {
          "base_uri": "https://localhost:8080/",
          "height": 202
        },
        "outputId": "4ac22ade-0147-4668-d9d8-c8eb6ba1c28b"
      },
      "source": [
        "df[\"PURPOSE*\"].value_counts()"
      ],
      "execution_count": null,
      "outputs": [
        {
          "output_type": "execute_result",
          "data": {
            "text/plain": [
              "Meeting            690\n",
              "Meal-Entertain     160\n",
              "Errand-Supplies    128\n",
              "Customer Visit     101\n",
              "Temporary Site      50\n",
              "Between Offices     18\n",
              "Moving               4\n",
              "Airport-Travel       3\n",
              "Commute              1\n",
              "Charity ($)          1\n",
              "Name: PURPOSE*, dtype: int64"
            ]
          },
          "metadata": {
            "tags": []
          },
          "execution_count": 61
        }
      ]
    },
    {
      "cell_type": "markdown",
      "metadata": {
        "id": "1-tna1HVEo7D",
        "colab_type": "text"
      },
      "source": [
        "### Matrix operations use case\n",
        "\n",
        "> Numpy section\n",
        "\n"
      ]
    },
    {
      "cell_type": "markdown",
      "metadata": {
        "id": "Tj6zI-csEo7E",
        "colab_type": "text"
      },
      "source": [
        "### Example 1 - compute month on month growth in sales"
      ]
    },
    {
      "cell_type": "code",
      "metadata": {
        "id": "z3OE_v9tEo7E",
        "colab_type": "code",
        "colab": {}
      },
      "source": [
        "store_sales.head()"
      ],
      "execution_count": null,
      "outputs": []
    },
    {
      "cell_type": "code",
      "metadata": {
        "id": "MWnfI18vEo7I",
        "colab_type": "code",
        "colab": {}
      },
      "source": [
        "sales_mat = np.array(store_sales.iloc[:,2:])"
      ],
      "execution_count": null,
      "outputs": []
    },
    {
      "cell_type": "code",
      "metadata": {
        "id": "YRmWZM9QEo7M",
        "colab_type": "code",
        "colab": {}
      },
      "source": [
        "sales_mat"
      ],
      "execution_count": null,
      "outputs": []
    },
    {
      "cell_type": "code",
      "metadata": {
        "id": "VKkCRyyjEo7Q",
        "colab_type": "code",
        "colab": {}
      },
      "source": [
        "sales_mat_lag = sales_mat[:,1:]\n",
        "sales_mat_lag"
      ],
      "execution_count": null,
      "outputs": []
    },
    {
      "cell_type": "code",
      "metadata": {
        "id": "ZLEG16j-Eo7T",
        "colab_type": "code",
        "colab": {}
      },
      "source": [
        "sales_mat_lag = sales_mat[:,1:]\n",
        "sales_mat_lag = np.c_[sales_mat_lag,np.zeros(100)]"
      ],
      "execution_count": null,
      "outputs": []
    },
    {
      "cell_type": "code",
      "metadata": {
        "id": "XVcsNFr3Eo7W",
        "colab_type": "code",
        "colab": {}
      },
      "source": [
        "sales_diff = sales_mat_lag - sales_mat"
      ],
      "execution_count": null,
      "outputs": []
    },
    {
      "cell_type": "code",
      "metadata": {
        "id": "qDncSVDzEo7Y",
        "colab_type": "code",
        "colab": {}
      },
      "source": [
        "perct_change = pd.DataFrame(sales_diff/sales_mat)"
      ],
      "execution_count": null,
      "outputs": []
    },
    {
      "cell_type": "code",
      "metadata": {
        "id": "sgJ5ZL-VEo7d",
        "colab_type": "code",
        "colab": {}
      },
      "source": [
        "perct_change.head()"
      ],
      "execution_count": null,
      "outputs": []
    },
    {
      "cell_type": "markdown",
      "metadata": {
        "id": "3BCmRbFYEo7i",
        "colab_type": "text"
      },
      "source": [
        "### Example 1 - compute net revenue"
      ]
    },
    {
      "cell_type": "code",
      "metadata": {
        "id": "IGmmMj1VEo7j",
        "colab_type": "code",
        "colab": {}
      },
      "source": [
        "profit_mat = np.random.uniform(low=0.05, high=0.25, size=(100,12))"
      ],
      "execution_count": null,
      "outputs": []
    },
    {
      "cell_type": "code",
      "metadata": {
        "id": "a6uV82xtEo7m",
        "colab_type": "code",
        "colab": {}
      },
      "source": [
        "## Find total annual profit for each store\n",
        "profit_mat = profit_mat.transpose()"
      ],
      "execution_count": null,
      "outputs": []
    },
    {
      "cell_type": "code",
      "metadata": {
        "id": "UGUkQ9_7Eo7o",
        "colab_type": "code",
        "colab": {}
      },
      "source": [
        "profit_mat.shape"
      ],
      "execution_count": null,
      "outputs": []
    },
    {
      "cell_type": "code",
      "metadata": {
        "id": "uqqDIzWZEo7q",
        "colab_type": "code",
        "colab": {}
      },
      "source": [
        "prof_matrix = np.dot(sales_mat,profit_mat)"
      ],
      "execution_count": null,
      "outputs": []
    },
    {
      "cell_type": "code",
      "metadata": {
        "id": "tk_OX5qiEo7t",
        "colab_type": "code",
        "colab": {}
      },
      "source": [
        "prof_matrix.shape"
      ],
      "execution_count": null,
      "outputs": []
    },
    {
      "cell_type": "code",
      "metadata": {
        "id": "cZZu7PZamX-A",
        "colab_type": "code",
        "colab": {}
      },
      "source": [
        "n=eval(input(\"Enter a number: \"))\n",
        "res = lambda n : 1 if n==1 or n==0 else n*res(n-1)\n",
        "print(n,\"! =\",res(n))"
      ],
      "execution_count": null,
      "outputs": []
    }
  ]
}