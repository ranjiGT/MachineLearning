{
  "nbformat": 4,
  "nbformat_minor": 0,
  "metadata": {
    "kernelspec": {
      "display_name": "Python 3",
      "language": "python",
      "name": "python3"
    },
    "language_info": {
      "codemirror_mode": {
        "name": "ipython",
        "version": 3
      },
      "file_extension": ".py",
      "mimetype": "text/x-python",
      "name": "python",
      "nbconvert_exporter": "python",
      "pygments_lexer": "ipython3",
      "version": "3.7.3"
    },
    "colab": {
      "name": "SmartTaxi_QLearning",
      "provenance": [],
      "include_colab_link": true
    }
  },
  "cells": [
    {
      "cell_type": "markdown",
      "metadata": {
        "id": "view-in-github",
        "colab_type": "text"
      },
      "source": [
        "<a href=\"https://colab.research.google.com/github/ranjiGT/Scyther/blob/master/SmartTaxi_QLearning.ipynb\" target=\"_parent\"><img src=\"https://colab.research.google.com/assets/colab-badge.svg\" alt=\"Open In Colab\"/></a>"
      ]
    },
    {
      "cell_type": "markdown",
      "metadata": {
        "id": "_FtsgPEH8KKz"
      },
      "source": [
        "# ***Teach a Taxi to pick up and drop off passengers at the right locations with Reinforcement Learning***"
      ]
    },
    {
      "cell_type": "code",
      "metadata": {
        "id": "xtk-Ol9q8KK0"
      },
      "source": [
        "import gym\n",
        "import numpy as np\n",
        "import pickle, os"
      ],
      "execution_count": null,
      "outputs": []
    },
    {
      "cell_type": "code",
      "metadata": {
        "id": "Re6MCjB28KK6",
        "outputId": "96eddf66-8a28-4045-f4de-8b185739b4e8",
        "colab": {
          "base_uri": "https://localhost:8080/",
          "height": 34
        }
      },
      "source": [
        "env = gym.make(\"Taxi-v3\")\n",
        "env"
      ],
      "execution_count": null,
      "outputs": [
        {
          "output_type": "execute_result",
          "data": {
            "text/plain": [
              "<TimeLimit<TaxiEnv<Taxi-v3>>>"
            ]
          },
          "metadata": {
            "tags": []
          },
          "execution_count": 3
        }
      ]
    },
    {
      "cell_type": "code",
      "metadata": {
        "id": "TUGp_o6H8KK-",
        "outputId": "edfc1be8-5e51-41f0-e3d8-419a4b205dfa",
        "colab": {
          "base_uri": "https://localhost:8080/",
          "height": 34
        }
      },
      "source": [
        "state = env.reset()\n",
        "state"
      ],
      "execution_count": null,
      "outputs": [
        {
          "output_type": "execute_result",
          "data": {
            "text/plain": [
              "24"
            ]
          },
          "metadata": {
            "tags": []
          },
          "execution_count": 10
        }
      ]
    },
    {
      "cell_type": "code",
      "metadata": {
        "id": "F8aghQF78KLH",
        "outputId": "967c0906-5e92-440d-a14d-faee74bca298",
        "colab": {
          "base_uri": "https://localhost:8080/",
          "height": 34
        }
      },
      "source": [
        "env.observation_space.n"
      ],
      "execution_count": null,
      "outputs": [
        {
          "output_type": "execute_result",
          "data": {
            "text/plain": [
              "500"
            ]
          },
          "metadata": {
            "tags": []
          },
          "execution_count": 11
        }
      ]
    },
    {
      "cell_type": "code",
      "metadata": {
        "id": "72xsp4xX8KLL",
        "outputId": "d98944f7-e74c-4a1b-e772-cd826ee1fe4b",
        "colab": {
          "base_uri": "https://localhost:8080/",
          "height": 158
        }
      },
      "source": [
        "env.render()"
      ],
      "execution_count": null,
      "outputs": [
        {
          "output_type": "stream",
          "text": [
            "+---------+\n",
            "|\u001b[35mR\u001b[0m:\u001b[43m \u001b[0m| : :\u001b[34;1mG\u001b[0m|\n",
            "| : | : : |\n",
            "| : : : : |\n",
            "| | : | : |\n",
            "|Y| : |B: |\n",
            "+---------+\n",
            "\n"
          ],
          "name": "stdout"
        }
      ]
    },
    {
      "cell_type": "code",
      "metadata": {
        "id": "-joUS6Tr8KLP",
        "outputId": "50e85414-a26e-4ce3-f3da-c88b770e5d07",
        "colab": {
          "base_uri": "https://localhost:8080/",
          "height": 34
        }
      },
      "source": [
        "state"
      ],
      "execution_count": null,
      "outputs": [
        {
          "output_type": "execute_result",
          "data": {
            "text/plain": [
              "24"
            ]
          },
          "metadata": {
            "tags": []
          },
          "execution_count": 13
        }
      ]
    },
    {
      "cell_type": "code",
      "metadata": {
        "id": "4z2zx0uF8KLW",
        "outputId": "57381a6a-cf1d-4367-a73d-e45b995643ca",
        "colab": {
          "base_uri": "https://localhost:8080/",
          "height": 158
        }
      },
      "source": [
        "env.render()"
      ],
      "execution_count": null,
      "outputs": [
        {
          "output_type": "stream",
          "text": [
            "+---------+\n",
            "|\u001b[35mR\u001b[0m:\u001b[43m \u001b[0m| : :\u001b[34;1mG\u001b[0m|\n",
            "| : | : : |\n",
            "| : : : : |\n",
            "| | : | : |\n",
            "|Y| : |B: |\n",
            "+---------+\n",
            "\n"
          ],
          "name": "stdout"
        }
      ]
    },
    {
      "cell_type": "markdown",
      "metadata": {
        "id": "-ANLnjX28KLa"
      },
      "source": [
        "<h1>Possible Actions</h1>\n",
        "\n",
        "down (0), up (1), right (2), left (3), pick-up (4), and drop-off (5)"
      ]
    },
    {
      "cell_type": "code",
      "metadata": {
        "id": "lu6p18gX8KLa"
      },
      "source": [
        "n_states = env.observation_space.n\n",
        "n_actions = env.action_space.n"
      ],
      "execution_count": null,
      "outputs": []
    },
    {
      "cell_type": "code",
      "metadata": {
        "id": "4VaFODHD8KLe",
        "outputId": "a73925bc-eadd-46e6-f473-ea3f2c4e8a8e",
        "colab": {
          "base_uri": "https://localhost:8080/",
          "height": 34
        }
      },
      "source": [
        "n_actions"
      ],
      "execution_count": null,
      "outputs": [
        {
          "output_type": "execute_result",
          "data": {
            "text/plain": [
              "6"
            ]
          },
          "metadata": {
            "tags": []
          },
          "execution_count": 16
        }
      ]
    },
    {
      "cell_type": "code",
      "metadata": {
        "id": "mxiOTEm08KLm"
      },
      "source": [
        "env.env.s = 150"
      ],
      "execution_count": null,
      "outputs": []
    },
    {
      "cell_type": "code",
      "metadata": {
        "id": "C24-fl3-8KLq",
        "outputId": "4d7ca6ab-3968-4741-b7ba-105f6f1ce738",
        "colab": {
          "base_uri": "https://localhost:8080/",
          "height": 158
        }
      },
      "source": [
        "env.render()"
      ],
      "execution_count": null,
      "outputs": [
        {
          "output_type": "stream",
          "text": [
            "+---------+\n",
            "|R: | : :G|\n",
            "| : |\u001b[43m \u001b[0m: : |\n",
            "| : : : : |\n",
            "| | : | : |\n",
            "|\u001b[35m\u001b[34;1mY\u001b[0m\u001b[0m| : |B: |\n",
            "+---------+\n",
            "\n"
          ],
          "name": "stdout"
        }
      ]
    },
    {
      "cell_type": "code",
      "metadata": {
        "id": "AM9jQgvl8KLt",
        "outputId": "077582d3-80e0-4ae5-ecab-91f6415643da",
        "colab": {
          "base_uri": "https://localhost:8080/",
          "height": 34
        }
      },
      "source": [
        "env.step(1)"
      ],
      "execution_count": null,
      "outputs": [
        {
          "output_type": "execute_result",
          "data": {
            "text/plain": [
              "(50, -1, False, {'prob': 1.0})"
            ]
          },
          "metadata": {
            "tags": []
          },
          "execution_count": 19
        }
      ]
    },
    {
      "cell_type": "markdown",
      "metadata": {
        "id": "EXJpFR_n8KLw"
      },
      "source": [
        "<h1>How good does behaving completely random do?</h1>"
      ]
    },
    {
      "cell_type": "markdown",
      "metadata": {
        "id": "eYsmzhV6QFOL"
      },
      "source": [
        "# ***Presetting the variables***"
      ]
    },
    {
      "cell_type": "code",
      "metadata": {
        "id": "v8ecWpg68KLx"
      },
      "source": [
        "state = env.reset()\n",
        "counter = 0\n",
        "g = 0\n",
        "reward = None"
      ],
      "execution_count": null,
      "outputs": []
    },
    {
      "cell_type": "code",
      "metadata": {
        "id": "XqrzWC_I8KL1"
      },
      "source": [
        "while reward != 20:\n",
        "    state, reward, done, info = env.step(env.action_space.sample())\n",
        "    counter += 1\n",
        "    g += reward"
      ],
      "execution_count": null,
      "outputs": []
    },
    {
      "cell_type": "code",
      "metadata": {
        "id": "sedlLUDt8KL7",
        "outputId": "0e63aa6a-96c4-48b5-a110-adbcaadffe09",
        "colab": {
          "base_uri": "https://localhost:8080/",
          "height": 34
        }
      },
      "source": [
        "print(\"Solved in {} Steps with a total reward of {}\".format(counter,g))"
      ],
      "execution_count": null,
      "outputs": [
        {
          "output_type": "stream",
          "text": [
            "Solved in 4189 Steps with a total reward of -17146\n"
          ],
          "name": "stdout"
        }
      ]
    },
    {
      "cell_type": "markdown",
      "metadata": {
        "id": "QBDQhLHP8KL-"
      },
      "source": [
        "## Let's look at just one episode and see how the Q values change after each step using the formula below"
      ]
    },
    {
      "cell_type": "code",
      "metadata": {
        "id": "vpYFHxhb8KL_"
      },
      "source": [
        "Q = np.zeros([n_states, n_actions])"
      ],
      "execution_count": null,
      "outputs": []
    },
    {
      "cell_type": "code",
      "metadata": {
        "id": "5zG7ANVFQZm6",
        "outputId": "31f98202-525c-4458-b716-5ca086e14e01",
        "colab": {
          "base_uri": "https://localhost:8080/",
          "height": 140
        }
      },
      "source": [
        "Q"
      ],
      "execution_count": null,
      "outputs": [
        {
          "output_type": "execute_result",
          "data": {
            "text/plain": [
              "array([[0., 0., 0., 0., 0., 0.],\n",
              "       [0., 0., 0., 0., 0., 0.],\n",
              "       [0., 0., 0., 0., 0., 0.],\n",
              "       ...,\n",
              "       [0., 0., 0., 0., 0., 0.],\n",
              "       [0., 0., 0., 0., 0., 0.],\n",
              "       [0., 0., 0., 0., 0., 0.]])"
            ]
          },
          "metadata": {
            "tags": []
          },
          "execution_count": 24
        }
      ]
    },
    {
      "cell_type": "code",
      "metadata": {
        "id": "4vFPWaTc8KMF"
      },
      "source": [
        "episodes = 1\n",
        "G = 0\n",
        "alpha = 0.618"
      ],
      "execution_count": null,
      "outputs": []
    },
    {
      "cell_type": "code",
      "metadata": {
        "id": "NjQYt1Au8KMI",
        "outputId": "0be31c76-c28c-4354-d99a-df5c6482c54e",
        "colab": {
          "base_uri": "https://localhost:8080/",
          "height": 34
        }
      },
      "source": [
        "for episode in range(1,episodes+1):\n",
        "    done = False\n",
        "    G, reward = 0,0\n",
        "    state = env.reset()\n",
        "    firstState = state\n",
        "    print(\"Initial State = {}\".format(state))\n",
        "    while reward != 20:\n",
        "        action = np.argmax(Q[state]) \n",
        "        state2, reward, done, info = env.step(action)\n",
        "        Q[state,action] += alpha * (reward + np.max(Q[state2]) - Q[state,action]) \n",
        "        G += reward\n",
        "        state = state2"
      ],
      "execution_count": null,
      "outputs": [
        {
          "output_type": "stream",
          "text": [
            "Initial State = 162\n"
          ],
          "name": "stdout"
        }
      ]
    },
    {
      "cell_type": "code",
      "metadata": {
        "id": "pq8t3Yje8KMM"
      },
      "source": [
        "finalState = state"
      ],
      "execution_count": null,
      "outputs": []
    },
    {
      "cell_type": "code",
      "metadata": {
        "id": "qzrZveADQeVK",
        "outputId": "285e0df9-6a54-43cb-9107-fa52f2d74811",
        "colab": {
          "base_uri": "https://localhost:8080/",
          "height": 34
        }
      },
      "source": [
        "finalState"
      ],
      "execution_count": null,
      "outputs": [
        {
          "output_type": "execute_result",
          "data": {
            "text/plain": [
              "410"
            ]
          },
          "metadata": {
            "tags": []
          },
          "execution_count": 29
        }
      ]
    },
    {
      "cell_type": "markdown",
      "metadata": {
        "id": "WtIuweu68KMP"
      },
      "source": [
        "## Let's look at the first step:"
      ]
    },
    {
      "cell_type": "code",
      "metadata": {
        "id": "wFFoW_jP8KMP",
        "outputId": "85a526fa-38f6-4378-b7cd-02df9336cfe3",
        "colab": {
          "base_uri": "https://localhost:8080/",
          "height": 34
        }
      },
      "source": [
        "firstState"
      ],
      "execution_count": null,
      "outputs": [
        {
          "output_type": "execute_result",
          "data": {
            "text/plain": [
              "162"
            ]
          },
          "metadata": {
            "tags": []
          },
          "execution_count": 30
        }
      ]
    },
    {
      "cell_type": "markdown",
      "metadata": {
        "id": "sf1WbWlQ8KMU"
      },
      "source": [
        "## Let's look at the final step:"
      ]
    },
    {
      "cell_type": "code",
      "metadata": {
        "id": "8Qm0y3aZ8KMU",
        "outputId": "344da74d-ef83-4eca-cd63-85693af806fa",
        "colab": {
          "base_uri": "https://localhost:8080/",
          "height": 34
        }
      },
      "source": [
        "finalState"
      ],
      "execution_count": null,
      "outputs": [
        {
          "output_type": "execute_result",
          "data": {
            "text/plain": [
              "410"
            ]
          },
          "metadata": {
            "tags": []
          },
          "execution_count": 31
        }
      ]
    },
    {
      "cell_type": "code",
      "metadata": {
        "id": "49LUkcTM8KMZ",
        "outputId": "867b1def-26a4-4b18-b631-5f756b249cb3",
        "colab": {
          "base_uri": "https://localhost:8080/",
          "height": 140
        }
      },
      "source": [
        "Q"
      ],
      "execution_count": null,
      "outputs": [
        {
          "output_type": "execute_result",
          "data": {
            "text/plain": [
              "array([[ 0.      ,  0.      ,  0.      ,  0.      ,  0.      ,  0.      ],\n",
              "       [ 0.      ,  0.      ,  0.      ,  0.      ,  0.      ,  0.      ],\n",
              "       [-1.236   , -1.236   , -1.617924, -1.236   , -1.236   , -6.18    ],\n",
              "       ...,\n",
              "       [ 0.      ,  0.      ,  0.      ,  0.      ,  0.      ,  0.      ],\n",
              "       [-0.618   , -0.618   ,  0.      ,  0.      ,  0.      ,  0.      ],\n",
              "       [ 0.      ,  0.      ,  0.      ,  0.      ,  0.      ,  0.      ]])"
            ]
          },
          "metadata": {
            "tags": []
          },
          "execution_count": 32
        }
      ]
    },
    {
      "cell_type": "markdown",
      "metadata": {
        "id": "wMG2rfex8KMc"
      },
      "source": [
        "## Let's run over multiple episodes so that we can converge on a optimal policy"
      ]
    },
    {
      "cell_type": "code",
      "metadata": {
        "id": "4amzDqSd8KMd"
      },
      "source": [
        "episodes = 5000\n",
        "rewardTracker = []"
      ],
      "execution_count": null,
      "outputs": []
    },
    {
      "cell_type": "code",
      "metadata": {
        "id": "5eXi54558KMf"
      },
      "source": [
        "G = 0\n",
        "alpha = 0.618"
      ],
      "execution_count": null,
      "outputs": []
    },
    {
      "cell_type": "code",
      "metadata": {
        "id": "cy7ADtOc8KMj",
        "outputId": "7fdca65c-5144-4416-c0d4-1481036869f5",
        "colab": {
          "base_uri": "https://localhost:8080/",
          "height": 897
        }
      },
      "source": [
        "for episode in range(1,episodes+1):\n",
        "    done = False\n",
        "    G, reward = 0,0\n",
        "    state = env.reset()\n",
        "    while done != True:\n",
        "        action = np.argmax(Q[state]) \n",
        "        state2, reward, done, info = env.step(action) \n",
        "        Q[state,action] += alpha * ((reward + (np.max(Q[state2]))  - Q[state,action]))\n",
        "        G += reward\n",
        "        state = state2\n",
        "        \n",
        "    if episode % 100 == 0:\n",
        "        print('Episode {} Total Reward: {}'.format(episode,G))"
      ],
      "execution_count": null,
      "outputs": [
        {
          "output_type": "stream",
          "text": [
            "Episode 100 Total Reward: 7\n",
            "Episode 200 Total Reward: 5\n",
            "Episode 300 Total Reward: 6\n",
            "Episode 400 Total Reward: 6\n",
            "Episode 500 Total Reward: 5\n",
            "Episode 600 Total Reward: 13\n",
            "Episode 700 Total Reward: 8\n",
            "Episode 800 Total Reward: 11\n",
            "Episode 900 Total Reward: 14\n",
            "Episode 1000 Total Reward: 10\n",
            "Episode 1100 Total Reward: 7\n",
            "Episode 1200 Total Reward: 7\n",
            "Episode 1300 Total Reward: 8\n",
            "Episode 1400 Total Reward: 12\n",
            "Episode 1500 Total Reward: 12\n",
            "Episode 1600 Total Reward: 9\n",
            "Episode 1700 Total Reward: 7\n",
            "Episode 1800 Total Reward: 6\n",
            "Episode 1900 Total Reward: 10\n",
            "Episode 2000 Total Reward: 7\n",
            "Episode 2100 Total Reward: 8\n",
            "Episode 2200 Total Reward: 10\n",
            "Episode 2300 Total Reward: 7\n",
            "Episode 2400 Total Reward: 6\n",
            "Episode 2500 Total Reward: 7\n",
            "Episode 2600 Total Reward: 4\n",
            "Episode 2700 Total Reward: 7\n",
            "Episode 2800 Total Reward: 13\n",
            "Episode 2900 Total Reward: 11\n",
            "Episode 3000 Total Reward: 10\n",
            "Episode 3100 Total Reward: 10\n",
            "Episode 3200 Total Reward: 5\n",
            "Episode 3300 Total Reward: 7\n",
            "Episode 3400 Total Reward: 3\n",
            "Episode 3500 Total Reward: 6\n",
            "Episode 3600 Total Reward: 4\n",
            "Episode 3700 Total Reward: 8\n",
            "Episode 3800 Total Reward: 8\n",
            "Episode 3900 Total Reward: 4\n",
            "Episode 4000 Total Reward: 5\n",
            "Episode 4100 Total Reward: 11\n",
            "Episode 4200 Total Reward: 4\n",
            "Episode 4300 Total Reward: 7\n",
            "Episode 4400 Total Reward: 4\n",
            "Episode 4500 Total Reward: 7\n",
            "Episode 4600 Total Reward: 4\n",
            "Episode 4700 Total Reward: 12\n",
            "Episode 4800 Total Reward: 11\n",
            "Episode 4900 Total Reward: 11\n",
            "Episode 5000 Total Reward: 8\n"
          ],
          "name": "stdout"
        }
      ]
    },
    {
      "cell_type": "code",
      "metadata": {
        "id": "3Mwu78I0D9cb",
        "outputId": "1a774e7d-e424-4085-820c-8462e12f5c47",
        "colab": {
          "base_uri": "https://localhost:8080/",
          "height": 34
        }
      },
      "source": [
        "rewardTracker"
      ],
      "execution_count": null,
      "outputs": [
        {
          "output_type": "execute_result",
          "data": {
            "text/plain": [
              "[]"
            ]
          },
          "metadata": {
            "tags": []
          },
          "execution_count": 36
        }
      ]
    },
    {
      "cell_type": "markdown",
      "metadata": {
        "id": "u_VeM42a8KMm"
      },
      "source": [
        "## Now that we have learned the optimal Q Values we have developed a optimal policy and have no need to train the agent anymore"
      ]
    },
    {
      "cell_type": "code",
      "metadata": {
        "id": "UIsOPyTR8KMn"
      },
      "source": [
        "state = env.reset()\n",
        "done = None"
      ],
      "execution_count": null,
      "outputs": []
    },
    {
      "cell_type": "code",
      "metadata": {
        "id": "wyRCQYX58KMq",
        "outputId": "7395942a-555c-469e-e252-d57c1a6e81be",
        "colab": {
          "base_uri": "https://localhost:8080/",
          "height": 1000
        }
      },
      "source": [
        "while done != True:\n",
        "    # We simply take the action with the highest Q Value\n",
        "    action = np.argmax(Q[state])\n",
        "    state, reward, done, info = env.step(action)\n",
        "    env.render()"
      ],
      "execution_count": null,
      "outputs": [
        {
          "output_type": "stream",
          "text": [
            "+---------+\n",
            "|\u001b[35mR\u001b[0m: | : :G|\n",
            "| :\u001b[43m \u001b[0m| : : |\n",
            "| : : : : |\n",
            "| | : | : |\n",
            "|\u001b[34;1mY\u001b[0m| : |B: |\n",
            "+---------+\n",
            "  (South)\n",
            "+---------+\n",
            "|\u001b[35mR\u001b[0m: | : :G|\n",
            "| : | : : |\n",
            "| :\u001b[43m \u001b[0m: : : |\n",
            "| | : | : |\n",
            "|\u001b[34;1mY\u001b[0m| : |B: |\n",
            "+---------+\n",
            "  (South)\n",
            "+---------+\n",
            "|\u001b[35mR\u001b[0m: | : :G|\n",
            "| : | : : |\n",
            "|\u001b[43m \u001b[0m: : : : |\n",
            "| | : | : |\n",
            "|\u001b[34;1mY\u001b[0m| : |B: |\n",
            "+---------+\n",
            "  (West)\n",
            "+---------+\n",
            "|\u001b[35mR\u001b[0m: | : :G|\n",
            "| : | : : |\n",
            "| : : : : |\n",
            "|\u001b[43m \u001b[0m| : | : |\n",
            "|\u001b[34;1mY\u001b[0m| : |B: |\n",
            "+---------+\n",
            "  (South)\n",
            "+---------+\n",
            "|\u001b[35mR\u001b[0m: | : :G|\n",
            "| : | : : |\n",
            "| : : : : |\n",
            "| | : | : |\n",
            "|\u001b[34;1m\u001b[43mY\u001b[0m\u001b[0m| : |B: |\n",
            "+---------+\n",
            "  (South)\n",
            "+---------+\n",
            "|\u001b[35mR\u001b[0m: | : :G|\n",
            "| : | : : |\n",
            "| : : : : |\n",
            "| | : | : |\n",
            "|\u001b[42mY\u001b[0m| : |B: |\n",
            "+---------+\n",
            "  (Pickup)\n",
            "+---------+\n",
            "|\u001b[35mR\u001b[0m: | : :G|\n",
            "| : | : : |\n",
            "| : : : : |\n",
            "|\u001b[42m_\u001b[0m| : | : |\n",
            "|Y| : |B: |\n",
            "+---------+\n",
            "  (North)\n",
            "+---------+\n",
            "|\u001b[35mR\u001b[0m: | : :G|\n",
            "| : | : : |\n",
            "|\u001b[42m_\u001b[0m: : : : |\n",
            "| | : | : |\n",
            "|Y| : |B: |\n",
            "+---------+\n",
            "  (North)\n",
            "+---------+\n",
            "|\u001b[35mR\u001b[0m: | : :G|\n",
            "|\u001b[42m_\u001b[0m: | : : |\n",
            "| : : : : |\n",
            "| | : | : |\n",
            "|Y| : |B: |\n",
            "+---------+\n",
            "  (North)\n",
            "+---------+\n",
            "|\u001b[35m\u001b[42mR\u001b[0m\u001b[0m: | : :G|\n",
            "| : | : : |\n",
            "| : : : : |\n",
            "| | : | : |\n",
            "|Y| : |B: |\n",
            "+---------+\n",
            "  (North)\n",
            "+---------+\n",
            "|\u001b[35m\u001b[34;1m\u001b[43mR\u001b[0m\u001b[0m\u001b[0m: | : :G|\n",
            "| : | : : |\n",
            "| : : : : |\n",
            "| | : | : |\n",
            "|Y| : |B: |\n",
            "+---------+\n",
            "  (Dropoff)\n"
          ],
          "name": "stdout"
        }
      ]
    },
    {
      "cell_type": "code",
      "metadata": {
        "id": "rZxkfMZ58KMx"
      },
      "source": [
        "with open(\"smartTaxi_qTable.pkl\", 'wb') as f:\n",
        "    pickle.dump(Q, f)"
      ],
      "execution_count": null,
      "outputs": []
    },
    {
      "cell_type": "code",
      "metadata": {
        "id": "QseBN5cp8KM0"
      },
      "source": [
        " with open(\"smartTaxi_qTable.pkl\", 'rb') as f:\n",
        "    Qtest = pickle.load(f)"
      ],
      "execution_count": null,
      "outputs": []
    }
  ]
}